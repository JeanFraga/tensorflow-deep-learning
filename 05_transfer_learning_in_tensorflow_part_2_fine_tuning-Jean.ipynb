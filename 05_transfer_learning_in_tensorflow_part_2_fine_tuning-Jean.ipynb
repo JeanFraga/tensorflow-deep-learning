{
 "cells": [
  {
   "cell_type": "markdown",
   "metadata": {
    "colab_type": "text",
    "id": "view-in-github"
   },
   "source": [
    "<a href=\"https://colab.research.google.com/github/mrdbourke/tensorflow-deep-learning/blob/main/05_transfer_learning_in_tensorflow_part_2_fine_tuning.ipynb\" target=\"_parent\"><img src=\"https://colab.research.google.com/assets/colab-badge.svg\" alt=\"Open In Colab\"/></a>"
   ]
  },
  {
   "cell_type": "markdown",
   "metadata": {
    "id": "UTWetPM7AWfY"
   },
   "source": [
    "# 05. Transfer Learning with TensorFlow Part 2: Fine-tuning\n",
    "\n",
    "In the previous section, we saw how we could leverage feature extraction transfer learning to get far better results on our Food Vision project than building our own models (even with less data).\n",
    "\n",
    "Now we're going to cover another type of transfer learning: fine-tuning.\n",
    "\n",
    "In **fine-tuning transfer learning** the pre-trained model weights from another model are unfrozen and tweaked during to better suit your own data.\n",
    "\n",
    "For feature extraction transfer learning, you may only train the top 1-3 layers of a pre-trained model with your own data, in fine-tuning transfer learning, you might train 1-3+ layers of a pre-trained model (where the '+' indicates that many or all of the layers could be trained).\n",
    "\n",
    "![](https://raw.githubusercontent.com/mrdbourke/tensorflow-deep-learning/main/images/05-transfer-learning-feature-extraction-vs-fine-tuning.png)\n",
    "*Feature extraction transfer learning vs. fine-tuning transfer learning. The main difference between the two is that in fine-tuning, more layers of the pre-trained model get unfrozen and tuned on custom data. This fine-tuning usually takes more data than feature extraction to be effective.*\n",
    "\n",
    "## What we're going to cover\n",
    "\n",
    "We're going to go through the follow with TensorFlow:\n",
    "\n",
    "- Introduce fine-tuning, a type of transfer learning to modify a pre-trained model to be more suited to your data\n",
    "- Using the Keras Functional API (a differnt way to build models in Keras)\n",
    "- Using a smaller dataset to experiment faster (e.g. 1-10% of training samples of 10 classes of food)\n",
    "- Data augmentation (how to make your training dataset more diverse without adding more data)\n",
    "- Running a series of modelling experiments on our Food Vision data\n",
    "  - Model 0: a transfer learning model using the Keras Functional API\n",
    "  - Model 1: a feature extraction transfer learning model on 1% of the data with data augmentation\n",
    "  - Model 2: a feature extraction transfer learning model on 10% of the data with data augmentation\n",
    "  - Model 3: a fine-tuned transfer learning model on 10% of the data\n",
    "  - Model 4: a fine-tuned transfer learning model on 100% of the data\n",
    "- Introduce the ModelCheckpoint callback to save intermediate training results\n",
    "- Compare model experiments results using TensorBoard\n",
    "\n",
    "## How you can use this notebook\n",
    "\n",
    "You can read through the descriptions and the code (it should all run, except for the cells which error on purpose), but there's a better option.\n",
    "\n",
    "Write all of the code yourself.\n",
    "\n",
    "Yes. I'm serious. Create a new notebook, and rewrite each line by yourself. Investigate it, see if you can break it, why does it break?\n",
    "\n",
    "You don't have to write the text descriptions but writing the code yourself is a great way to get hands-on experience.\n",
    "\n",
    "Don't worry if you make mistakes, we all do. The way to get better and make less mistakes is to **write more code**."
   ]
  },
  {
   "cell_type": "code",
   "execution_count": 1,
   "metadata": {
    "colab": {
     "base_uri": "https://localhost:8080/"
    },
    "id": "Nq4kxIpQMpZT",
    "outputId": "8248e560-36dc-4570-ceac-a962b6151cad"
   },
   "outputs": [
    {
     "name": "stdout",
     "output_type": "stream",
     "text": [
      "Mon Jun 20 20:46:06 2022       \n",
      "+-----------------------------------------------------------------------------+\n",
      "| NVIDIA-SMI 515.48.07    Driver Version: 515.48.07    CUDA Version: 11.7     |\n",
      "|-------------------------------+----------------------+----------------------+\n",
      "| GPU  Name        Persistence-M| Bus-Id        Disp.A | Volatile Uncorr. ECC |\n",
      "| Fan  Temp  Perf  Pwr:Usage/Cap|         Memory-Usage | GPU-Util  Compute M. |\n",
      "|                               |                      |               MIG M. |\n",
      "|===============================+======================+======================|\n",
      "|   0  NVIDIA GeForce ...  Off  | 00000000:01:00.0  On |                  Off |\n",
      "| 33%   40C    P0    76W / 450W |    792MiB / 24564MiB |      7%      Default |\n",
      "|                               |                      |                  N/A |\n",
      "+-------------------------------+----------------------+----------------------+\n",
      "                                                                               \n",
      "+-----------------------------------------------------------------------------+\n",
      "| Processes:                                                                  |\n",
      "|  GPU   GI   CI        PID   Type   Process name                  GPU Memory |\n",
      "|        ID   ID                                                   Usage      |\n",
      "|=============================================================================|\n",
      "|    0   N/A  N/A      1261      G   /usr/lib/Xorg                     386MiB |\n",
      "|    0   N/A  N/A      1326      G   /usr/bin/gnome-shell               95MiB |\n",
      "|    0   N/A  N/A      1803      G   ...569198235975930824,131072      116MiB |\n",
      "|    0   N/A  N/A      6796      G   ...RendererForSitePerProcess      207MiB |\n",
      "+-----------------------------------------------------------------------------+\n"
     ]
    }
   ],
   "source": [
    "# Are we using a GPU? (if not & you're using Google Colab, go to Runtime -> Change Runtime Type -> Harware Accelerator: GPU )\n",
    "!nvidia-smi"
   ]
  },
  {
   "cell_type": "markdown",
   "metadata": {
    "id": "P_t7iZxXvlZ9"
   },
   "source": [
    "## Creating helper functions\n",
    "\n",
    "Throughout your machine learning experiments, you'll likely come across snippets of code you want to use over and over again.\n",
    "\n",
    "For example, a plotting function which plots a model's `history` object (see `plot_loss_curves()` below).\n",
    "\n",
    "You could recreate these functions over and over again.\n",
    "\n",
    "But as you might've guessed, rewritting the same functions becomes tedious.\n",
    "\n",
    "One of the solutions is to store them in a helper script such as [`helper_functions.py`](https://github.com/mrdbourke/tensorflow-deep-learning/blob/main/extras/helper_functions.py). And then import the necesary functionality when you need it.\n",
    "\n",
    "For example, you might write:\n",
    "\n",
    "```\n",
    "from helper_functions import plot_loss_curves\n",
    "\n",
    "...\n",
    "\n",
    "plot_loss_curves(history)\n",
    "```\n",
    "\n",
    "Let's see what this looks like."
   ]
  },
  {
   "cell_type": "code",
   "execution_count": 17,
   "metadata": {
    "colab": {
     "base_uri": "https://localhost:8080/"
    },
    "id": "wEuiAtXkhsJM",
    "outputId": "c2ca862e-a4f8-4bd4-8a24-f015df35742e"
   },
   "outputs": [
    {
     "name": "stdout",
     "output_type": "stream",
     "text": [
      "/home/datascience/Documents/tensorflow-deep-learning/extras\n",
      "/home/datascience/Documents/tensorflow-deep-learning\n"
     ]
    }
   ],
   "source": [
    "# Get helper_functions.py script from course GitHub\n",
    "# !wget https://raw.githubusercontent.com/mrdbourke/tensorflow-deep-learning/main/extras/helper_functions.py \n",
    "\n",
    "# Import helper functions we're going to use\n",
    "%cd extras/\n",
    "from helper_functions import create_tensorboard_callback, plot_loss_curves, unzip_data, walk_through_dir\n",
    "%cd .."
   ]
  },
  {
   "cell_type": "markdown",
   "metadata": {
    "id": "AZUvqGMxizYc"
   },
   "source": [
    "Wonderful, now we've got a bunch of helper functions we can use throughout the notebook without having to rewrite them from scratch each time.\n",
    "\n",
    "> 🔑 **Note:** If you're running this notebook in Google Colab, when it times out Colab will delete the `helper_functions.py` file. So to use the functions imported above, you'll have to rerun the cell."
   ]
  },
  {
   "cell_type": "markdown",
   "metadata": {
    "id": "TWemvyC2pv3T"
   },
   "source": [
    "## 10 Food Classes: Working with less data\n",
    "\n",
    "We saw in the [previous notebook](https://github.com/mrdbourke/tensorflow-deep-learning/blob/main/04_transfer_learning_in_tensorflow_part_1_feature_extraction.ipynb) that we could get great results with only 10% of the training data using transfer learning with TensorFlow Hub.\n",
    "\n",
    "In this notebook, we're going to continue to work with smaller subsets of the data, except this time we'll have a look at how we can use the in-built pretrained models within the `tf.keras.applications` module as well as how to fine-tune them to our own custom dataset.\n",
    "\n",
    "We'll also practice using a new but similar dataloader function to what we've used before, [`image_dataset_from_directory()`](https://www.tensorflow.org/api_docs/python/tf/keras/preprocessing/image_dataset_from_directory) which is part of the [`tf.keras.preprocessing`](https://www.tensorflow.org/api_docs/python/tf/keras/preprocessing) module.\n",
    "\n",
    "Finally, we'll also be practicing using the [Keras Functional API](https://keras.io/guides/functional_api/) for building deep learning models. The Functional API is a more flexible way to create models than the tf.keras.Sequential API.\n",
    "\n",
    "We'll explore each of these in more detail as we go.\n",
    "\n",
    "Let's start by downloading some data."
   ]
  },
  {
   "cell_type": "code",
   "execution_count": 3,
   "metadata": {
    "colab": {
     "base_uri": "https://localhost:8080/"
    },
    "id": "P7m6pjH0JTyJ",
    "outputId": "1877d951-5772-4d4a-9b2c-e1b35713cb28"
   },
   "outputs": [],
   "source": [
    "# Get 10% of the data of the 10 classes\n",
    "# !wget https://storage.googleapis.com/ztm_tf_course/food_vision/10_food_classes_10_percent.zip \n",
    "\n",
    "# unzip_data(\"10_food_classes_10_percent.zip\")"
   ]
  },
  {
   "cell_type": "markdown",
   "metadata": {
    "id": "fknY0DqM14EO"
   },
   "source": [
    "The dataset we're downloading is the 10 food classes dataset (from Food 101) with 10% of the training images we used in the previous notebook.\n",
    "\n",
    "> 🔑 **Note:** You can see how this dataset was created in the [image data modification notebook](https://github.com/mrdbourke/tensorflow-deep-learning/blob/main/extras/image_data_modification.ipynb).\n",
    "\n"
   ]
  },
  {
   "cell_type": "code",
   "execution_count": 18,
   "metadata": {
    "colab": {
     "base_uri": "https://localhost:8080/"
    },
    "id": "8IHQ3i9s2lRm",
    "outputId": "4311188c-1d7c-4716-b7dd-04305dc5de96"
   },
   "outputs": [
    {
     "name": "stdout",
     "output_type": "stream",
     "text": [
      "There are 2 directories and 0 images in '10_food_classes_10_percent'.\n",
      "There are 10 directories and 0 images in '10_food_classes_10_percent/test'.\n",
      "There are 0 directories and 250 images in '10_food_classes_10_percent/test/grilled_salmon'.\n",
      "There are 0 directories and 250 images in '10_food_classes_10_percent/test/chicken_wings'.\n",
      "There are 0 directories and 250 images in '10_food_classes_10_percent/test/hamburger'.\n",
      "There are 0 directories and 250 images in '10_food_classes_10_percent/test/ramen'.\n",
      "There are 0 directories and 250 images in '10_food_classes_10_percent/test/steak'.\n",
      "There are 0 directories and 250 images in '10_food_classes_10_percent/test/ice_cream'.\n",
      "There are 0 directories and 250 images in '10_food_classes_10_percent/test/fried_rice'.\n",
      "There are 0 directories and 250 images in '10_food_classes_10_percent/test/pizza'.\n",
      "There are 0 directories and 250 images in '10_food_classes_10_percent/test/sushi'.\n",
      "There are 0 directories and 250 images in '10_food_classes_10_percent/test/chicken_curry'.\n",
      "There are 10 directories and 0 images in '10_food_classes_10_percent/train'.\n",
      "There are 0 directories and 75 images in '10_food_classes_10_percent/train/grilled_salmon'.\n",
      "There are 0 directories and 75 images in '10_food_classes_10_percent/train/chicken_wings'.\n",
      "There are 0 directories and 75 images in '10_food_classes_10_percent/train/hamburger'.\n",
      "There are 0 directories and 75 images in '10_food_classes_10_percent/train/ramen'.\n",
      "There are 0 directories and 75 images in '10_food_classes_10_percent/train/steak'.\n",
      "There are 0 directories and 75 images in '10_food_classes_10_percent/train/ice_cream'.\n",
      "There are 0 directories and 75 images in '10_food_classes_10_percent/train/fried_rice'.\n",
      "There are 0 directories and 75 images in '10_food_classes_10_percent/train/pizza'.\n",
      "There are 0 directories and 75 images in '10_food_classes_10_percent/train/sushi'.\n",
      "There are 0 directories and 75 images in '10_food_classes_10_percent/train/chicken_curry'.\n"
     ]
    }
   ],
   "source": [
    "# Walk through 10 percent data directory and list number of files\n",
    "walk_through_dir(\"10_food_classes_10_percent\")"
   ]
  },
  {
   "cell_type": "markdown",
   "metadata": {
    "id": "a4bhxd-z2Vov"
   },
   "source": [
    "We can see that each of the training directories contain 75 images and each of the testing directories contain 250 images.\n",
    "\n",
    "Let's define our training and test filepaths."
   ]
  },
  {
   "cell_type": "code",
   "execution_count": 19,
   "metadata": {
    "id": "tELTNwq6L43a"
   },
   "outputs": [],
   "source": [
    "# Create training and test directories\n",
    "train_dir = \"10_food_classes_10_percent/train/\"\n",
    "test_dir = \"10_food_classes_10_percent/test/\""
   ]
  },
  {
   "cell_type": "markdown",
   "metadata": {
    "id": "vkEZyNnLzppR"
   },
   "source": [
    "Now we've got some image data, we need a way of loading it into a TensorFlow compatible format.\n",
    "\n",
    "Previously, we've used the [`ImageDataGenerator`](https://www.tensorflow.org/api_docs/python/tf/keras/preprocessing/image/ImageDataGenerator) class. And while this works well and is still very commonly used, this time we're going to use the `image_data_from_directory` function.\n",
    "\n",
    "It works much the same way as `ImageDataGenerator`'s `flow_from_directory` method meaning your images need to be in the following file format:\n",
    "\n",
    "```\n",
    "Example of file structure\n",
    "\n",
    "10_food_classes_10_percent <- top level folder\n",
    "└───train <- training images\n",
    "│   └───pizza\n",
    "│   │   │   1008104.jpg\n",
    "│   │   │   1638227.jpg\n",
    "│   │   │   ...      \n",
    "│   └───steak\n",
    "│       │   1000205.jpg\n",
    "│       │   1647351.jpg\n",
    "│       │   ...\n",
    "│   \n",
    "└───test <- testing images\n",
    "│   └───pizza\n",
    "│   │   │   1001116.jpg\n",
    "│   │   │   1507019.jpg\n",
    "│   │   │   ...      \n",
    "│   └───steak\n",
    "│       │   100274.jpg\n",
    "│       │   1653815.jpg\n",
    "│       │   ...    \n",
    "```\n",
    "\n",
    "One of the main benefits of using [`tf.keras.prepreprocessing.image_dataset_from_directory()`](https://www.tensorflow.org/api_docs/python/tf/keras/preprocessing/image_dataset_from_directory) rather than `ImageDataGenerator` is that it creates a [`tf.data.Dataset`](https://www.tensorflow.org/api_docs/python/tf/data/Dataset) object rather than a generator. The main advantage of this is the `tf.data.Dataset` API is much more efficient (faster) than the `ImageDataGenerator` API which is paramount for larger datasets.\n",
    "\n",
    "Let's see it in action."
   ]
  },
  {
   "cell_type": "code",
   "execution_count": 20,
   "metadata": {
    "colab": {
     "base_uri": "https://localhost:8080/"
    },
    "id": "QcBs8C5wJ0et",
    "outputId": "0dbce4fd-5b92-4eb3-8688-f4b1b5e0f22d"
   },
   "outputs": [
    {
     "name": "stdout",
     "output_type": "stream",
     "text": [
      "Found 750 files belonging to 10 classes.\n",
      "Found 2500 files belonging to 10 classes.\n"
     ]
    }
   ],
   "source": [
    "# Create data inputs\n",
    "import tensorflow as tf\n",
    "\n",
    "IMG_SIZE = (224, 224)\n",
    "BATCH_SIZE = 32\n",
    "train_data_10_percent = tf.keras.preprocessing.image_dataset_from_directory(\n",
    "    directory=train_dir,\n",
    "    image_size=IMG_SIZE,\n",
    "    label_mode='categorical',\n",
    "    batch_size=BATCH_SIZE,\n",
    ")\n",
    "\n",
    "test_data = tf.keras.preprocessing.image_dataset_from_directory(\n",
    "    directory=test_dir,\n",
    "    image_size=IMG_SIZE,\n",
    "    label_mode='categorical',\n",
    "    batch_size=BATCH_SIZE,\n",
    ")"
   ]
  },
  {
   "cell_type": "markdown",
   "metadata": {
    "id": "OaNOwJXu5Kms"
   },
   "source": [
    "Wonderful! Looks like our dataloaders have found the correct number of images for each dataset.\n",
    "\n",
    "For now, the main parameters we're concerned about in the `image_dataset_from_directory()` funtion are:\n",
    "* `directory` - the filepath of the target directory we're loading images in from.\n",
    "* `image_size` - the target size of the images we're going to load in (height, width).\n",
    "* `batch_size` - the batch size of the images we're going to load in. For example if the `batch_size` is 32 (the default), batches of 32 images and labels at a time will be passed to the model.\n",
    "\n",
    "There are more we could play around with if we needed to [in the `tf.keras.preprocessing` documentation](https://www.tensorflow.org/api_docs/python/tf/keras/preprocessing/image_dataset_from_directory).\n",
    "\n",
    "If we check the training data datatype we should see it as a `BatchDataset` with shapes relating to our data."
   ]
  },
  {
   "cell_type": "code",
   "execution_count": 7,
   "metadata": {
    "colab": {
     "base_uri": "https://localhost:8080/"
    },
    "id": "a30VfDiv3ZGc",
    "outputId": "536f060f-a82a-4d76-ae6f-d2c48ac0464c"
   },
   "outputs": [
    {
     "data": {
      "text/plain": [
       "<BatchDataset element_spec=(TensorSpec(shape=(None, 224, 224, 3), dtype=tf.float32, name=None), TensorSpec(shape=(None, 10), dtype=tf.float32, name=None))>"
      ]
     },
     "execution_count": 7,
     "metadata": {},
     "output_type": "execute_result"
    }
   ],
   "source": [
    "# Check the training data datatype\n",
    "train_data_10_percent"
   ]
  },
  {
   "cell_type": "markdown",
   "metadata": {
    "id": "Y7p3h9nC6ZH1"
   },
   "source": [
    "In the above output:\n",
    "\n",
    "* `(None, 224, 224, 3)` refers to the tensor shape of our images where `None` is the batch size, `224` is the height (and width) and `3` is the color channels (red, green, blue).\n",
    "* `(None, 10)` refers to the tensor shape of the labels where `None` is the batch size and `10` is the number of possible labels (the 10 different food classes).\n",
    "* Both image tensors and labels are of the datatype `tf.float32`.\n",
    "\n",
    "The `batch_size` is `None` due to it only being used during model training. You can think of `None` as a placeholder waiting to be filled with the `batch_size` parameter from `image_dataset_from_directory()`.\n",
    "\n",
    "Another benefit of using the `tf.data.Dataset` API are the assosciated methods which come with it.\n",
    "\n",
    "For example, if we want to find the name of the classes we were working with, we could use the `class_names` attribute."
   ]
  },
  {
   "cell_type": "code",
   "execution_count": 22,
   "metadata": {
    "colab": {
     "base_uri": "https://localhost:8080/"
    },
    "id": "9mRe2rnv7YdW",
    "outputId": "ada12547-900a-41a9-fc07-5c2a97e9f366"
   },
   "outputs": [
    {
     "data": {
      "text/plain": [
       "['chicken_curry',\n",
       " 'chicken_wings',\n",
       " 'fried_rice',\n",
       " 'grilled_salmon',\n",
       " 'hamburger',\n",
       " 'ice_cream',\n",
       " 'pizza',\n",
       " 'ramen',\n",
       " 'steak',\n",
       " 'sushi']"
      ]
     },
     "execution_count": 22,
     "metadata": {},
     "output_type": "execute_result"
    }
   ],
   "source": [
    "# Check out the class names of our dataset\n",
    "train_data_10_percent.class_names"
   ]
  },
  {
   "cell_type": "markdown",
   "metadata": {
    "id": "c09o0KAr8SFM"
   },
   "source": [
    "Or if we wanted to see an example batch of data, we could use the `take()` method. "
   ]
  },
  {
   "cell_type": "code",
   "execution_count": 27,
   "metadata": {
    "colab": {
     "base_uri": "https://localhost:8080/"
    },
    "id": "cZ25UPow7q5K",
    "outputId": "1e1ec9b5-de59-4160-9b7c-b248a509696f"
   },
   "outputs": [
    {
     "name": "stdout",
     "output_type": "stream",
     "text": [
      "tf.Tensor(\n",
      "[[[[1.74612244e+02 1.45612244e+02 1.27612244e+02]\n",
      "   [1.73908157e+02 1.44908157e+02 1.26908165e+02]\n",
      "   [1.77010193e+02 1.49010193e+02 1.27795921e+02]\n",
      "   ...\n",
      "   [1.33576431e+02 1.09576439e+02 7.40049667e+01]\n",
      "   [1.33454102e+02 1.09525543e+02 7.12856979e+01]\n",
      "   [1.33515259e+02 1.10515259e+02 6.78009033e+01]]\n",
      "\n",
      "  [[1.77454071e+02 1.49454071e+02 1.28454071e+02]\n",
      "   [1.77928574e+02 1.49928574e+02 1.28928574e+02]\n",
      "   [1.74443878e+02 1.46872452e+02 1.25443871e+02]\n",
      "   ...\n",
      "   [1.37086716e+02 1.12887749e+02 7.93723831e+01]\n",
      "   [1.32933655e+02 1.08938766e+02 7.26479187e+01]\n",
      "   [1.34663330e+02 1.11066422e+02 7.18316345e+01]]\n",
      "\n",
      "  [[1.74785721e+02 1.46785721e+02 1.24357140e+02]\n",
      "   [1.73785721e+02 1.46214279e+02 1.23571426e+02]\n",
      "   [1.76260193e+02 1.48857147e+02 1.26474495e+02]\n",
      "   ...\n",
      "   [1.40214279e+02 1.15877563e+02 8.28877335e+01]\n",
      "   [1.36357132e+02 1.12142845e+02 7.87857056e+01]\n",
      "   [1.36852097e+02 1.12714355e+02 7.85663223e+01]]\n",
      "\n",
      "  ...\n",
      "\n",
      "  [[1.96147903e+02 1.44147903e+02 1.04795837e+02]\n",
      "   [1.95086731e+02 1.43086731e+02 1.03387726e+02]\n",
      "   [1.95903030e+02 1.43137756e+02 1.03994865e+02]\n",
      "   ...\n",
      "   [2.06954163e+02 1.67168427e+02 1.32596954e+02]\n",
      "   [1.98708954e+02 1.58851837e+02 1.23780396e+02]\n",
      "   [1.88580536e+02 1.50652069e+02 1.17856186e+02]]\n",
      "\n",
      "  [[1.90576538e+02 1.42244919e+02 9.72397995e+01]\n",
      "   [1.94086624e+02 1.46020309e+02 1.00219284e+02]\n",
      "   [1.75806122e+02 1.24806114e+02 8.02040634e+01]\n",
      "   ...\n",
      "   [1.95510223e+02 1.56423416e+02 1.21780556e+02]\n",
      "   [1.97632416e+02 1.57627304e+02 1.22642624e+02]\n",
      "   [2.03790649e+02 1.64790649e+02 1.33790649e+02]]\n",
      "\n",
      "  [[1.87407990e+02 1.39407990e+02 9.14079971e+01]\n",
      "   [1.79479523e+02 1.31479523e+02 8.34795227e+01]\n",
      "   [1.90128021e+02 1.42128021e+02 9.41280212e+01]\n",
      "   ...\n",
      "   [1.61285599e+02 1.23142654e+02 9.03569183e+01]\n",
      "   [1.71632416e+02 1.30632416e+02 9.86324158e+01]\n",
      "   [1.71525482e+02 1.32525482e+02 1.02699036e+02]]]\n",
      "\n",
      "\n",
      " [[[1.53214279e+02 1.32214279e+02 6.59285736e+01]\n",
      "   [1.55693878e+02 1.33622452e+02 6.09795914e+01]\n",
      "   [1.58933685e+02 1.36505112e+02 6.17193871e+01]\n",
      "   ...\n",
      "   [1.66326904e+02 1.26755432e+02 7.67452011e+01]\n",
      "   [1.63642838e+02 1.24714287e+02 6.73570786e+01]\n",
      "   [1.60540665e+02 1.22897842e+02 5.68263092e+01]]\n",
      "\n",
      "  [[1.62591843e+02 1.39234695e+02 7.33061295e+01]\n",
      "   [1.59709198e+02 1.37637756e+02 6.48622437e+01]\n",
      "   [1.67357147e+02 1.42928574e+02 6.89285736e+01]\n",
      "   ...\n",
      "   [1.73448929e+02 1.34076416e+02 8.21784515e+01]\n",
      "   [1.65132706e+02 1.26204147e+02 6.88469391e+01]\n",
      "   [1.67188629e+02 1.29188629e+02 6.54742813e+01]]\n",
      "\n",
      "  [[1.71979584e+02 1.46556122e+02 7.49081650e+01]\n",
      "   [1.67270416e+02 1.41056122e+02 6.52857132e+01]\n",
      "   [1.69571426e+02 1.43265305e+02 6.49489822e+01]\n",
      "   ...\n",
      "   [1.73265381e+02 1.36525574e+02 8.38163910e+01]\n",
      "   [1.78913254e+02 1.42397949e+02 8.68723831e+01]\n",
      "   [1.66938477e+02 1.31647690e+02 6.91476212e+01]]\n",
      "\n",
      "  ...\n",
      "\n",
      "  [[6.82396088e+01 5.12344666e+01 3.15252533e+01]\n",
      "   [5.69487686e+01 4.00916061e+01 2.23772774e+01]\n",
      "   [7.50969391e+01 5.96938210e+01 4.39999352e+01]\n",
      "   ...\n",
      "   [4.00000000e+00 2.00000000e+00 5.00000000e+00]\n",
      "   [7.01530743e+00 5.01530743e+00 6.44383526e+00]\n",
      "   [5.56629181e+00 3.56629205e+00 4.99481964e+00]]\n",
      "\n",
      "  [[6.13010216e+01 4.13010216e+01 1.73010216e+01]\n",
      "   [7.39489441e+01 5.29489479e+01 3.36734123e+01]\n",
      "   [6.11276016e+01 4.19694099e+01 2.54132900e+01]\n",
      "   ...\n",
      "   [4.85717773e+00 2.85717773e+00 3.85717773e+00]\n",
      "   [5.99489594e+00 4.13267565e+00 4.71933746e+00]\n",
      "   [5.92855835e+00 4.92855835e+00 2.92855835e+00]]\n",
      "\n",
      "  [[6.54999313e+01 4.34999313e+01 1.94999313e+01]\n",
      "   [6.91123352e+01 4.60408058e+01 2.45917969e+01]\n",
      "   [6.77961426e+01 4.39542236e+01 2.81021576e+01]\n",
      "   ...\n",
      "   [7.06638336e+00 5.85211945e+00 4.49491119e+00]\n",
      "   [5.52545643e+00 4.52545643e+00 2.52545643e+00]\n",
      "   [4.22960186e+00 3.22960186e+00 0.00000000e+00]]]\n",
      "\n",
      "\n",
      " [[[3.62857132e+01 2.22857151e+01 9.28571415e+00]\n",
      "   [3.89285736e+01 2.49285717e+01 1.19285717e+01]\n",
      "   [3.92142868e+01 2.52142868e+01 1.22142859e+01]\n",
      "   ...\n",
      "   [2.12805538e+01 2.28520260e+01 3.66479950e+01]\n",
      "   [3.31123161e+01 3.71123161e+01 4.90408745e+01]\n",
      "   [2.42547092e+01 3.12547092e+01 3.98260689e+01]]\n",
      "\n",
      "  [[3.62857132e+01 2.22857151e+01 9.28571415e+00]\n",
      "   [3.90663261e+01 2.50663261e+01 1.20663261e+01]\n",
      "   [3.92704086e+01 2.52704086e+01 1.22704086e+01]\n",
      "   ...\n",
      "   [2.52960110e+01 2.73113155e+01 3.99950142e+01]\n",
      "   [3.78264732e+01 4.18264732e+01 5.36785011e+01]\n",
      "   [2.05508156e+01 2.79539108e+01 3.27191162e+01]]\n",
      "\n",
      "  [[3.62857132e+01 2.22857151e+01 9.28571415e+00]\n",
      "   [3.99285736e+01 2.59285717e+01 1.29285717e+01]\n",
      "   [4.00000000e+01 2.60000000e+01 1.30000000e+01]\n",
      "   ...\n",
      "   [2.91379814e+01 3.25869713e+01 4.20920868e+01]\n",
      "   [3.83314705e+01 4.31171837e+01 5.00457306e+01]\n",
      "   [1.37090721e+01 2.19897118e+01 2.32855415e+01]]\n",
      "\n",
      "  ...\n",
      "\n",
      "  [[2.22142677e+01 2.68571510e+01 3.60714455e+01]\n",
      "   [2.52856884e+01 3.06581554e+01 3.72857208e+01]\n",
      "   [2.40969105e+01 2.93571339e+01 3.63826599e+01]\n",
      "   ...\n",
      "   [1.00000000e+00 5.00000000e+00 6.00000000e+00]\n",
      "   [1.00000000e+00 5.00000000e+00 6.00000000e+00]\n",
      "   [1.00000000e+00 5.00000000e+00 6.00000000e+00]]\n",
      "\n",
      "  [[1.97142677e+01 2.67142677e+01 3.67142677e+01]\n",
      "   [2.11377220e+01 2.81377220e+01 3.80051003e+01]\n",
      "   [1.99132328e+01 2.69132328e+01 3.68010139e+01]\n",
      "   ...\n",
      "   [1.00000000e+00 5.00000000e+00 6.00000000e+00]\n",
      "   [1.00000000e+00 5.00000000e+00 6.00000000e+00]\n",
      "   [1.00000000e+00 5.00000000e+00 6.00000000e+00]]\n",
      "\n",
      "  [[1.96428528e+01 2.76428528e+01 3.86428528e+01]\n",
      "   [2.12397881e+01 2.92397881e+01 4.02397881e+01]\n",
      "   [2.23469276e+01 3.03469276e+01 4.13469276e+01]\n",
      "   ...\n",
      "   [1.00000000e+00 5.00000000e+00 6.00000000e+00]\n",
      "   [1.00000000e+00 5.00000000e+00 6.00000000e+00]\n",
      "   [1.00000000e+00 5.00000000e+00 6.00000000e+00]]]\n",
      "\n",
      "\n",
      " ...\n",
      "\n",
      "\n",
      " [[[2.38928566e+01 1.48928576e+01 1.71785717e+01]\n",
      "   [2.08724480e+01 1.06785698e+01 1.42755089e+01]\n",
      "   [3.06734734e+01 1.34540844e+01 2.11122456e+01]\n",
      "   ...\n",
      "   [2.23484344e+02 1.95351685e+02 1.27423065e+02]\n",
      "   [1.99948975e+02 1.63780563e+02 9.32805328e+01]\n",
      "   [2.04127670e+02 1.60127594e+02 8.61836624e+01]]\n",
      "\n",
      "  [[5.84745064e+01 4.80255241e+01 5.57347107e+01]\n",
      "   [3.96938820e+01 2.49795952e+01 3.19744930e+01]\n",
      "   [1.18826530e+02 9.48265305e+01 1.00627548e+02]\n",
      "   ...\n",
      "   [1.97734467e+02 1.54377319e+02 9.15915604e+01]\n",
      "   [1.85290878e+02 1.37775558e+02 7.13520508e+01]\n",
      "   [1.86244690e+02 1.35770142e+02 6.39843559e+01]]\n",
      "\n",
      "  [[1.23989807e+02 1.12346947e+02 1.25489792e+02]\n",
      "   [2.73061066e+01 8.95406532e+00 1.70459023e+01]\n",
      "   [1.90913254e+02 1.57387741e+02 1.63127533e+02]\n",
      "   ...\n",
      "   [1.62285736e+02 1.04663345e+02 4.65970078e+01]\n",
      "   [1.73836761e+02 1.16867348e+02 5.59387512e+01]\n",
      "   [1.71469269e+02 1.12331528e+02 4.61834869e+01]]\n",
      "\n",
      "  ...\n",
      "\n",
      "  [[2.51780640e+02 2.46780640e+02 2.42780640e+02]\n",
      "   [2.48372513e+02 2.43372513e+02 2.39372513e+02]\n",
      "   [2.48683746e+02 2.43683746e+02 2.39683746e+02]\n",
      "   ...\n",
      "   [1.57652378e+01 2.34285278e+01 9.02541065e+00]\n",
      "   [1.81683426e+01 2.78111343e+01 1.00254583e+01]\n",
      "   [2.81379166e+01 3.77807083e+01 1.74235611e+01]]\n",
      "\n",
      "  [[2.52948914e+02 2.47948914e+02 2.43948914e+02]\n",
      "   [2.47928513e+02 2.42928513e+02 2.38928513e+02]\n",
      "   [2.43387756e+02 2.38387756e+02 2.34387756e+02]\n",
      "   ...\n",
      "   [1.47652721e+01 2.07652721e+01 9.30606842e+00]\n",
      "   [1.26225595e+01 1.86888962e+01 4.55622149e+00]\n",
      "   [2.20663929e+01 2.90663929e+01 1.30663919e+01]]\n",
      "\n",
      "  [[2.47326630e+02 2.42326630e+02 2.38326630e+02]\n",
      "   [2.43760269e+02 2.38760269e+02 2.34760269e+02]\n",
      "   [2.47199127e+02 2.42199127e+02 2.38199127e+02]\n",
      "   ...\n",
      "   [1.49438248e+01 1.79438248e+01 9.09688473e+00]\n",
      "   [1.86478405e+01 2.23161812e+01 9.31116199e+00]\n",
      "   [2.00410404e+01 2.60410404e+01 1.20410404e+01]]]\n",
      "\n",
      "\n",
      " [[[0.00000000e+00 0.00000000e+00 0.00000000e+00]\n",
      "   [9.28571701e-01 9.28571701e-01 0.00000000e+00]\n",
      "   [0.00000000e+00 2.00000000e+00 0.00000000e+00]\n",
      "   ...\n",
      "   [2.33164978e+00 6.61736393e+00 5.56102216e-01]\n",
      "   [6.86227226e+00 1.21479864e+01 2.60205960e+00]\n",
      "   [1.15000353e+01 1.70153637e+01 4.77042055e+00]]\n",
      "\n",
      "  [[0.00000000e+00 0.00000000e+00 0.00000000e+00]\n",
      "   [9.28571701e-01 9.28571701e-01 0.00000000e+00]\n",
      "   [0.00000000e+00 2.00000000e+00 0.00000000e+00]\n",
      "   ...\n",
      "   [2.83317585e+01 3.12603302e+01 1.37603302e+01]\n",
      "   [4.12653542e+01 4.41939240e+01 2.68418865e+01]\n",
      "   [4.54744873e+01 4.83775444e+01 3.11683693e+01]]\n",
      "\n",
      "  [[0.00000000e+00 0.00000000e+00 0.00000000e+00]\n",
      "   [9.28571701e-01 9.28571701e-01 0.00000000e+00]\n",
      "   [0.00000000e+00 2.00000000e+00 0.00000000e+00]\n",
      "   ...\n",
      "   [5.45765457e+01 5.73622589e+01 3.06684151e+01]\n",
      "   [5.38877335e+01 5.58877335e+01 3.24438820e+01]\n",
      "   [5.05764694e+01 5.24999313e+01 3.17295456e+01]]\n",
      "\n",
      "  ...\n",
      "\n",
      "  [[1.93520546e+01 8.70917225e+00 0.00000000e+00]\n",
      "   [1.94847107e+01 8.84182739e+00 0.00000000e+00]\n",
      "   [1.94285812e+01 8.99999142e+00 0.00000000e+00]\n",
      "   ...\n",
      "   [5.45714111e+01 3.49540253e+01 2.14263916e-01]\n",
      "   [5.56428223e+01 3.28571472e+01 0.00000000e+00]\n",
      "   [5.00050087e+01 3.23519859e+01 0.00000000e+00]]\n",
      "\n",
      "  [[2.09744968e+01 7.97449589e+00 0.00000000e+00]\n",
      "   [2.10663280e+01 8.06632710e+00 0.00000000e+00]\n",
      "   [2.11428757e+01 9.14287472e+00 0.00000000e+00]\n",
      "   ...\n",
      "   [5.20714111e+01 3.15560493e+01 2.14263916e-01]\n",
      "   [5.47907753e+01 3.19387627e+01 8.62248957e-01]\n",
      "   [4.86937141e+01 3.06887264e+01 0.00000000e+00]]\n",
      "\n",
      "  [[2.30561142e+01 1.00561152e+01 1.41325808e+00]\n",
      "   [2.33112164e+01 1.03112164e+01 1.31121600e+00]\n",
      "   [2.28571396e+01 1.08571386e+01 0.00000000e+00]\n",
      "   ...\n",
      "   [4.99286194e+01 3.05714111e+01 4.64285278e+00]\n",
      "   [5.13316307e+01 3.10000000e+01 5.28570557e+00]\n",
      "   [4.60560303e+01 2.95407753e+01 2.69891500e+00]]]\n",
      "\n",
      "\n",
      " [[[2.21357132e+02 2.63571415e+01 5.83571434e+01]\n",
      "   [2.26642853e+02 2.86428566e+01 6.16428604e+01]\n",
      "   [2.25061234e+02 2.92193871e+01 6.15000000e+01]\n",
      "   ...\n",
      "   [1.99979538e+02 1.36903015e+02 1.28387726e+02]\n",
      "   [1.95357101e+02 1.35622406e+02 1.32193878e+02]\n",
      "   [1.72545502e+02 1.13958740e+02 1.14974136e+02]]\n",
      "\n",
      "  [[2.23571426e+02 2.85714283e+01 6.05714264e+01]\n",
      "   [2.25928574e+02 3.09285717e+01 6.29285736e+01]\n",
      "   [2.24586731e+02 3.14438782e+01 6.25153046e+01]\n",
      "   ...\n",
      "   [1.87663345e+02 1.26852180e+02 1.17122566e+02]\n",
      "   [1.93494843e+02 1.34494843e+02 1.26647911e+02]\n",
      "   [1.88989792e+02 1.29918350e+02 1.24275497e+02]]\n",
      "\n",
      "  [[2.20428574e+02 2.70714283e+01 6.10714264e+01]\n",
      "   [2.22515305e+02 2.91581631e+01 6.29438782e+01]\n",
      "   [2.19188782e+02 2.90459175e+01 6.03826523e+01]\n",
      "   ...\n",
      "   [1.91194000e+02 1.31239914e+02 1.21668434e+02]\n",
      "   [1.83331619e+02 1.23602036e+02 1.11760162e+02]\n",
      "   [1.89954010e+02 1.30311157e+02 1.16096870e+02]]\n",
      "\n",
      "  ...\n",
      "\n",
      "  [[2.33494904e+02 1.84494904e+02 1.43571426e+02]\n",
      "   [2.39928574e+02 1.95714294e+02 1.50928574e+02]\n",
      "   [2.40642853e+02 2.02642853e+02 1.53642853e+02]\n",
      "   ...\n",
      "   [1.81689011e+02 1.28836868e+02 1.01219482e+02]\n",
      "   [1.87311401e+02 1.34739929e+02 1.04081718e+02]\n",
      "   [1.81244827e+02 1.28673355e+02 9.68876190e+01]]\n",
      "\n",
      "  [[2.32857178e+02 1.85857178e+02 1.40520447e+02]\n",
      "   [2.32214310e+02 1.90071457e+02 1.42010208e+02]\n",
      "   [2.37642883e+02 2.00642883e+02 1.48571442e+02]\n",
      "   ...\n",
      "   [1.94566254e+02 1.40550949e+02 1.15137665e+02]\n",
      "   [1.82331696e+02 1.29265350e+02 9.83980255e+01]\n",
      "   [1.85602005e+02 1.31556091e+02 9.76938553e+01]]\n",
      "\n",
      "  [[2.36158157e+02 1.89158157e+02 1.43158157e+02]\n",
      "   [2.38642929e+02 1.96500076e+02 1.46571503e+02]\n",
      "   [2.42489822e+02 2.05489822e+02 1.52336746e+02]\n",
      "   ...\n",
      "   [1.86142792e+02 1.31142792e+02 1.10637703e+02]\n",
      "   [1.91163223e+02 1.35163223e+02 1.10683670e+02]\n",
      "   [1.84326691e+02 1.29097076e+02 9.95562897e+01]]]], shape=(32, 224, 224, 3), dtype=float32) tf.Tensor(\n",
      "[[0. 0. 0. 0. 0. 0. 0. 0. 1. 0.]\n",
      " [0. 0. 0. 0. 1. 0. 0. 0. 0. 0.]\n",
      " [1. 0. 0. 0. 0. 0. 0. 0. 0. 0.]\n",
      " [0. 0. 0. 0. 0. 1. 0. 0. 0. 0.]\n",
      " [0. 1. 0. 0. 0. 0. 0. 0. 0. 0.]\n",
      " [1. 0. 0. 0. 0. 0. 0. 0. 0. 0.]\n",
      " [0. 0. 0. 0. 1. 0. 0. 0. 0. 0.]\n",
      " [0. 0. 0. 1. 0. 0. 0. 0. 0. 0.]\n",
      " [1. 0. 0. 0. 0. 0. 0. 0. 0. 0.]\n",
      " [0. 0. 0. 1. 0. 0. 0. 0. 0. 0.]\n",
      " [0. 0. 0. 0. 0. 0. 0. 0. 1. 0.]\n",
      " [0. 0. 0. 0. 0. 0. 0. 0. 0. 1.]\n",
      " [0. 0. 0. 0. 0. 0. 0. 1. 0. 0.]\n",
      " [0. 0. 0. 0. 0. 1. 0. 0. 0. 0.]\n",
      " [0. 0. 0. 0. 0. 1. 0. 0. 0. 0.]\n",
      " [0. 0. 0. 0. 0. 0. 0. 0. 0. 1.]\n",
      " [0. 0. 0. 0. 0. 1. 0. 0. 0. 0.]\n",
      " [0. 0. 0. 1. 0. 0. 0. 0. 0. 0.]\n",
      " [0. 0. 0. 0. 0. 1. 0. 0. 0. 0.]\n",
      " [0. 0. 0. 0. 0. 0. 1. 0. 0. 0.]\n",
      " [0. 0. 1. 0. 0. 0. 0. 0. 0. 0.]\n",
      " [0. 0. 0. 0. 0. 1. 0. 0. 0. 0.]\n",
      " [0. 0. 1. 0. 0. 0. 0. 0. 0. 0.]\n",
      " [0. 0. 0. 0. 0. 0. 0. 0. 1. 0.]\n",
      " [1. 0. 0. 0. 0. 0. 0. 0. 0. 0.]\n",
      " [0. 1. 0. 0. 0. 0. 0. 0. 0. 0.]\n",
      " [0. 0. 0. 0. 1. 0. 0. 0. 0. 0.]\n",
      " [0. 0. 0. 0. 0. 0. 0. 0. 1. 0.]\n",
      " [0. 0. 0. 0. 0. 0. 0. 1. 0. 0.]\n",
      " [0. 0. 0. 0. 1. 0. 0. 0. 0. 0.]\n",
      " [0. 0. 0. 0. 1. 0. 0. 0. 0. 0.]\n",
      " [0. 0. 0. 0. 0. 1. 0. 0. 0. 0.]], shape=(32, 10), dtype=float32)\n"
     ]
    }
   ],
   "source": [
    "# See an example batch of data\n",
    "for images, labels in train_data_10_percent.take(1):\n",
    "  print(images, labels)"
   ]
  },
  {
   "cell_type": "markdown",
   "metadata": {
    "id": "c1WcrMG58YtV"
   },
   "source": [
    "Notice how the image arrays come out as tensors of pixel values where as the labels come out as one-hot encodings (e.g. `[0. 0. 0. 0. 1. 0. 0. 0. 0. 0.]` for `hamburger`)."
   ]
  },
  {
   "cell_type": "markdown",
   "metadata": {
    "id": "i5DL4UYE8m1j"
   },
   "source": [
    "### Model 0: Building a transfer learning model using the Keras Functional API\n",
    "\n",
    "Alright, our data is tensor-ified, let's build a model.\n",
    "\n",
    "To do so we're going to be using the [`tf.keras.applications`](https://www.tensorflow.org/api_docs/python/tf/keras/applications) module as it contains a series of already trained (on ImageNet) computer vision models as well as the Keras Functional API to construct our model.\n",
    "\n",
    "We're going to go through the following steps:\n",
    "\n",
    "1. Instantiate a pre-trained base model object by choosing a target model such as [`EfficientNetB0`](https://www.tensorflow.org/api_docs/python/tf/keras/applications/EfficientNetB0) from `tf.keras.applications`, setting the `include_top` parameter to `False` (we do this because we're going to create our own top, which are the output layers for the model).\n",
    "2. Set the base model's `trainable` attribute to `False` to freeze all of the weights in the pre-trained model.\n",
    "3. Define an input layer for our model, for example, what shape of data should our model expect?\n",
    "4. [Optional] Normalize the inputs to our model if it requires. Some computer vision models such as `ResNetV250` require their inputs to be between 0 & 1. \n",
    "\n",
    "> 🤔 **Note:** As of writing, the `EfficientNet` models in the `tf.keras.applications` module do not require images to be normalized (pixel values between 0 and 1) on input, where as many of the other models do. I posted [an issue to the TensorFlow GitHub](https://github.com/tensorflow/tensorflow/issues/42506) about this and they confirmed this. \n",
    "\n",
    "5. Pass the inputs to the base model.\n",
    "6. Pool the outputs of the base model into a shape compatible with the output activation layer (turn base model output tensors into same shape as label tensors). This can be done using [`tf.keras.layers.GlobalAveragePooling2D()`](https://www.tensorflow.org/api_docs/python/tf/keras/layers/GlobalAveragePooling2D) or [`tf.keras.layers.GlobalMaxPooling2D()`](https://www.tensorflow.org/api_docs/python/tf/keras/layers/GlobalMaxPool2D?hl=en) though the former is more common in practice.\n",
    "7. Create an output activation layer using `tf.keras.layers.Dense()` with the appropriate activation function and number of neurons.\n",
    "8. Combine the inputs and outputs layer into a model using [`tf.keras.Model()`](https://www.tensorflow.org/api_docs/python/tf/keras/Model).\n",
    "9. Compile the model using the appropriate loss function and choose of optimizer.\n",
    "10. Fit the model for desired number of epochs and with necessary callbacks (in our case, we'll start off with the TensorBoard callback).\n",
    "\n",
    "Woah... that sounds like a lot. Before we get ahead of ourselves, let's see it in practice."
   ]
  },
  {
   "cell_type": "code",
   "execution_count": 32,
   "metadata": {
    "colab": {
     "base_uri": "https://localhost:8080/"
    },
    "id": "ayNga8DsJLPa",
    "outputId": "e585c86c-d376-4ace-a746-dc8a87d7dd91",
    "scrolled": true
   },
   "outputs": [
    {
     "name": "stdout",
     "output_type": "stream",
     "text": [
      "Downloading data from https://storage.googleapis.com/keras-applications/efficientnetb4_notop.h5\n",
      "71686520/71686520 [==============================] - 2s 0us/step\n",
      "x.shape: (None, 7, 7, 1792)\n",
      "x.shape after pooling (None, 1792)\n",
      "Saving TensorBoard log files to: transfer_learning/10_percent_feature_extraction/20220620-214605\n",
      "Epoch 1/10\n",
      "24/24 [==============================] - 13s 197ms/step - loss: 1.7769 - accuracy: 0.4693 - val_loss: 1.0586 - val_accuracy: 0.8021\n",
      "Epoch 2/10\n",
      "24/24 [==============================] - 2s 71ms/step - loss: 0.9890 - accuracy: 0.7787 - val_loss: 0.7718 - val_accuracy: 0.8177\n",
      "Epoch 3/10\n",
      "24/24 [==============================] - 2s 71ms/step - loss: 0.7305 - accuracy: 0.8253 - val_loss: 0.6245 - val_accuracy: 0.8281\n",
      "Epoch 4/10\n",
      "24/24 [==============================] - 2s 70ms/step - loss: 0.6201 - accuracy: 0.8453 - val_loss: 0.5516 - val_accuracy: 0.8698\n",
      "Epoch 5/10\n",
      "24/24 [==============================] - 2s 71ms/step - loss: 0.5391 - accuracy: 0.8600 - val_loss: 0.5604 - val_accuracy: 0.8281\n",
      "Epoch 6/10\n",
      "24/24 [==============================] - 2s 71ms/step - loss: 0.4804 - accuracy: 0.8773 - val_loss: 0.5661 - val_accuracy: 0.8073\n",
      "Epoch 7/10\n",
      "24/24 [==============================] - 2s 71ms/step - loss: 0.4321 - accuracy: 0.8947 - val_loss: 0.5078 - val_accuracy: 0.8281\n",
      "Epoch 8/10\n",
      "24/24 [==============================] - 2s 72ms/step - loss: 0.3990 - accuracy: 0.9053 - val_loss: 0.4140 - val_accuracy: 0.8802\n",
      "Epoch 9/10\n",
      "24/24 [==============================] - 2s 73ms/step - loss: 0.3583 - accuracy: 0.9133 - val_loss: 0.4921 - val_accuracy: 0.8438\n",
      "Epoch 10/10\n",
      "24/24 [==============================] - 2s 72ms/step - loss: 0.3430 - accuracy: 0.9173 - val_loss: 0.4535 - val_accuracy: 0.8490\n"
     ]
    }
   ],
   "source": [
    "# 1. create a baseline model_0 using tf.keras.applications\n",
    "base_model = tf.keras.applications.EfficientNetB4(\n",
    "    include_top=False,\n",
    ")\n",
    "\n",
    "# 2. Freeze the base model (so the underlying pre_trained weights aren't updated)\n",
    "base_model.trainable = False\n",
    "\n",
    "# 3. create inputs into out model\n",
    "inputs = tf.keras.layers.Input(shape=(224,224,3), name=\"input_layer\")\n",
    "\n",
    "# 4. If using a model like ResNet50v2 you will need to normalize\n",
    "# x = tf.keras.layers.experimental.preprocessing.Rescaling(1./255)(inputs)\n",
    "\n",
    "# 5. Pass the inputs to the base_model\n",
    "x = base_model(inputs)\n",
    "print(\"x.shape:\", x.shape)\n",
    "\n",
    "# 6. Average pool the outputs of the base model(aggregate all the most important features)\n",
    "x = tf.keras.layers.GlobalAveragePooling2D(name=\"global_average_pool\")(x)\n",
    "print(\"x.shape after pooling\", x.shape)\n",
    "\n",
    "# 7. create the output activation layer\n",
    "outputs = tf.keras.layers.Dense(\n",
    "    10,\n",
    "    activation=tf.nn.softmax,\n",
    "    name=\"output_layer\",\n",
    ")(x)\n",
    "\n",
    "# 8. Combine the inputs with the outputs into a model\n",
    "model_0 = tf.keras.Model(inputs, outputs)\n",
    "\n",
    "# 9. Compile the model\n",
    "model_0.compile(loss=\"categorical_crossentropy\", optimizer=\"adam\", metrics=[\"accuracy\"])\n",
    "\n",
    "# 10. Fit the model and save its history\n",
    "history_10_percent = model_0.fit(\n",
    "    train_data_10_percent,\n",
    "    epochs = 10,\n",
    "    steps_per_epoch=len(train_data_10_percent),\n",
    "    validation_data=test_data,\n",
    "    validation_steps=int(.25 * len(train_data_10_percent)),\n",
    "    callbacks=[create_tensorboard_callback(\"transfer_learning\",\n",
    "                                           experiment_name=\"10_percent_feature_extraction\")],\n",
    ")"
   ]
  },
  {
   "cell_type": "code",
   "execution_count": 33,
   "metadata": {},
   "outputs": [
    {
     "name": "stdout",
     "output_type": "stream",
     "text": [
      "79/79 [==============================] - 4s 55ms/step - loss: 0.4518 - accuracy: 0.8632\n"
     ]
    },
    {
     "data": {
      "text/plain": [
       "[0.45178595185279846, 0.8632000088691711]"
      ]
     },
     "execution_count": 33,
     "metadata": {},
     "output_type": "execute_result"
    }
   ],
   "source": [
    "model_0.evaluate(test_data)"
   ]
  },
  {
   "cell_type": "markdown",
   "metadata": {
    "id": "sUhkvBx0Hb8D"
   },
   "source": [
    "Nice! After a minute or so of training our model performs incredibly well on both the training (87%+ accuracy) and test sets (~83% accuracy).\n",
    "\n",
    "This is incredible. All thanks to the power of transfer learning.\n",
    "\n",
    "It's important to note the kind of transfer learning we used here is called feature extraction transfer learning, similar to what we did with the TensorFlow Hub models.\n",
    "\n",
    "In other words, we passed our custom data to an already pre-trained model (`EfficientNetB0`), asked it \"what patterns do you see?\" and then put our own output layer on top to make sure the outputs were tailored to our desired number of classes. \n",
    "\n",
    "We also used the Keras Functional API to build our model rather than the Sequential API. For now, the benefits of this main not seem clear but when you start to build more sophisticated models, you'll probably want to use the Functional API. So it's important to have exposure to this way of building models.\n",
    "\n",
    "> 📖 **Resource:** To see the benefits and use cases of the Functional API versus the Sequential API, check out the [TensorFlow Functional API documentation](https://www.tensorflow.org/guide/keras/functional).\n",
    "\n",
    "Let's inspect the layers in our model, we'll start with the base."
   ]
  },
  {
   "cell_type": "code",
   "execution_count": 34,
   "metadata": {
    "colab": {
     "base_uri": "https://localhost:8080/"
    },
    "id": "lUuQOyKv4_27",
    "outputId": "df5cca5e-2358-47ae-d1d5-7c14200c1a96"
   },
   "outputs": [
    {
     "name": "stdout",
     "output_type": "stream",
     "text": [
      "0 input_4\n",
      "1 rescaling_3\n",
      "2 normalization_3\n",
      "3 tf.math.truediv_3\n",
      "4 stem_conv_pad\n",
      "5 stem_conv\n",
      "6 stem_bn\n",
      "7 stem_activation\n",
      "8 block1a_dwconv\n",
      "9 block1a_bn\n",
      "10 block1a_activation\n",
      "11 block1a_se_squeeze\n",
      "12 block1a_se_reshape\n",
      "13 block1a_se_reduce\n",
      "14 block1a_se_expand\n",
      "15 block1a_se_excite\n",
      "16 block1a_project_conv\n",
      "17 block1a_project_bn\n",
      "18 block1b_dwconv\n",
      "19 block1b_bn\n",
      "20 block1b_activation\n",
      "21 block1b_se_squeeze\n",
      "22 block1b_se_reshape\n",
      "23 block1b_se_reduce\n",
      "24 block1b_se_expand\n",
      "25 block1b_se_excite\n",
      "26 block1b_project_conv\n",
      "27 block1b_project_bn\n",
      "28 block1b_drop\n",
      "29 block1b_add\n",
      "30 block2a_expand_conv\n",
      "31 block2a_expand_bn\n",
      "32 block2a_expand_activation\n",
      "33 block2a_dwconv_pad\n",
      "34 block2a_dwconv\n",
      "35 block2a_bn\n",
      "36 block2a_activation\n",
      "37 block2a_se_squeeze\n",
      "38 block2a_se_reshape\n",
      "39 block2a_se_reduce\n",
      "40 block2a_se_expand\n",
      "41 block2a_se_excite\n",
      "42 block2a_project_conv\n",
      "43 block2a_project_bn\n",
      "44 block2b_expand_conv\n",
      "45 block2b_expand_bn\n",
      "46 block2b_expand_activation\n",
      "47 block2b_dwconv\n",
      "48 block2b_bn\n",
      "49 block2b_activation\n",
      "50 block2b_se_squeeze\n",
      "51 block2b_se_reshape\n",
      "52 block2b_se_reduce\n",
      "53 block2b_se_expand\n",
      "54 block2b_se_excite\n",
      "55 block2b_project_conv\n",
      "56 block2b_project_bn\n",
      "57 block2b_drop\n",
      "58 block2b_add\n",
      "59 block2c_expand_conv\n",
      "60 block2c_expand_bn\n",
      "61 block2c_expand_activation\n",
      "62 block2c_dwconv\n",
      "63 block2c_bn\n",
      "64 block2c_activation\n",
      "65 block2c_se_squeeze\n",
      "66 block2c_se_reshape\n",
      "67 block2c_se_reduce\n",
      "68 block2c_se_expand\n",
      "69 block2c_se_excite\n",
      "70 block2c_project_conv\n",
      "71 block2c_project_bn\n",
      "72 block2c_drop\n",
      "73 block2c_add\n",
      "74 block2d_expand_conv\n",
      "75 block2d_expand_bn\n",
      "76 block2d_expand_activation\n",
      "77 block2d_dwconv\n",
      "78 block2d_bn\n",
      "79 block2d_activation\n",
      "80 block2d_se_squeeze\n",
      "81 block2d_se_reshape\n",
      "82 block2d_se_reduce\n",
      "83 block2d_se_expand\n",
      "84 block2d_se_excite\n",
      "85 block2d_project_conv\n",
      "86 block2d_project_bn\n",
      "87 block2d_drop\n",
      "88 block2d_add\n",
      "89 block3a_expand_conv\n",
      "90 block3a_expand_bn\n",
      "91 block3a_expand_activation\n",
      "92 block3a_dwconv_pad\n",
      "93 block3a_dwconv\n",
      "94 block3a_bn\n",
      "95 block3a_activation\n",
      "96 block3a_se_squeeze\n",
      "97 block3a_se_reshape\n",
      "98 block3a_se_reduce\n",
      "99 block3a_se_expand\n",
      "100 block3a_se_excite\n",
      "101 block3a_project_conv\n",
      "102 block3a_project_bn\n",
      "103 block3b_expand_conv\n",
      "104 block3b_expand_bn\n",
      "105 block3b_expand_activation\n",
      "106 block3b_dwconv\n",
      "107 block3b_bn\n",
      "108 block3b_activation\n",
      "109 block3b_se_squeeze\n",
      "110 block3b_se_reshape\n",
      "111 block3b_se_reduce\n",
      "112 block3b_se_expand\n",
      "113 block3b_se_excite\n",
      "114 block3b_project_conv\n",
      "115 block3b_project_bn\n",
      "116 block3b_drop\n",
      "117 block3b_add\n",
      "118 block3c_expand_conv\n",
      "119 block3c_expand_bn\n",
      "120 block3c_expand_activation\n",
      "121 block3c_dwconv\n",
      "122 block3c_bn\n",
      "123 block3c_activation\n",
      "124 block3c_se_squeeze\n",
      "125 block3c_se_reshape\n",
      "126 block3c_se_reduce\n",
      "127 block3c_se_expand\n",
      "128 block3c_se_excite\n",
      "129 block3c_project_conv\n",
      "130 block3c_project_bn\n",
      "131 block3c_drop\n",
      "132 block3c_add\n",
      "133 block3d_expand_conv\n",
      "134 block3d_expand_bn\n",
      "135 block3d_expand_activation\n",
      "136 block3d_dwconv\n",
      "137 block3d_bn\n",
      "138 block3d_activation\n",
      "139 block3d_se_squeeze\n",
      "140 block3d_se_reshape\n",
      "141 block3d_se_reduce\n",
      "142 block3d_se_expand\n",
      "143 block3d_se_excite\n",
      "144 block3d_project_conv\n",
      "145 block3d_project_bn\n",
      "146 block3d_drop\n",
      "147 block3d_add\n",
      "148 block4a_expand_conv\n",
      "149 block4a_expand_bn\n",
      "150 block4a_expand_activation\n",
      "151 block4a_dwconv_pad\n",
      "152 block4a_dwconv\n",
      "153 block4a_bn\n",
      "154 block4a_activation\n",
      "155 block4a_se_squeeze\n",
      "156 block4a_se_reshape\n",
      "157 block4a_se_reduce\n",
      "158 block4a_se_expand\n",
      "159 block4a_se_excite\n",
      "160 block4a_project_conv\n",
      "161 block4a_project_bn\n",
      "162 block4b_expand_conv\n",
      "163 block4b_expand_bn\n",
      "164 block4b_expand_activation\n",
      "165 block4b_dwconv\n",
      "166 block4b_bn\n",
      "167 block4b_activation\n",
      "168 block4b_se_squeeze\n",
      "169 block4b_se_reshape\n",
      "170 block4b_se_reduce\n",
      "171 block4b_se_expand\n",
      "172 block4b_se_excite\n",
      "173 block4b_project_conv\n",
      "174 block4b_project_bn\n",
      "175 block4b_drop\n",
      "176 block4b_add\n",
      "177 block4c_expand_conv\n",
      "178 block4c_expand_bn\n",
      "179 block4c_expand_activation\n",
      "180 block4c_dwconv\n",
      "181 block4c_bn\n",
      "182 block4c_activation\n",
      "183 block4c_se_squeeze\n",
      "184 block4c_se_reshape\n",
      "185 block4c_se_reduce\n",
      "186 block4c_se_expand\n",
      "187 block4c_se_excite\n",
      "188 block4c_project_conv\n",
      "189 block4c_project_bn\n",
      "190 block4c_drop\n",
      "191 block4c_add\n",
      "192 block4d_expand_conv\n",
      "193 block4d_expand_bn\n",
      "194 block4d_expand_activation\n",
      "195 block4d_dwconv\n",
      "196 block4d_bn\n",
      "197 block4d_activation\n",
      "198 block4d_se_squeeze\n",
      "199 block4d_se_reshape\n",
      "200 block4d_se_reduce\n",
      "201 block4d_se_expand\n",
      "202 block4d_se_excite\n",
      "203 block4d_project_conv\n",
      "204 block4d_project_bn\n",
      "205 block4d_drop\n",
      "206 block4d_add\n",
      "207 block4e_expand_conv\n",
      "208 block4e_expand_bn\n",
      "209 block4e_expand_activation\n",
      "210 block4e_dwconv\n",
      "211 block4e_bn\n",
      "212 block4e_activation\n",
      "213 block4e_se_squeeze\n",
      "214 block4e_se_reshape\n",
      "215 block4e_se_reduce\n",
      "216 block4e_se_expand\n",
      "217 block4e_se_excite\n",
      "218 block4e_project_conv\n",
      "219 block4e_project_bn\n",
      "220 block4e_drop\n",
      "221 block4e_add\n",
      "222 block4f_expand_conv\n",
      "223 block4f_expand_bn\n",
      "224 block4f_expand_activation\n",
      "225 block4f_dwconv\n",
      "226 block4f_bn\n",
      "227 block4f_activation\n",
      "228 block4f_se_squeeze\n",
      "229 block4f_se_reshape\n",
      "230 block4f_se_reduce\n",
      "231 block4f_se_expand\n",
      "232 block4f_se_excite\n",
      "233 block4f_project_conv\n",
      "234 block4f_project_bn\n",
      "235 block4f_drop\n",
      "236 block4f_add\n",
      "237 block5a_expand_conv\n",
      "238 block5a_expand_bn\n",
      "239 block5a_expand_activation\n",
      "240 block5a_dwconv\n",
      "241 block5a_bn\n",
      "242 block5a_activation\n",
      "243 block5a_se_squeeze\n",
      "244 block5a_se_reshape\n",
      "245 block5a_se_reduce\n",
      "246 block5a_se_expand\n",
      "247 block5a_se_excite\n",
      "248 block5a_project_conv\n",
      "249 block5a_project_bn\n",
      "250 block5b_expand_conv\n",
      "251 block5b_expand_bn\n",
      "252 block5b_expand_activation\n",
      "253 block5b_dwconv\n",
      "254 block5b_bn\n",
      "255 block5b_activation\n",
      "256 block5b_se_squeeze\n",
      "257 block5b_se_reshape\n",
      "258 block5b_se_reduce\n",
      "259 block5b_se_expand\n",
      "260 block5b_se_excite\n",
      "261 block5b_project_conv\n",
      "262 block5b_project_bn\n",
      "263 block5b_drop\n",
      "264 block5b_add\n",
      "265 block5c_expand_conv\n",
      "266 block5c_expand_bn\n",
      "267 block5c_expand_activation\n",
      "268 block5c_dwconv\n",
      "269 block5c_bn\n",
      "270 block5c_activation\n",
      "271 block5c_se_squeeze\n",
      "272 block5c_se_reshape\n",
      "273 block5c_se_reduce\n",
      "274 block5c_se_expand\n",
      "275 block5c_se_excite\n",
      "276 block5c_project_conv\n",
      "277 block5c_project_bn\n",
      "278 block5c_drop\n",
      "279 block5c_add\n",
      "280 block5d_expand_conv\n",
      "281 block5d_expand_bn\n",
      "282 block5d_expand_activation\n",
      "283 block5d_dwconv\n",
      "284 block5d_bn\n",
      "285 block5d_activation\n",
      "286 block5d_se_squeeze\n",
      "287 block5d_se_reshape\n",
      "288 block5d_se_reduce\n",
      "289 block5d_se_expand\n",
      "290 block5d_se_excite\n",
      "291 block5d_project_conv\n",
      "292 block5d_project_bn\n",
      "293 block5d_drop\n",
      "294 block5d_add\n",
      "295 block5e_expand_conv\n",
      "296 block5e_expand_bn\n",
      "297 block5e_expand_activation\n",
      "298 block5e_dwconv\n",
      "299 block5e_bn\n",
      "300 block5e_activation\n",
      "301 block5e_se_squeeze\n",
      "302 block5e_se_reshape\n",
      "303 block5e_se_reduce\n",
      "304 block5e_se_expand\n",
      "305 block5e_se_excite\n",
      "306 block5e_project_conv\n",
      "307 block5e_project_bn\n",
      "308 block5e_drop\n",
      "309 block5e_add\n",
      "310 block5f_expand_conv\n",
      "311 block5f_expand_bn\n",
      "312 block5f_expand_activation\n",
      "313 block5f_dwconv\n",
      "314 block5f_bn\n",
      "315 block5f_activation\n",
      "316 block5f_se_squeeze\n",
      "317 block5f_se_reshape\n",
      "318 block5f_se_reduce\n",
      "319 block5f_se_expand\n",
      "320 block5f_se_excite\n",
      "321 block5f_project_conv\n",
      "322 block5f_project_bn\n",
      "323 block5f_drop\n",
      "324 block5f_add\n",
      "325 block6a_expand_conv\n",
      "326 block6a_expand_bn\n",
      "327 block6a_expand_activation\n",
      "328 block6a_dwconv_pad\n",
      "329 block6a_dwconv\n",
      "330 block6a_bn\n",
      "331 block6a_activation\n",
      "332 block6a_se_squeeze\n",
      "333 block6a_se_reshape\n",
      "334 block6a_se_reduce\n",
      "335 block6a_se_expand\n",
      "336 block6a_se_excite\n",
      "337 block6a_project_conv\n",
      "338 block6a_project_bn\n",
      "339 block6b_expand_conv\n",
      "340 block6b_expand_bn\n",
      "341 block6b_expand_activation\n",
      "342 block6b_dwconv\n",
      "343 block6b_bn\n",
      "344 block6b_activation\n",
      "345 block6b_se_squeeze\n",
      "346 block6b_se_reshape\n",
      "347 block6b_se_reduce\n",
      "348 block6b_se_expand\n",
      "349 block6b_se_excite\n",
      "350 block6b_project_conv\n",
      "351 block6b_project_bn\n",
      "352 block6b_drop\n",
      "353 block6b_add\n",
      "354 block6c_expand_conv\n",
      "355 block6c_expand_bn\n",
      "356 block6c_expand_activation\n",
      "357 block6c_dwconv\n",
      "358 block6c_bn\n",
      "359 block6c_activation\n",
      "360 block6c_se_squeeze\n",
      "361 block6c_se_reshape\n",
      "362 block6c_se_reduce\n",
      "363 block6c_se_expand\n",
      "364 block6c_se_excite\n",
      "365 block6c_project_conv\n",
      "366 block6c_project_bn\n",
      "367 block6c_drop\n",
      "368 block6c_add\n",
      "369 block6d_expand_conv\n",
      "370 block6d_expand_bn\n",
      "371 block6d_expand_activation\n",
      "372 block6d_dwconv\n",
      "373 block6d_bn\n",
      "374 block6d_activation\n",
      "375 block6d_se_squeeze\n",
      "376 block6d_se_reshape\n",
      "377 block6d_se_reduce\n",
      "378 block6d_se_expand\n",
      "379 block6d_se_excite\n",
      "380 block6d_project_conv\n",
      "381 block6d_project_bn\n",
      "382 block6d_drop\n",
      "383 block6d_add\n",
      "384 block6e_expand_conv\n",
      "385 block6e_expand_bn\n",
      "386 block6e_expand_activation\n",
      "387 block6e_dwconv\n",
      "388 block6e_bn\n",
      "389 block6e_activation\n",
      "390 block6e_se_squeeze\n",
      "391 block6e_se_reshape\n",
      "392 block6e_se_reduce\n",
      "393 block6e_se_expand\n",
      "394 block6e_se_excite\n",
      "395 block6e_project_conv\n",
      "396 block6e_project_bn\n",
      "397 block6e_drop\n",
      "398 block6e_add\n",
      "399 block6f_expand_conv\n",
      "400 block6f_expand_bn\n",
      "401 block6f_expand_activation\n",
      "402 block6f_dwconv\n",
      "403 block6f_bn\n",
      "404 block6f_activation\n",
      "405 block6f_se_squeeze\n",
      "406 block6f_se_reshape\n",
      "407 block6f_se_reduce\n",
      "408 block6f_se_expand\n",
      "409 block6f_se_excite\n",
      "410 block6f_project_conv\n",
      "411 block6f_project_bn\n",
      "412 block6f_drop\n",
      "413 block6f_add\n",
      "414 block6g_expand_conv\n",
      "415 block6g_expand_bn\n",
      "416 block6g_expand_activation\n",
      "417 block6g_dwconv\n",
      "418 block6g_bn\n",
      "419 block6g_activation\n",
      "420 block6g_se_squeeze\n",
      "421 block6g_se_reshape\n",
      "422 block6g_se_reduce\n",
      "423 block6g_se_expand\n",
      "424 block6g_se_excite\n",
      "425 block6g_project_conv\n",
      "426 block6g_project_bn\n",
      "427 block6g_drop\n",
      "428 block6g_add\n",
      "429 block6h_expand_conv\n",
      "430 block6h_expand_bn\n",
      "431 block6h_expand_activation\n",
      "432 block6h_dwconv\n",
      "433 block6h_bn\n",
      "434 block6h_activation\n",
      "435 block6h_se_squeeze\n",
      "436 block6h_se_reshape\n",
      "437 block6h_se_reduce\n",
      "438 block6h_se_expand\n",
      "439 block6h_se_excite\n",
      "440 block6h_project_conv\n",
      "441 block6h_project_bn\n",
      "442 block6h_drop\n",
      "443 block6h_add\n",
      "444 block7a_expand_conv\n",
      "445 block7a_expand_bn\n",
      "446 block7a_expand_activation\n",
      "447 block7a_dwconv\n",
      "448 block7a_bn\n",
      "449 block7a_activation\n",
      "450 block7a_se_squeeze\n",
      "451 block7a_se_reshape\n",
      "452 block7a_se_reduce\n",
      "453 block7a_se_expand\n",
      "454 block7a_se_excite\n",
      "455 block7a_project_conv\n",
      "456 block7a_project_bn\n",
      "457 block7b_expand_conv\n",
      "458 block7b_expand_bn\n",
      "459 block7b_expand_activation\n",
      "460 block7b_dwconv\n",
      "461 block7b_bn\n",
      "462 block7b_activation\n",
      "463 block7b_se_squeeze\n",
      "464 block7b_se_reshape\n",
      "465 block7b_se_reduce\n",
      "466 block7b_se_expand\n",
      "467 block7b_se_excite\n",
      "468 block7b_project_conv\n",
      "469 block7b_project_bn\n",
      "470 block7b_drop\n",
      "471 block7b_add\n",
      "472 top_conv\n",
      "473 top_bn\n",
      "474 top_activation\n"
     ]
    }
   ],
   "source": [
    "# Check the layers in our base model\n",
    "for layer_number, layer in enumerate(base_model.layers):\n",
    "    print(layer_number, layer.name)"
   ]
  },
  {
   "cell_type": "markdown",
   "metadata": {
    "id": "nVTG-ZZUJhKB"
   },
   "source": [
    "Wow, that's a lot of layers... to handcode all of those would've taken a fairly long time to do, yet we can still take advatange of them thanks to the power of transfer learning.\n",
    "\n",
    "How about a summary of the base model?"
   ]
  },
  {
   "cell_type": "code",
   "execution_count": 35,
   "metadata": {
    "colab": {
     "base_uri": "https://localhost:8080/"
    },
    "id": "0gKubJmUu91N",
    "outputId": "68436c34-39d6-4883-c722-ccaa5b4e25fe"
   },
   "outputs": [
    {
     "name": "stdout",
     "output_type": "stream",
     "text": [
      "Model: \"efficientnetb4\"\n",
      "__________________________________________________________________________________________________\n",
      " Layer (type)                   Output Shape         Param #     Connected to                     \n",
      "==================================================================================================\n",
      " input_4 (InputLayer)           [(None, None, None,  0           []                               \n",
      "                                 3)]                                                              \n",
      "                                                                                                  \n",
      " rescaling_3 (Rescaling)        (None, None, None,   0           ['input_4[0][0]']                \n",
      "                                3)                                                                \n",
      "                                                                                                  \n",
      " normalization_3 (Normalization  (None, None, None,   7          ['rescaling_3[0][0]']            \n",
      " )                              3)                                                                \n",
      "                                                                                                  \n",
      " tf.math.truediv_3 (TFOpLambda)  (None, None, None,   0          ['normalization_3[0][0]']        \n",
      "                                3)                                                                \n",
      "                                                                                                  \n",
      " stem_conv_pad (ZeroPadding2D)  (None, None, None,   0           ['tf.math.truediv_3[0][0]']      \n",
      "                                3)                                                                \n",
      "                                                                                                  \n",
      " stem_conv (Conv2D)             (None, None, None,   1296        ['stem_conv_pad[0][0]']          \n",
      "                                48)                                                               \n",
      "                                                                                                  \n",
      " stem_bn (BatchNormalization)   (None, None, None,   192         ['stem_conv[0][0]']              \n",
      "                                48)                                                               \n",
      "                                                                                                  \n",
      " stem_activation (Activation)   (None, None, None,   0           ['stem_bn[0][0]']                \n",
      "                                48)                                                               \n",
      "                                                                                                  \n",
      " block1a_dwconv (DepthwiseConv2  (None, None, None,   432        ['stem_activation[0][0]']        \n",
      " D)                             48)                                                               \n",
      "                                                                                                  \n",
      " block1a_bn (BatchNormalization  (None, None, None,   192        ['block1a_dwconv[0][0]']         \n",
      " )                              48)                                                               \n",
      "                                                                                                  \n",
      " block1a_activation (Activation  (None, None, None,   0          ['block1a_bn[0][0]']             \n",
      " )                              48)                                                               \n",
      "                                                                                                  \n",
      " block1a_se_squeeze (GlobalAver  (None, 48)          0           ['block1a_activation[0][0]']     \n",
      " agePooling2D)                                                                                    \n",
      "                                                                                                  \n",
      " block1a_se_reshape (Reshape)   (None, 1, 1, 48)     0           ['block1a_se_squeeze[0][0]']     \n",
      "                                                                                                  \n",
      " block1a_se_reduce (Conv2D)     (None, 1, 1, 12)     588         ['block1a_se_reshape[0][0]']     \n",
      "                                                                                                  \n",
      " block1a_se_expand (Conv2D)     (None, 1, 1, 48)     624         ['block1a_se_reduce[0][0]']      \n",
      "                                                                                                  \n",
      " block1a_se_excite (Multiply)   (None, None, None,   0           ['block1a_activation[0][0]',     \n",
      "                                48)                               'block1a_se_expand[0][0]']      \n",
      "                                                                                                  \n",
      " block1a_project_conv (Conv2D)  (None, None, None,   1152        ['block1a_se_excite[0][0]']      \n",
      "                                24)                                                               \n",
      "                                                                                                  \n",
      " block1a_project_bn (BatchNorma  (None, None, None,   96         ['block1a_project_conv[0][0]']   \n",
      " lization)                      24)                                                               \n",
      "                                                                                                  \n",
      " block1b_dwconv (DepthwiseConv2  (None, None, None,   216        ['block1a_project_bn[0][0]']     \n",
      " D)                             24)                                                               \n",
      "                                                                                                  \n",
      " block1b_bn (BatchNormalization  (None, None, None,   96         ['block1b_dwconv[0][0]']         \n",
      " )                              24)                                                               \n",
      "                                                                                                  \n",
      " block1b_activation (Activation  (None, None, None,   0          ['block1b_bn[0][0]']             \n",
      " )                              24)                                                               \n",
      "                                                                                                  \n",
      " block1b_se_squeeze (GlobalAver  (None, 24)          0           ['block1b_activation[0][0]']     \n",
      " agePooling2D)                                                                                    \n",
      "                                                                                                  \n",
      " block1b_se_reshape (Reshape)   (None, 1, 1, 24)     0           ['block1b_se_squeeze[0][0]']     \n",
      "                                                                                                  \n",
      " block1b_se_reduce (Conv2D)     (None, 1, 1, 6)      150         ['block1b_se_reshape[0][0]']     \n",
      "                                                                                                  \n",
      " block1b_se_expand (Conv2D)     (None, 1, 1, 24)     168         ['block1b_se_reduce[0][0]']      \n",
      "                                                                                                  \n",
      " block1b_se_excite (Multiply)   (None, None, None,   0           ['block1b_activation[0][0]',     \n",
      "                                24)                               'block1b_se_expand[0][0]']      \n",
      "                                                                                                  \n",
      " block1b_project_conv (Conv2D)  (None, None, None,   576         ['block1b_se_excite[0][0]']      \n",
      "                                24)                                                               \n",
      "                                                                                                  \n",
      " block1b_project_bn (BatchNorma  (None, None, None,   96         ['block1b_project_conv[0][0]']   \n",
      " lization)                      24)                                                               \n",
      "                                                                                                  \n",
      " block1b_drop (Dropout)         (None, None, None,   0           ['block1b_project_bn[0][0]']     \n",
      "                                24)                                                               \n",
      "                                                                                                  \n",
      " block1b_add (Add)              (None, None, None,   0           ['block1b_drop[0][0]',           \n",
      "                                24)                               'block1a_project_bn[0][0]']     \n",
      "                                                                                                  \n",
      " block2a_expand_conv (Conv2D)   (None, None, None,   3456        ['block1b_add[0][0]']            \n",
      "                                144)                                                              \n",
      "                                                                                                  \n",
      " block2a_expand_bn (BatchNormal  (None, None, None,   576        ['block2a_expand_conv[0][0]']    \n",
      " ization)                       144)                                                              \n",
      "                                                                                                  \n",
      " block2a_expand_activation (Act  (None, None, None,   0          ['block2a_expand_bn[0][0]']      \n",
      " ivation)                       144)                                                              \n",
      "                                                                                                  \n",
      " block2a_dwconv_pad (ZeroPaddin  (None, None, None,   0          ['block2a_expand_activation[0][0]\n",
      " g2D)                           144)                             ']                               \n",
      "                                                                                                  \n",
      " block2a_dwconv (DepthwiseConv2  (None, None, None,   1296       ['block2a_dwconv_pad[0][0]']     \n",
      " D)                             144)                                                              \n",
      "                                                                                                  \n",
      " block2a_bn (BatchNormalization  (None, None, None,   576        ['block2a_dwconv[0][0]']         \n",
      " )                              144)                                                              \n",
      "                                                                                                  \n",
      " block2a_activation (Activation  (None, None, None,   0          ['block2a_bn[0][0]']             \n",
      " )                              144)                                                              \n",
      "                                                                                                  \n",
      " block2a_se_squeeze (GlobalAver  (None, 144)         0           ['block2a_activation[0][0]']     \n",
      " agePooling2D)                                                                                    \n",
      "                                                                                                  \n",
      " block2a_se_reshape (Reshape)   (None, 1, 1, 144)    0           ['block2a_se_squeeze[0][0]']     \n",
      "                                                                                                  \n",
      " block2a_se_reduce (Conv2D)     (None, 1, 1, 6)      870         ['block2a_se_reshape[0][0]']     \n",
      "                                                                                                  \n",
      " block2a_se_expand (Conv2D)     (None, 1, 1, 144)    1008        ['block2a_se_reduce[0][0]']      \n",
      "                                                                                                  \n",
      " block2a_se_excite (Multiply)   (None, None, None,   0           ['block2a_activation[0][0]',     \n",
      "                                144)                              'block2a_se_expand[0][0]']      \n",
      "                                                                                                  \n",
      " block2a_project_conv (Conv2D)  (None, None, None,   4608        ['block2a_se_excite[0][0]']      \n",
      "                                32)                                                               \n",
      "                                                                                                  \n",
      " block2a_project_bn (BatchNorma  (None, None, None,   128        ['block2a_project_conv[0][0]']   \n",
      " lization)                      32)                                                               \n",
      "                                                                                                  \n",
      " block2b_expand_conv (Conv2D)   (None, None, None,   6144        ['block2a_project_bn[0][0]']     \n",
      "                                192)                                                              \n",
      "                                                                                                  \n",
      " block2b_expand_bn (BatchNormal  (None, None, None,   768        ['block2b_expand_conv[0][0]']    \n",
      " ization)                       192)                                                              \n",
      "                                                                                                  \n",
      " block2b_expand_activation (Act  (None, None, None,   0          ['block2b_expand_bn[0][0]']      \n",
      " ivation)                       192)                                                              \n",
      "                                                                                                  \n",
      " block2b_dwconv (DepthwiseConv2  (None, None, None,   1728       ['block2b_expand_activation[0][0]\n",
      " D)                             192)                             ']                               \n",
      "                                                                                                  \n",
      " block2b_bn (BatchNormalization  (None, None, None,   768        ['block2b_dwconv[0][0]']         \n",
      " )                              192)                                                              \n",
      "                                                                                                  \n",
      " block2b_activation (Activation  (None, None, None,   0          ['block2b_bn[0][0]']             \n",
      " )                              192)                                                              \n",
      "                                                                                                  \n",
      " block2b_se_squeeze (GlobalAver  (None, 192)         0           ['block2b_activation[0][0]']     \n",
      " agePooling2D)                                                                                    \n",
      "                                                                                                  \n",
      " block2b_se_reshape (Reshape)   (None, 1, 1, 192)    0           ['block2b_se_squeeze[0][0]']     \n",
      "                                                                                                  \n",
      " block2b_se_reduce (Conv2D)     (None, 1, 1, 8)      1544        ['block2b_se_reshape[0][0]']     \n",
      "                                                                                                  \n",
      " block2b_se_expand (Conv2D)     (None, 1, 1, 192)    1728        ['block2b_se_reduce[0][0]']      \n",
      "                                                                                                  \n",
      " block2b_se_excite (Multiply)   (None, None, None,   0           ['block2b_activation[0][0]',     \n",
      "                                192)                              'block2b_se_expand[0][0]']      \n",
      "                                                                                                  \n",
      " block2b_project_conv (Conv2D)  (None, None, None,   6144        ['block2b_se_excite[0][0]']      \n",
      "                                32)                                                               \n",
      "                                                                                                  \n",
      " block2b_project_bn (BatchNorma  (None, None, None,   128        ['block2b_project_conv[0][0]']   \n",
      " lization)                      32)                                                               \n",
      "                                                                                                  \n",
      " block2b_drop (Dropout)         (None, None, None,   0           ['block2b_project_bn[0][0]']     \n",
      "                                32)                                                               \n",
      "                                                                                                  \n",
      " block2b_add (Add)              (None, None, None,   0           ['block2b_drop[0][0]',           \n",
      "                                32)                               'block2a_project_bn[0][0]']     \n",
      "                                                                                                  \n",
      " block2c_expand_conv (Conv2D)   (None, None, None,   6144        ['block2b_add[0][0]']            \n",
      "                                192)                                                              \n",
      "                                                                                                  \n",
      " block2c_expand_bn (BatchNormal  (None, None, None,   768        ['block2c_expand_conv[0][0]']    \n",
      " ization)                       192)                                                              \n",
      "                                                                                                  \n",
      " block2c_expand_activation (Act  (None, None, None,   0          ['block2c_expand_bn[0][0]']      \n",
      " ivation)                       192)                                                              \n",
      "                                                                                                  \n",
      " block2c_dwconv (DepthwiseConv2  (None, None, None,   1728       ['block2c_expand_activation[0][0]\n",
      " D)                             192)                             ']                               \n",
      "                                                                                                  \n",
      " block2c_bn (BatchNormalization  (None, None, None,   768        ['block2c_dwconv[0][0]']         \n",
      " )                              192)                                                              \n",
      "                                                                                                  \n",
      " block2c_activation (Activation  (None, None, None,   0          ['block2c_bn[0][0]']             \n",
      " )                              192)                                                              \n",
      "                                                                                                  \n",
      " block2c_se_squeeze (GlobalAver  (None, 192)         0           ['block2c_activation[0][0]']     \n",
      " agePooling2D)                                                                                    \n",
      "                                                                                                  \n",
      " block2c_se_reshape (Reshape)   (None, 1, 1, 192)    0           ['block2c_se_squeeze[0][0]']     \n",
      "                                                                                                  \n",
      " block2c_se_reduce (Conv2D)     (None, 1, 1, 8)      1544        ['block2c_se_reshape[0][0]']     \n",
      "                                                                                                  \n",
      " block2c_se_expand (Conv2D)     (None, 1, 1, 192)    1728        ['block2c_se_reduce[0][0]']      \n",
      "                                                                                                  \n",
      " block2c_se_excite (Multiply)   (None, None, None,   0           ['block2c_activation[0][0]',     \n",
      "                                192)                              'block2c_se_expand[0][0]']      \n",
      "                                                                                                  \n",
      " block2c_project_conv (Conv2D)  (None, None, None,   6144        ['block2c_se_excite[0][0]']      \n",
      "                                32)                                                               \n",
      "                                                                                                  \n",
      " block2c_project_bn (BatchNorma  (None, None, None,   128        ['block2c_project_conv[0][0]']   \n",
      " lization)                      32)                                                               \n",
      "                                                                                                  \n",
      " block2c_drop (Dropout)         (None, None, None,   0           ['block2c_project_bn[0][0]']     \n",
      "                                32)                                                               \n",
      "                                                                                                  \n",
      " block2c_add (Add)              (None, None, None,   0           ['block2c_drop[0][0]',           \n",
      "                                32)                               'block2b_add[0][0]']            \n",
      "                                                                                                  \n",
      " block2d_expand_conv (Conv2D)   (None, None, None,   6144        ['block2c_add[0][0]']            \n",
      "                                192)                                                              \n",
      "                                                                                                  \n",
      " block2d_expand_bn (BatchNormal  (None, None, None,   768        ['block2d_expand_conv[0][0]']    \n",
      " ization)                       192)                                                              \n",
      "                                                                                                  \n",
      " block2d_expand_activation (Act  (None, None, None,   0          ['block2d_expand_bn[0][0]']      \n",
      " ivation)                       192)                                                              \n",
      "                                                                                                  \n",
      " block2d_dwconv (DepthwiseConv2  (None, None, None,   1728       ['block2d_expand_activation[0][0]\n",
      " D)                             192)                             ']                               \n",
      "                                                                                                  \n",
      " block2d_bn (BatchNormalization  (None, None, None,   768        ['block2d_dwconv[0][0]']         \n",
      " )                              192)                                                              \n",
      "                                                                                                  \n",
      " block2d_activation (Activation  (None, None, None,   0          ['block2d_bn[0][0]']             \n",
      " )                              192)                                                              \n",
      "                                                                                                  \n",
      " block2d_se_squeeze (GlobalAver  (None, 192)         0           ['block2d_activation[0][0]']     \n",
      " agePooling2D)                                                                                    \n",
      "                                                                                                  \n",
      " block2d_se_reshape (Reshape)   (None, 1, 1, 192)    0           ['block2d_se_squeeze[0][0]']     \n",
      "                                                                                                  \n",
      " block2d_se_reduce (Conv2D)     (None, 1, 1, 8)      1544        ['block2d_se_reshape[0][0]']     \n",
      "                                                                                                  \n",
      " block2d_se_expand (Conv2D)     (None, 1, 1, 192)    1728        ['block2d_se_reduce[0][0]']      \n",
      "                                                                                                  \n",
      " block2d_se_excite (Multiply)   (None, None, None,   0           ['block2d_activation[0][0]',     \n",
      "                                192)                              'block2d_se_expand[0][0]']      \n",
      "                                                                                                  \n",
      " block2d_project_conv (Conv2D)  (None, None, None,   6144        ['block2d_se_excite[0][0]']      \n",
      "                                32)                                                               \n",
      "                                                                                                  \n",
      " block2d_project_bn (BatchNorma  (None, None, None,   128        ['block2d_project_conv[0][0]']   \n",
      " lization)                      32)                                                               \n",
      "                                                                                                  \n",
      " block2d_drop (Dropout)         (None, None, None,   0           ['block2d_project_bn[0][0]']     \n",
      "                                32)                                                               \n",
      "                                                                                                  \n",
      " block2d_add (Add)              (None, None, None,   0           ['block2d_drop[0][0]',           \n",
      "                                32)                               'block2c_add[0][0]']            \n",
      "                                                                                                  \n",
      " block3a_expand_conv (Conv2D)   (None, None, None,   6144        ['block2d_add[0][0]']            \n",
      "                                192)                                                              \n",
      "                                                                                                  \n",
      " block3a_expand_bn (BatchNormal  (None, None, None,   768        ['block3a_expand_conv[0][0]']    \n",
      " ization)                       192)                                                              \n",
      "                                                                                                  \n",
      " block3a_expand_activation (Act  (None, None, None,   0          ['block3a_expand_bn[0][0]']      \n",
      " ivation)                       192)                                                              \n",
      "                                                                                                  \n",
      " block3a_dwconv_pad (ZeroPaddin  (None, None, None,   0          ['block3a_expand_activation[0][0]\n",
      " g2D)                           192)                             ']                               \n",
      "                                                                                                  \n",
      " block3a_dwconv (DepthwiseConv2  (None, None, None,   4800       ['block3a_dwconv_pad[0][0]']     \n",
      " D)                             192)                                                              \n",
      "                                                                                                  \n",
      " block3a_bn (BatchNormalization  (None, None, None,   768        ['block3a_dwconv[0][0]']         \n",
      " )                              192)                                                              \n",
      "                                                                                                  \n",
      " block3a_activation (Activation  (None, None, None,   0          ['block3a_bn[0][0]']             \n",
      " )                              192)                                                              \n",
      "                                                                                                  \n",
      " block3a_se_squeeze (GlobalAver  (None, 192)         0           ['block3a_activation[0][0]']     \n",
      " agePooling2D)                                                                                    \n",
      "                                                                                                  \n",
      " block3a_se_reshape (Reshape)   (None, 1, 1, 192)    0           ['block3a_se_squeeze[0][0]']     \n",
      "                                                                                                  \n",
      " block3a_se_reduce (Conv2D)     (None, 1, 1, 8)      1544        ['block3a_se_reshape[0][0]']     \n",
      "                                                                                                  \n",
      " block3a_se_expand (Conv2D)     (None, 1, 1, 192)    1728        ['block3a_se_reduce[0][0]']      \n",
      "                                                                                                  \n",
      " block3a_se_excite (Multiply)   (None, None, None,   0           ['block3a_activation[0][0]',     \n",
      "                                192)                              'block3a_se_expand[0][0]']      \n",
      "                                                                                                  \n",
      " block3a_project_conv (Conv2D)  (None, None, None,   10752       ['block3a_se_excite[0][0]']      \n",
      "                                56)                                                               \n",
      "                                                                                                  \n",
      " block3a_project_bn (BatchNorma  (None, None, None,   224        ['block3a_project_conv[0][0]']   \n",
      " lization)                      56)                                                               \n",
      "                                                                                                  \n",
      " block3b_expand_conv (Conv2D)   (None, None, None,   18816       ['block3a_project_bn[0][0]']     \n",
      "                                336)                                                              \n",
      "                                                                                                  \n",
      " block3b_expand_bn (BatchNormal  (None, None, None,   1344       ['block3b_expand_conv[0][0]']    \n",
      " ization)                       336)                                                              \n",
      "                                                                                                  \n",
      " block3b_expand_activation (Act  (None, None, None,   0          ['block3b_expand_bn[0][0]']      \n",
      " ivation)                       336)                                                              \n",
      "                                                                                                  \n",
      " block3b_dwconv (DepthwiseConv2  (None, None, None,   8400       ['block3b_expand_activation[0][0]\n",
      " D)                             336)                             ']                               \n",
      "                                                                                                  \n",
      " block3b_bn (BatchNormalization  (None, None, None,   1344       ['block3b_dwconv[0][0]']         \n",
      " )                              336)                                                              \n",
      "                                                                                                  \n",
      " block3b_activation (Activation  (None, None, None,   0          ['block3b_bn[0][0]']             \n",
      " )                              336)                                                              \n",
      "                                                                                                  \n",
      " block3b_se_squeeze (GlobalAver  (None, 336)         0           ['block3b_activation[0][0]']     \n",
      " agePooling2D)                                                                                    \n",
      "                                                                                                  \n",
      " block3b_se_reshape (Reshape)   (None, 1, 1, 336)    0           ['block3b_se_squeeze[0][0]']     \n",
      "                                                                                                  \n",
      " block3b_se_reduce (Conv2D)     (None, 1, 1, 14)     4718        ['block3b_se_reshape[0][0]']     \n",
      "                                                                                                  \n",
      " block3b_se_expand (Conv2D)     (None, 1, 1, 336)    5040        ['block3b_se_reduce[0][0]']      \n",
      "                                                                                                  \n",
      " block3b_se_excite (Multiply)   (None, None, None,   0           ['block3b_activation[0][0]',     \n",
      "                                336)                              'block3b_se_expand[0][0]']      \n",
      "                                                                                                  \n",
      " block3b_project_conv (Conv2D)  (None, None, None,   18816       ['block3b_se_excite[0][0]']      \n",
      "                                56)                                                               \n",
      "                                                                                                  \n",
      " block3b_project_bn (BatchNorma  (None, None, None,   224        ['block3b_project_conv[0][0]']   \n",
      " lization)                      56)                                                               \n",
      "                                                                                                  \n",
      " block3b_drop (Dropout)         (None, None, None,   0           ['block3b_project_bn[0][0]']     \n",
      "                                56)                                                               \n",
      "                                                                                                  \n",
      " block3b_add (Add)              (None, None, None,   0           ['block3b_drop[0][0]',           \n",
      "                                56)                               'block3a_project_bn[0][0]']     \n",
      "                                                                                                  \n",
      " block3c_expand_conv (Conv2D)   (None, None, None,   18816       ['block3b_add[0][0]']            \n",
      "                                336)                                                              \n",
      "                                                                                                  \n",
      " block3c_expand_bn (BatchNormal  (None, None, None,   1344       ['block3c_expand_conv[0][0]']    \n",
      " ization)                       336)                                                              \n",
      "                                                                                                  \n",
      " block3c_expand_activation (Act  (None, None, None,   0          ['block3c_expand_bn[0][0]']      \n",
      " ivation)                       336)                                                              \n",
      "                                                                                                  \n",
      " block3c_dwconv (DepthwiseConv2  (None, None, None,   8400       ['block3c_expand_activation[0][0]\n",
      " D)                             336)                             ']                               \n",
      "                                                                                                  \n",
      " block3c_bn (BatchNormalization  (None, None, None,   1344       ['block3c_dwconv[0][0]']         \n",
      " )                              336)                                                              \n",
      "                                                                                                  \n",
      " block3c_activation (Activation  (None, None, None,   0          ['block3c_bn[0][0]']             \n",
      " )                              336)                                                              \n",
      "                                                                                                  \n",
      " block3c_se_squeeze (GlobalAver  (None, 336)         0           ['block3c_activation[0][0]']     \n",
      " agePooling2D)                                                                                    \n",
      "                                                                                                  \n",
      " block3c_se_reshape (Reshape)   (None, 1, 1, 336)    0           ['block3c_se_squeeze[0][0]']     \n",
      "                                                                                                  \n",
      " block3c_se_reduce (Conv2D)     (None, 1, 1, 14)     4718        ['block3c_se_reshape[0][0]']     \n",
      "                                                                                                  \n",
      " block3c_se_expand (Conv2D)     (None, 1, 1, 336)    5040        ['block3c_se_reduce[0][0]']      \n",
      "                                                                                                  \n",
      " block3c_se_excite (Multiply)   (None, None, None,   0           ['block3c_activation[0][0]',     \n",
      "                                336)                              'block3c_se_expand[0][0]']      \n",
      "                                                                                                  \n",
      " block3c_project_conv (Conv2D)  (None, None, None,   18816       ['block3c_se_excite[0][0]']      \n",
      "                                56)                                                               \n",
      "                                                                                                  \n",
      " block3c_project_bn (BatchNorma  (None, None, None,   224        ['block3c_project_conv[0][0]']   \n",
      " lization)                      56)                                                               \n",
      "                                                                                                  \n",
      " block3c_drop (Dropout)         (None, None, None,   0           ['block3c_project_bn[0][0]']     \n",
      "                                56)                                                               \n",
      "                                                                                                  \n",
      " block3c_add (Add)              (None, None, None,   0           ['block3c_drop[0][0]',           \n",
      "                                56)                               'block3b_add[0][0]']            \n",
      "                                                                                                  \n",
      " block3d_expand_conv (Conv2D)   (None, None, None,   18816       ['block3c_add[0][0]']            \n",
      "                                336)                                                              \n",
      "                                                                                                  \n",
      " block3d_expand_bn (BatchNormal  (None, None, None,   1344       ['block3d_expand_conv[0][0]']    \n",
      " ization)                       336)                                                              \n",
      "                                                                                                  \n",
      " block3d_expand_activation (Act  (None, None, None,   0          ['block3d_expand_bn[0][0]']      \n",
      " ivation)                       336)                                                              \n",
      "                                                                                                  \n",
      " block3d_dwconv (DepthwiseConv2  (None, None, None,   8400       ['block3d_expand_activation[0][0]\n",
      " D)                             336)                             ']                               \n",
      "                                                                                                  \n",
      " block3d_bn (BatchNormalization  (None, None, None,   1344       ['block3d_dwconv[0][0]']         \n",
      " )                              336)                                                              \n",
      "                                                                                                  \n",
      " block3d_activation (Activation  (None, None, None,   0          ['block3d_bn[0][0]']             \n",
      " )                              336)                                                              \n",
      "                                                                                                  \n",
      " block3d_se_squeeze (GlobalAver  (None, 336)         0           ['block3d_activation[0][0]']     \n",
      " agePooling2D)                                                                                    \n",
      "                                                                                                  \n",
      " block3d_se_reshape (Reshape)   (None, 1, 1, 336)    0           ['block3d_se_squeeze[0][0]']     \n",
      "                                                                                                  \n",
      " block3d_se_reduce (Conv2D)     (None, 1, 1, 14)     4718        ['block3d_se_reshape[0][0]']     \n",
      "                                                                                                  \n",
      " block3d_se_expand (Conv2D)     (None, 1, 1, 336)    5040        ['block3d_se_reduce[0][0]']      \n",
      "                                                                                                  \n",
      " block3d_se_excite (Multiply)   (None, None, None,   0           ['block3d_activation[0][0]',     \n",
      "                                336)                              'block3d_se_expand[0][0]']      \n",
      "                                                                                                  \n",
      " block3d_project_conv (Conv2D)  (None, None, None,   18816       ['block3d_se_excite[0][0]']      \n",
      "                                56)                                                               \n",
      "                                                                                                  \n",
      " block3d_project_bn (BatchNorma  (None, None, None,   224        ['block3d_project_conv[0][0]']   \n",
      " lization)                      56)                                                               \n",
      "                                                                                                  \n",
      " block3d_drop (Dropout)         (None, None, None,   0           ['block3d_project_bn[0][0]']     \n",
      "                                56)                                                               \n",
      "                                                                                                  \n",
      " block3d_add (Add)              (None, None, None,   0           ['block3d_drop[0][0]',           \n",
      "                                56)                               'block3c_add[0][0]']            \n",
      "                                                                                                  \n",
      " block4a_expand_conv (Conv2D)   (None, None, None,   18816       ['block3d_add[0][0]']            \n",
      "                                336)                                                              \n",
      "                                                                                                  \n",
      " block4a_expand_bn (BatchNormal  (None, None, None,   1344       ['block4a_expand_conv[0][0]']    \n",
      " ization)                       336)                                                              \n",
      "                                                                                                  \n",
      " block4a_expand_activation (Act  (None, None, None,   0          ['block4a_expand_bn[0][0]']      \n",
      " ivation)                       336)                                                              \n",
      "                                                                                                  \n",
      " block4a_dwconv_pad (ZeroPaddin  (None, None, None,   0          ['block4a_expand_activation[0][0]\n",
      " g2D)                           336)                             ']                               \n",
      "                                                                                                  \n",
      " block4a_dwconv (DepthwiseConv2  (None, None, None,   3024       ['block4a_dwconv_pad[0][0]']     \n",
      " D)                             336)                                                              \n",
      "                                                                                                  \n",
      " block4a_bn (BatchNormalization  (None, None, None,   1344       ['block4a_dwconv[0][0]']         \n",
      " )                              336)                                                              \n",
      "                                                                                                  \n",
      " block4a_activation (Activation  (None, None, None,   0          ['block4a_bn[0][0]']             \n",
      " )                              336)                                                              \n",
      "                                                                                                  \n",
      " block4a_se_squeeze (GlobalAver  (None, 336)         0           ['block4a_activation[0][0]']     \n",
      " agePooling2D)                                                                                    \n",
      "                                                                                                  \n",
      " block4a_se_reshape (Reshape)   (None, 1, 1, 336)    0           ['block4a_se_squeeze[0][0]']     \n",
      "                                                                                                  \n",
      " block4a_se_reduce (Conv2D)     (None, 1, 1, 14)     4718        ['block4a_se_reshape[0][0]']     \n",
      "                                                                                                  \n",
      " block4a_se_expand (Conv2D)     (None, 1, 1, 336)    5040        ['block4a_se_reduce[0][0]']      \n",
      "                                                                                                  \n",
      " block4a_se_excite (Multiply)   (None, None, None,   0           ['block4a_activation[0][0]',     \n",
      "                                336)                              'block4a_se_expand[0][0]']      \n",
      "                                                                                                  \n",
      " block4a_project_conv (Conv2D)  (None, None, None,   37632       ['block4a_se_excite[0][0]']      \n",
      "                                112)                                                              \n",
      "                                                                                                  \n",
      " block4a_project_bn (BatchNorma  (None, None, None,   448        ['block4a_project_conv[0][0]']   \n",
      " lization)                      112)                                                              \n",
      "                                                                                                  \n",
      " block4b_expand_conv (Conv2D)   (None, None, None,   75264       ['block4a_project_bn[0][0]']     \n",
      "                                672)                                                              \n",
      "                                                                                                  \n",
      " block4b_expand_bn (BatchNormal  (None, None, None,   2688       ['block4b_expand_conv[0][0]']    \n",
      " ization)                       672)                                                              \n",
      "                                                                                                  \n",
      " block4b_expand_activation (Act  (None, None, None,   0          ['block4b_expand_bn[0][0]']      \n",
      " ivation)                       672)                                                              \n",
      "                                                                                                  \n",
      " block4b_dwconv (DepthwiseConv2  (None, None, None,   6048       ['block4b_expand_activation[0][0]\n",
      " D)                             672)                             ']                               \n",
      "                                                                                                  \n",
      " block4b_bn (BatchNormalization  (None, None, None,   2688       ['block4b_dwconv[0][0]']         \n",
      " )                              672)                                                              \n",
      "                                                                                                  \n",
      " block4b_activation (Activation  (None, None, None,   0          ['block4b_bn[0][0]']             \n",
      " )                              672)                                                              \n",
      "                                                                                                  \n",
      " block4b_se_squeeze (GlobalAver  (None, 672)         0           ['block4b_activation[0][0]']     \n",
      " agePooling2D)                                                                                    \n",
      "                                                                                                  \n",
      " block4b_se_reshape (Reshape)   (None, 1, 1, 672)    0           ['block4b_se_squeeze[0][0]']     \n",
      "                                                                                                  \n",
      " block4b_se_reduce (Conv2D)     (None, 1, 1, 28)     18844       ['block4b_se_reshape[0][0]']     \n",
      "                                                                                                  \n",
      " block4b_se_expand (Conv2D)     (None, 1, 1, 672)    19488       ['block4b_se_reduce[0][0]']      \n",
      "                                                                                                  \n",
      " block4b_se_excite (Multiply)   (None, None, None,   0           ['block4b_activation[0][0]',     \n",
      "                                672)                              'block4b_se_expand[0][0]']      \n",
      "                                                                                                  \n",
      " block4b_project_conv (Conv2D)  (None, None, None,   75264       ['block4b_se_excite[0][0]']      \n",
      "                                112)                                                              \n",
      "                                                                                                  \n",
      " block4b_project_bn (BatchNorma  (None, None, None,   448        ['block4b_project_conv[0][0]']   \n",
      " lization)                      112)                                                              \n",
      "                                                                                                  \n",
      " block4b_drop (Dropout)         (None, None, None,   0           ['block4b_project_bn[0][0]']     \n",
      "                                112)                                                              \n",
      "                                                                                                  \n",
      " block4b_add (Add)              (None, None, None,   0           ['block4b_drop[0][0]',           \n",
      "                                112)                              'block4a_project_bn[0][0]']     \n",
      "                                                                                                  \n",
      " block4c_expand_conv (Conv2D)   (None, None, None,   75264       ['block4b_add[0][0]']            \n",
      "                                672)                                                              \n",
      "                                                                                                  \n",
      " block4c_expand_bn (BatchNormal  (None, None, None,   2688       ['block4c_expand_conv[0][0]']    \n",
      " ization)                       672)                                                              \n",
      "                                                                                                  \n",
      " block4c_expand_activation (Act  (None, None, None,   0          ['block4c_expand_bn[0][0]']      \n",
      " ivation)                       672)                                                              \n",
      "                                                                                                  \n",
      " block4c_dwconv (DepthwiseConv2  (None, None, None,   6048       ['block4c_expand_activation[0][0]\n",
      " D)                             672)                             ']                               \n",
      "                                                                                                  \n",
      " block4c_bn (BatchNormalization  (None, None, None,   2688       ['block4c_dwconv[0][0]']         \n",
      " )                              672)                                                              \n",
      "                                                                                                  \n",
      " block4c_activation (Activation  (None, None, None,   0          ['block4c_bn[0][0]']             \n",
      " )                              672)                                                              \n",
      "                                                                                                  \n",
      " block4c_se_squeeze (GlobalAver  (None, 672)         0           ['block4c_activation[0][0]']     \n",
      " agePooling2D)                                                                                    \n",
      "                                                                                                  \n",
      " block4c_se_reshape (Reshape)   (None, 1, 1, 672)    0           ['block4c_se_squeeze[0][0]']     \n",
      "                                                                                                  \n",
      " block4c_se_reduce (Conv2D)     (None, 1, 1, 28)     18844       ['block4c_se_reshape[0][0]']     \n",
      "                                                                                                  \n",
      " block4c_se_expand (Conv2D)     (None, 1, 1, 672)    19488       ['block4c_se_reduce[0][0]']      \n",
      "                                                                                                  \n",
      " block4c_se_excite (Multiply)   (None, None, None,   0           ['block4c_activation[0][0]',     \n",
      "                                672)                              'block4c_se_expand[0][0]']      \n",
      "                                                                                                  \n",
      " block4c_project_conv (Conv2D)  (None, None, None,   75264       ['block4c_se_excite[0][0]']      \n",
      "                                112)                                                              \n",
      "                                                                                                  \n",
      " block4c_project_bn (BatchNorma  (None, None, None,   448        ['block4c_project_conv[0][0]']   \n",
      " lization)                      112)                                                              \n",
      "                                                                                                  \n",
      " block4c_drop (Dropout)         (None, None, None,   0           ['block4c_project_bn[0][0]']     \n",
      "                                112)                                                              \n",
      "                                                                                                  \n",
      " block4c_add (Add)              (None, None, None,   0           ['block4c_drop[0][0]',           \n",
      "                                112)                              'block4b_add[0][0]']            \n",
      "                                                                                                  \n",
      " block4d_expand_conv (Conv2D)   (None, None, None,   75264       ['block4c_add[0][0]']            \n",
      "                                672)                                                              \n",
      "                                                                                                  \n",
      " block4d_expand_bn (BatchNormal  (None, None, None,   2688       ['block4d_expand_conv[0][0]']    \n",
      " ization)                       672)                                                              \n",
      "                                                                                                  \n",
      " block4d_expand_activation (Act  (None, None, None,   0          ['block4d_expand_bn[0][0]']      \n",
      " ivation)                       672)                                                              \n",
      "                                                                                                  \n",
      " block4d_dwconv (DepthwiseConv2  (None, None, None,   6048       ['block4d_expand_activation[0][0]\n",
      " D)                             672)                             ']                               \n",
      "                                                                                                  \n",
      " block4d_bn (BatchNormalization  (None, None, None,   2688       ['block4d_dwconv[0][0]']         \n",
      " )                              672)                                                              \n",
      "                                                                                                  \n",
      " block4d_activation (Activation  (None, None, None,   0          ['block4d_bn[0][0]']             \n",
      " )                              672)                                                              \n",
      "                                                                                                  \n",
      " block4d_se_squeeze (GlobalAver  (None, 672)         0           ['block4d_activation[0][0]']     \n",
      " agePooling2D)                                                                                    \n",
      "                                                                                                  \n",
      " block4d_se_reshape (Reshape)   (None, 1, 1, 672)    0           ['block4d_se_squeeze[0][0]']     \n",
      "                                                                                                  \n",
      " block4d_se_reduce (Conv2D)     (None, 1, 1, 28)     18844       ['block4d_se_reshape[0][0]']     \n",
      "                                                                                                  \n",
      " block4d_se_expand (Conv2D)     (None, 1, 1, 672)    19488       ['block4d_se_reduce[0][0]']      \n",
      "                                                                                                  \n",
      " block4d_se_excite (Multiply)   (None, None, None,   0           ['block4d_activation[0][0]',     \n",
      "                                672)                              'block4d_se_expand[0][0]']      \n",
      "                                                                                                  \n",
      " block4d_project_conv (Conv2D)  (None, None, None,   75264       ['block4d_se_excite[0][0]']      \n",
      "                                112)                                                              \n",
      "                                                                                                  \n",
      " block4d_project_bn (BatchNorma  (None, None, None,   448        ['block4d_project_conv[0][0]']   \n",
      " lization)                      112)                                                              \n",
      "                                                                                                  \n",
      " block4d_drop (Dropout)         (None, None, None,   0           ['block4d_project_bn[0][0]']     \n",
      "                                112)                                                              \n",
      "                                                                                                  \n",
      " block4d_add (Add)              (None, None, None,   0           ['block4d_drop[0][0]',           \n",
      "                                112)                              'block4c_add[0][0]']            \n",
      "                                                                                                  \n",
      " block4e_expand_conv (Conv2D)   (None, None, None,   75264       ['block4d_add[0][0]']            \n",
      "                                672)                                                              \n",
      "                                                                                                  \n",
      " block4e_expand_bn (BatchNormal  (None, None, None,   2688       ['block4e_expand_conv[0][0]']    \n",
      " ization)                       672)                                                              \n",
      "                                                                                                  \n",
      " block4e_expand_activation (Act  (None, None, None,   0          ['block4e_expand_bn[0][0]']      \n",
      " ivation)                       672)                                                              \n",
      "                                                                                                  \n",
      " block4e_dwconv (DepthwiseConv2  (None, None, None,   6048       ['block4e_expand_activation[0][0]\n",
      " D)                             672)                             ']                               \n",
      "                                                                                                  \n",
      " block4e_bn (BatchNormalization  (None, None, None,   2688       ['block4e_dwconv[0][0]']         \n",
      " )                              672)                                                              \n",
      "                                                                                                  \n",
      " block4e_activation (Activation  (None, None, None,   0          ['block4e_bn[0][0]']             \n",
      " )                              672)                                                              \n",
      "                                                                                                  \n",
      " block4e_se_squeeze (GlobalAver  (None, 672)         0           ['block4e_activation[0][0]']     \n",
      " agePooling2D)                                                                                    \n",
      "                                                                                                  \n",
      " block4e_se_reshape (Reshape)   (None, 1, 1, 672)    0           ['block4e_se_squeeze[0][0]']     \n",
      "                                                                                                  \n",
      " block4e_se_reduce (Conv2D)     (None, 1, 1, 28)     18844       ['block4e_se_reshape[0][0]']     \n",
      "                                                                                                  \n",
      " block4e_se_expand (Conv2D)     (None, 1, 1, 672)    19488       ['block4e_se_reduce[0][0]']      \n",
      "                                                                                                  \n",
      " block4e_se_excite (Multiply)   (None, None, None,   0           ['block4e_activation[0][0]',     \n",
      "                                672)                              'block4e_se_expand[0][0]']      \n",
      "                                                                                                  \n",
      " block4e_project_conv (Conv2D)  (None, None, None,   75264       ['block4e_se_excite[0][0]']      \n",
      "                                112)                                                              \n",
      "                                                                                                  \n",
      " block4e_project_bn (BatchNorma  (None, None, None,   448        ['block4e_project_conv[0][0]']   \n",
      " lization)                      112)                                                              \n",
      "                                                                                                  \n",
      " block4e_drop (Dropout)         (None, None, None,   0           ['block4e_project_bn[0][0]']     \n",
      "                                112)                                                              \n",
      "                                                                                                  \n",
      " block4e_add (Add)              (None, None, None,   0           ['block4e_drop[0][0]',           \n",
      "                                112)                              'block4d_add[0][0]']            \n",
      "                                                                                                  \n",
      " block4f_expand_conv (Conv2D)   (None, None, None,   75264       ['block4e_add[0][0]']            \n",
      "                                672)                                                              \n",
      "                                                                                                  \n",
      " block4f_expand_bn (BatchNormal  (None, None, None,   2688       ['block4f_expand_conv[0][0]']    \n",
      " ization)                       672)                                                              \n",
      "                                                                                                  \n",
      " block4f_expand_activation (Act  (None, None, None,   0          ['block4f_expand_bn[0][0]']      \n",
      " ivation)                       672)                                                              \n",
      "                                                                                                  \n",
      " block4f_dwconv (DepthwiseConv2  (None, None, None,   6048       ['block4f_expand_activation[0][0]\n",
      " D)                             672)                             ']                               \n",
      "                                                                                                  \n",
      " block4f_bn (BatchNormalization  (None, None, None,   2688       ['block4f_dwconv[0][0]']         \n",
      " )                              672)                                                              \n",
      "                                                                                                  \n",
      " block4f_activation (Activation  (None, None, None,   0          ['block4f_bn[0][0]']             \n",
      " )                              672)                                                              \n",
      "                                                                                                  \n",
      " block4f_se_squeeze (GlobalAver  (None, 672)         0           ['block4f_activation[0][0]']     \n",
      " agePooling2D)                                                                                    \n",
      "                                                                                                  \n",
      " block4f_se_reshape (Reshape)   (None, 1, 1, 672)    0           ['block4f_se_squeeze[0][0]']     \n",
      "                                                                                                  \n",
      " block4f_se_reduce (Conv2D)     (None, 1, 1, 28)     18844       ['block4f_se_reshape[0][0]']     \n",
      "                                                                                                  \n",
      " block4f_se_expand (Conv2D)     (None, 1, 1, 672)    19488       ['block4f_se_reduce[0][0]']      \n",
      "                                                                                                  \n",
      " block4f_se_excite (Multiply)   (None, None, None,   0           ['block4f_activation[0][0]',     \n",
      "                                672)                              'block4f_se_expand[0][0]']      \n",
      "                                                                                                  \n",
      " block4f_project_conv (Conv2D)  (None, None, None,   75264       ['block4f_se_excite[0][0]']      \n",
      "                                112)                                                              \n",
      "                                                                                                  \n",
      " block4f_project_bn (BatchNorma  (None, None, None,   448        ['block4f_project_conv[0][0]']   \n",
      " lization)                      112)                                                              \n",
      "                                                                                                  \n",
      " block4f_drop (Dropout)         (None, None, None,   0           ['block4f_project_bn[0][0]']     \n",
      "                                112)                                                              \n",
      "                                                                                                  \n",
      " block4f_add (Add)              (None, None, None,   0           ['block4f_drop[0][0]',           \n",
      "                                112)                              'block4e_add[0][0]']            \n",
      "                                                                                                  \n",
      " block5a_expand_conv (Conv2D)   (None, None, None,   75264       ['block4f_add[0][0]']            \n",
      "                                672)                                                              \n",
      "                                                                                                  \n",
      " block5a_expand_bn (BatchNormal  (None, None, None,   2688       ['block5a_expand_conv[0][0]']    \n",
      " ization)                       672)                                                              \n",
      "                                                                                                  \n",
      " block5a_expand_activation (Act  (None, None, None,   0          ['block5a_expand_bn[0][0]']      \n",
      " ivation)                       672)                                                              \n",
      "                                                                                                  \n",
      " block5a_dwconv (DepthwiseConv2  (None, None, None,   16800      ['block5a_expand_activation[0][0]\n",
      " D)                             672)                             ']                               \n",
      "                                                                                                  \n",
      " block5a_bn (BatchNormalization  (None, None, None,   2688       ['block5a_dwconv[0][0]']         \n",
      " )                              672)                                                              \n",
      "                                                                                                  \n",
      " block5a_activation (Activation  (None, None, None,   0          ['block5a_bn[0][0]']             \n",
      " )                              672)                                                              \n",
      "                                                                                                  \n",
      " block5a_se_squeeze (GlobalAver  (None, 672)         0           ['block5a_activation[0][0]']     \n",
      " agePooling2D)                                                                                    \n",
      "                                                                                                  \n",
      " block5a_se_reshape (Reshape)   (None, 1, 1, 672)    0           ['block5a_se_squeeze[0][0]']     \n",
      "                                                                                                  \n",
      " block5a_se_reduce (Conv2D)     (None, 1, 1, 28)     18844       ['block5a_se_reshape[0][0]']     \n",
      "                                                                                                  \n",
      " block5a_se_expand (Conv2D)     (None, 1, 1, 672)    19488       ['block5a_se_reduce[0][0]']      \n",
      "                                                                                                  \n",
      " block5a_se_excite (Multiply)   (None, None, None,   0           ['block5a_activation[0][0]',     \n",
      "                                672)                              'block5a_se_expand[0][0]']      \n",
      "                                                                                                  \n",
      " block5a_project_conv (Conv2D)  (None, None, None,   107520      ['block5a_se_excite[0][0]']      \n",
      "                                160)                                                              \n",
      "                                                                                                  \n",
      " block5a_project_bn (BatchNorma  (None, None, None,   640        ['block5a_project_conv[0][0]']   \n",
      " lization)                      160)                                                              \n",
      "                                                                                                  \n",
      " block5b_expand_conv (Conv2D)   (None, None, None,   153600      ['block5a_project_bn[0][0]']     \n",
      "                                960)                                                              \n",
      "                                                                                                  \n",
      " block5b_expand_bn (BatchNormal  (None, None, None,   3840       ['block5b_expand_conv[0][0]']    \n",
      " ization)                       960)                                                              \n",
      "                                                                                                  \n",
      " block5b_expand_activation (Act  (None, None, None,   0          ['block5b_expand_bn[0][0]']      \n",
      " ivation)                       960)                                                              \n",
      "                                                                                                  \n",
      " block5b_dwconv (DepthwiseConv2  (None, None, None,   24000      ['block5b_expand_activation[0][0]\n",
      " D)                             960)                             ']                               \n",
      "                                                                                                  \n",
      " block5b_bn (BatchNormalization  (None, None, None,   3840       ['block5b_dwconv[0][0]']         \n",
      " )                              960)                                                              \n",
      "                                                                                                  \n",
      " block5b_activation (Activation  (None, None, None,   0          ['block5b_bn[0][0]']             \n",
      " )                              960)                                                              \n",
      "                                                                                                  \n",
      " block5b_se_squeeze (GlobalAver  (None, 960)         0           ['block5b_activation[0][0]']     \n",
      " agePooling2D)                                                                                    \n",
      "                                                                                                  \n",
      " block5b_se_reshape (Reshape)   (None, 1, 1, 960)    0           ['block5b_se_squeeze[0][0]']     \n",
      "                                                                                                  \n",
      " block5b_se_reduce (Conv2D)     (None, 1, 1, 40)     38440       ['block5b_se_reshape[0][0]']     \n",
      "                                                                                                  \n",
      " block5b_se_expand (Conv2D)     (None, 1, 1, 960)    39360       ['block5b_se_reduce[0][0]']      \n",
      "                                                                                                  \n",
      " block5b_se_excite (Multiply)   (None, None, None,   0           ['block5b_activation[0][0]',     \n",
      "                                960)                              'block5b_se_expand[0][0]']      \n",
      "                                                                                                  \n",
      " block5b_project_conv (Conv2D)  (None, None, None,   153600      ['block5b_se_excite[0][0]']      \n",
      "                                160)                                                              \n",
      "                                                                                                  \n",
      " block5b_project_bn (BatchNorma  (None, None, None,   640        ['block5b_project_conv[0][0]']   \n",
      " lization)                      160)                                                              \n",
      "                                                                                                  \n",
      " block5b_drop (Dropout)         (None, None, None,   0           ['block5b_project_bn[0][0]']     \n",
      "                                160)                                                              \n",
      "                                                                                                  \n",
      " block5b_add (Add)              (None, None, None,   0           ['block5b_drop[0][0]',           \n",
      "                                160)                              'block5a_project_bn[0][0]']     \n",
      "                                                                                                  \n",
      " block5c_expand_conv (Conv2D)   (None, None, None,   153600      ['block5b_add[0][0]']            \n",
      "                                960)                                                              \n",
      "                                                                                                  \n",
      " block5c_expand_bn (BatchNormal  (None, None, None,   3840       ['block5c_expand_conv[0][0]']    \n",
      " ization)                       960)                                                              \n",
      "                                                                                                  \n",
      " block5c_expand_activation (Act  (None, None, None,   0          ['block5c_expand_bn[0][0]']      \n",
      " ivation)                       960)                                                              \n",
      "                                                                                                  \n",
      " block5c_dwconv (DepthwiseConv2  (None, None, None,   24000      ['block5c_expand_activation[0][0]\n",
      " D)                             960)                             ']                               \n",
      "                                                                                                  \n",
      " block5c_bn (BatchNormalization  (None, None, None,   3840       ['block5c_dwconv[0][0]']         \n",
      " )                              960)                                                              \n",
      "                                                                                                  \n",
      " block5c_activation (Activation  (None, None, None,   0          ['block5c_bn[0][0]']             \n",
      " )                              960)                                                              \n",
      "                                                                                                  \n",
      " block5c_se_squeeze (GlobalAver  (None, 960)         0           ['block5c_activation[0][0]']     \n",
      " agePooling2D)                                                                                    \n",
      "                                                                                                  \n",
      " block5c_se_reshape (Reshape)   (None, 1, 1, 960)    0           ['block5c_se_squeeze[0][0]']     \n",
      "                                                                                                  \n",
      " block5c_se_reduce (Conv2D)     (None, 1, 1, 40)     38440       ['block5c_se_reshape[0][0]']     \n",
      "                                                                                                  \n",
      " block5c_se_expand (Conv2D)     (None, 1, 1, 960)    39360       ['block5c_se_reduce[0][0]']      \n",
      "                                                                                                  \n",
      " block5c_se_excite (Multiply)   (None, None, None,   0           ['block5c_activation[0][0]',     \n",
      "                                960)                              'block5c_se_expand[0][0]']      \n",
      "                                                                                                  \n",
      " block5c_project_conv (Conv2D)  (None, None, None,   153600      ['block5c_se_excite[0][0]']      \n",
      "                                160)                                                              \n",
      "                                                                                                  \n",
      " block5c_project_bn (BatchNorma  (None, None, None,   640        ['block5c_project_conv[0][0]']   \n",
      " lization)                      160)                                                              \n",
      "                                                                                                  \n",
      " block5c_drop (Dropout)         (None, None, None,   0           ['block5c_project_bn[0][0]']     \n",
      "                                160)                                                              \n",
      "                                                                                                  \n",
      " block5c_add (Add)              (None, None, None,   0           ['block5c_drop[0][0]',           \n",
      "                                160)                              'block5b_add[0][0]']            \n",
      "                                                                                                  \n",
      " block5d_expand_conv (Conv2D)   (None, None, None,   153600      ['block5c_add[0][0]']            \n",
      "                                960)                                                              \n",
      "                                                                                                  \n",
      " block5d_expand_bn (BatchNormal  (None, None, None,   3840       ['block5d_expand_conv[0][0]']    \n",
      " ization)                       960)                                                              \n",
      "                                                                                                  \n",
      " block5d_expand_activation (Act  (None, None, None,   0          ['block5d_expand_bn[0][0]']      \n",
      " ivation)                       960)                                                              \n",
      "                                                                                                  \n",
      " block5d_dwconv (DepthwiseConv2  (None, None, None,   24000      ['block5d_expand_activation[0][0]\n",
      " D)                             960)                             ']                               \n",
      "                                                                                                  \n",
      " block5d_bn (BatchNormalization  (None, None, None,   3840       ['block5d_dwconv[0][0]']         \n",
      " )                              960)                                                              \n",
      "                                                                                                  \n",
      " block5d_activation (Activation  (None, None, None,   0          ['block5d_bn[0][0]']             \n",
      " )                              960)                                                              \n",
      "                                                                                                  \n",
      " block5d_se_squeeze (GlobalAver  (None, 960)         0           ['block5d_activation[0][0]']     \n",
      " agePooling2D)                                                                                    \n",
      "                                                                                                  \n",
      " block5d_se_reshape (Reshape)   (None, 1, 1, 960)    0           ['block5d_se_squeeze[0][0]']     \n",
      "                                                                                                  \n",
      " block5d_se_reduce (Conv2D)     (None, 1, 1, 40)     38440       ['block5d_se_reshape[0][0]']     \n",
      "                                                                                                  \n",
      " block5d_se_expand (Conv2D)     (None, 1, 1, 960)    39360       ['block5d_se_reduce[0][0]']      \n",
      "                                                                                                  \n",
      " block5d_se_excite (Multiply)   (None, None, None,   0           ['block5d_activation[0][0]',     \n",
      "                                960)                              'block5d_se_expand[0][0]']      \n",
      "                                                                                                  \n",
      " block5d_project_conv (Conv2D)  (None, None, None,   153600      ['block5d_se_excite[0][0]']      \n",
      "                                160)                                                              \n",
      "                                                                                                  \n",
      " block5d_project_bn (BatchNorma  (None, None, None,   640        ['block5d_project_conv[0][0]']   \n",
      " lization)                      160)                                                              \n",
      "                                                                                                  \n",
      " block5d_drop (Dropout)         (None, None, None,   0           ['block5d_project_bn[0][0]']     \n",
      "                                160)                                                              \n",
      "                                                                                                  \n",
      " block5d_add (Add)              (None, None, None,   0           ['block5d_drop[0][0]',           \n",
      "                                160)                              'block5c_add[0][0]']            \n",
      "                                                                                                  \n",
      " block5e_expand_conv (Conv2D)   (None, None, None,   153600      ['block5d_add[0][0]']            \n",
      "                                960)                                                              \n",
      "                                                                                                  \n",
      " block5e_expand_bn (BatchNormal  (None, None, None,   3840       ['block5e_expand_conv[0][0]']    \n",
      " ization)                       960)                                                              \n",
      "                                                                                                  \n",
      " block5e_expand_activation (Act  (None, None, None,   0          ['block5e_expand_bn[0][0]']      \n",
      " ivation)                       960)                                                              \n",
      "                                                                                                  \n",
      " block5e_dwconv (DepthwiseConv2  (None, None, None,   24000      ['block5e_expand_activation[0][0]\n",
      " D)                             960)                             ']                               \n",
      "                                                                                                  \n",
      " block5e_bn (BatchNormalization  (None, None, None,   3840       ['block5e_dwconv[0][0]']         \n",
      " )                              960)                                                              \n",
      "                                                                                                  \n",
      " block5e_activation (Activation  (None, None, None,   0          ['block5e_bn[0][0]']             \n",
      " )                              960)                                                              \n",
      "                                                                                                  \n",
      " block5e_se_squeeze (GlobalAver  (None, 960)         0           ['block5e_activation[0][0]']     \n",
      " agePooling2D)                                                                                    \n",
      "                                                                                                  \n",
      " block5e_se_reshape (Reshape)   (None, 1, 1, 960)    0           ['block5e_se_squeeze[0][0]']     \n",
      "                                                                                                  \n",
      " block5e_se_reduce (Conv2D)     (None, 1, 1, 40)     38440       ['block5e_se_reshape[0][0]']     \n",
      "                                                                                                  \n",
      " block5e_se_expand (Conv2D)     (None, 1, 1, 960)    39360       ['block5e_se_reduce[0][0]']      \n",
      "                                                                                                  \n",
      " block5e_se_excite (Multiply)   (None, None, None,   0           ['block5e_activation[0][0]',     \n",
      "                                960)                              'block5e_se_expand[0][0]']      \n",
      "                                                                                                  \n",
      " block5e_project_conv (Conv2D)  (None, None, None,   153600      ['block5e_se_excite[0][0]']      \n",
      "                                160)                                                              \n",
      "                                                                                                  \n",
      " block5e_project_bn (BatchNorma  (None, None, None,   640        ['block5e_project_conv[0][0]']   \n",
      " lization)                      160)                                                              \n",
      "                                                                                                  \n",
      " block5e_drop (Dropout)         (None, None, None,   0           ['block5e_project_bn[0][0]']     \n",
      "                                160)                                                              \n",
      "                                                                                                  \n",
      " block5e_add (Add)              (None, None, None,   0           ['block5e_drop[0][0]',           \n",
      "                                160)                              'block5d_add[0][0]']            \n",
      "                                                                                                  \n",
      " block5f_expand_conv (Conv2D)   (None, None, None,   153600      ['block5e_add[0][0]']            \n",
      "                                960)                                                              \n",
      "                                                                                                  \n",
      " block5f_expand_bn (BatchNormal  (None, None, None,   3840       ['block5f_expand_conv[0][0]']    \n",
      " ization)                       960)                                                              \n",
      "                                                                                                  \n",
      " block5f_expand_activation (Act  (None, None, None,   0          ['block5f_expand_bn[0][0]']      \n",
      " ivation)                       960)                                                              \n",
      "                                                                                                  \n",
      " block5f_dwconv (DepthwiseConv2  (None, None, None,   24000      ['block5f_expand_activation[0][0]\n",
      " D)                             960)                             ']                               \n",
      "                                                                                                  \n",
      " block5f_bn (BatchNormalization  (None, None, None,   3840       ['block5f_dwconv[0][0]']         \n",
      " )                              960)                                                              \n",
      "                                                                                                  \n",
      " block5f_activation (Activation  (None, None, None,   0          ['block5f_bn[0][0]']             \n",
      " )                              960)                                                              \n",
      "                                                                                                  \n",
      " block5f_se_squeeze (GlobalAver  (None, 960)         0           ['block5f_activation[0][0]']     \n",
      " agePooling2D)                                                                                    \n",
      "                                                                                                  \n",
      " block5f_se_reshape (Reshape)   (None, 1, 1, 960)    0           ['block5f_se_squeeze[0][0]']     \n",
      "                                                                                                  \n",
      " block5f_se_reduce (Conv2D)     (None, 1, 1, 40)     38440       ['block5f_se_reshape[0][0]']     \n",
      "                                                                                                  \n",
      " block5f_se_expand (Conv2D)     (None, 1, 1, 960)    39360       ['block5f_se_reduce[0][0]']      \n",
      "                                                                                                  \n",
      " block5f_se_excite (Multiply)   (None, None, None,   0           ['block5f_activation[0][0]',     \n",
      "                                960)                              'block5f_se_expand[0][0]']      \n",
      "                                                                                                  \n",
      " block5f_project_conv (Conv2D)  (None, None, None,   153600      ['block5f_se_excite[0][0]']      \n",
      "                                160)                                                              \n",
      "                                                                                                  \n",
      " block5f_project_bn (BatchNorma  (None, None, None,   640        ['block5f_project_conv[0][0]']   \n",
      " lization)                      160)                                                              \n",
      "                                                                                                  \n",
      " block5f_drop (Dropout)         (None, None, None,   0           ['block5f_project_bn[0][0]']     \n",
      "                                160)                                                              \n",
      "                                                                                                  \n",
      " block5f_add (Add)              (None, None, None,   0           ['block5f_drop[0][0]',           \n",
      "                                160)                              'block5e_add[0][0]']            \n",
      "                                                                                                  \n",
      " block6a_expand_conv (Conv2D)   (None, None, None,   153600      ['block5f_add[0][0]']            \n",
      "                                960)                                                              \n",
      "                                                                                                  \n",
      " block6a_expand_bn (BatchNormal  (None, None, None,   3840       ['block6a_expand_conv[0][0]']    \n",
      " ization)                       960)                                                              \n",
      "                                                                                                  \n",
      " block6a_expand_activation (Act  (None, None, None,   0          ['block6a_expand_bn[0][0]']      \n",
      " ivation)                       960)                                                              \n",
      "                                                                                                  \n",
      " block6a_dwconv_pad (ZeroPaddin  (None, None, None,   0          ['block6a_expand_activation[0][0]\n",
      " g2D)                           960)                             ']                               \n",
      "                                                                                                  \n",
      " block6a_dwconv (DepthwiseConv2  (None, None, None,   24000      ['block6a_dwconv_pad[0][0]']     \n",
      " D)                             960)                                                              \n",
      "                                                                                                  \n",
      " block6a_bn (BatchNormalization  (None, None, None,   3840       ['block6a_dwconv[0][0]']         \n",
      " )                              960)                                                              \n",
      "                                                                                                  \n",
      " block6a_activation (Activation  (None, None, None,   0          ['block6a_bn[0][0]']             \n",
      " )                              960)                                                              \n",
      "                                                                                                  \n",
      " block6a_se_squeeze (GlobalAver  (None, 960)         0           ['block6a_activation[0][0]']     \n",
      " agePooling2D)                                                                                    \n",
      "                                                                                                  \n",
      " block6a_se_reshape (Reshape)   (None, 1, 1, 960)    0           ['block6a_se_squeeze[0][0]']     \n",
      "                                                                                                  \n",
      " block6a_se_reduce (Conv2D)     (None, 1, 1, 40)     38440       ['block6a_se_reshape[0][0]']     \n",
      "                                                                                                  \n",
      " block6a_se_expand (Conv2D)     (None, 1, 1, 960)    39360       ['block6a_se_reduce[0][0]']      \n",
      "                                                                                                  \n",
      " block6a_se_excite (Multiply)   (None, None, None,   0           ['block6a_activation[0][0]',     \n",
      "                                960)                              'block6a_se_expand[0][0]']      \n",
      "                                                                                                  \n",
      " block6a_project_conv (Conv2D)  (None, None, None,   261120      ['block6a_se_excite[0][0]']      \n",
      "                                272)                                                              \n",
      "                                                                                                  \n",
      " block6a_project_bn (BatchNorma  (None, None, None,   1088       ['block6a_project_conv[0][0]']   \n",
      " lization)                      272)                                                              \n",
      "                                                                                                  \n",
      " block6b_expand_conv (Conv2D)   (None, None, None,   443904      ['block6a_project_bn[0][0]']     \n",
      "                                1632)                                                             \n",
      "                                                                                                  \n",
      " block6b_expand_bn (BatchNormal  (None, None, None,   6528       ['block6b_expand_conv[0][0]']    \n",
      " ization)                       1632)                                                             \n",
      "                                                                                                  \n",
      " block6b_expand_activation (Act  (None, None, None,   0          ['block6b_expand_bn[0][0]']      \n",
      " ivation)                       1632)                                                             \n",
      "                                                                                                  \n",
      " block6b_dwconv (DepthwiseConv2  (None, None, None,   40800      ['block6b_expand_activation[0][0]\n",
      " D)                             1632)                            ']                               \n",
      "                                                                                                  \n",
      " block6b_bn (BatchNormalization  (None, None, None,   6528       ['block6b_dwconv[0][0]']         \n",
      " )                              1632)                                                             \n",
      "                                                                                                  \n",
      " block6b_activation (Activation  (None, None, None,   0          ['block6b_bn[0][0]']             \n",
      " )                              1632)                                                             \n",
      "                                                                                                  \n",
      " block6b_se_squeeze (GlobalAver  (None, 1632)        0           ['block6b_activation[0][0]']     \n",
      " agePooling2D)                                                                                    \n",
      "                                                                                                  \n",
      " block6b_se_reshape (Reshape)   (None, 1, 1, 1632)   0           ['block6b_se_squeeze[0][0]']     \n",
      "                                                                                                  \n",
      " block6b_se_reduce (Conv2D)     (None, 1, 1, 68)     111044      ['block6b_se_reshape[0][0]']     \n",
      "                                                                                                  \n",
      " block6b_se_expand (Conv2D)     (None, 1, 1, 1632)   112608      ['block6b_se_reduce[0][0]']      \n",
      "                                                                                                  \n",
      " block6b_se_excite (Multiply)   (None, None, None,   0           ['block6b_activation[0][0]',     \n",
      "                                1632)                             'block6b_se_expand[0][0]']      \n",
      "                                                                                                  \n",
      " block6b_project_conv (Conv2D)  (None, None, None,   443904      ['block6b_se_excite[0][0]']      \n",
      "                                272)                                                              \n",
      "                                                                                                  \n",
      " block6b_project_bn (BatchNorma  (None, None, None,   1088       ['block6b_project_conv[0][0]']   \n",
      " lization)                      272)                                                              \n",
      "                                                                                                  \n",
      " block6b_drop (Dropout)         (None, None, None,   0           ['block6b_project_bn[0][0]']     \n",
      "                                272)                                                              \n",
      "                                                                                                  \n",
      " block6b_add (Add)              (None, None, None,   0           ['block6b_drop[0][0]',           \n",
      "                                272)                              'block6a_project_bn[0][0]']     \n",
      "                                                                                                  \n",
      " block6c_expand_conv (Conv2D)   (None, None, None,   443904      ['block6b_add[0][0]']            \n",
      "                                1632)                                                             \n",
      "                                                                                                  \n",
      " block6c_expand_bn (BatchNormal  (None, None, None,   6528       ['block6c_expand_conv[0][0]']    \n",
      " ization)                       1632)                                                             \n",
      "                                                                                                  \n",
      " block6c_expand_activation (Act  (None, None, None,   0          ['block6c_expand_bn[0][0]']      \n",
      " ivation)                       1632)                                                             \n",
      "                                                                                                  \n",
      " block6c_dwconv (DepthwiseConv2  (None, None, None,   40800      ['block6c_expand_activation[0][0]\n",
      " D)                             1632)                            ']                               \n",
      "                                                                                                  \n",
      " block6c_bn (BatchNormalization  (None, None, None,   6528       ['block6c_dwconv[0][0]']         \n",
      " )                              1632)                                                             \n",
      "                                                                                                  \n",
      " block6c_activation (Activation  (None, None, None,   0          ['block6c_bn[0][0]']             \n",
      " )                              1632)                                                             \n",
      "                                                                                                  \n",
      " block6c_se_squeeze (GlobalAver  (None, 1632)        0           ['block6c_activation[0][0]']     \n",
      " agePooling2D)                                                                                    \n",
      "                                                                                                  \n",
      " block6c_se_reshape (Reshape)   (None, 1, 1, 1632)   0           ['block6c_se_squeeze[0][0]']     \n",
      "                                                                                                  \n",
      " block6c_se_reduce (Conv2D)     (None, 1, 1, 68)     111044      ['block6c_se_reshape[0][0]']     \n",
      "                                                                                                  \n",
      " block6c_se_expand (Conv2D)     (None, 1, 1, 1632)   112608      ['block6c_se_reduce[0][0]']      \n",
      "                                                                                                  \n",
      " block6c_se_excite (Multiply)   (None, None, None,   0           ['block6c_activation[0][0]',     \n",
      "                                1632)                             'block6c_se_expand[0][0]']      \n",
      "                                                                                                  \n",
      " block6c_project_conv (Conv2D)  (None, None, None,   443904      ['block6c_se_excite[0][0]']      \n",
      "                                272)                                                              \n",
      "                                                                                                  \n",
      " block6c_project_bn (BatchNorma  (None, None, None,   1088       ['block6c_project_conv[0][0]']   \n",
      " lization)                      272)                                                              \n",
      "                                                                                                  \n",
      " block6c_drop (Dropout)         (None, None, None,   0           ['block6c_project_bn[0][0]']     \n",
      "                                272)                                                              \n",
      "                                                                                                  \n",
      " block6c_add (Add)              (None, None, None,   0           ['block6c_drop[0][0]',           \n",
      "                                272)                              'block6b_add[0][0]']            \n",
      "                                                                                                  \n",
      " block6d_expand_conv (Conv2D)   (None, None, None,   443904      ['block6c_add[0][0]']            \n",
      "                                1632)                                                             \n",
      "                                                                                                  \n",
      " block6d_expand_bn (BatchNormal  (None, None, None,   6528       ['block6d_expand_conv[0][0]']    \n",
      " ization)                       1632)                                                             \n",
      "                                                                                                  \n",
      " block6d_expand_activation (Act  (None, None, None,   0          ['block6d_expand_bn[0][0]']      \n",
      " ivation)                       1632)                                                             \n",
      "                                                                                                  \n",
      " block6d_dwconv (DepthwiseConv2  (None, None, None,   40800      ['block6d_expand_activation[0][0]\n",
      " D)                             1632)                            ']                               \n",
      "                                                                                                  \n",
      " block6d_bn (BatchNormalization  (None, None, None,   6528       ['block6d_dwconv[0][0]']         \n",
      " )                              1632)                                                             \n",
      "                                                                                                  \n",
      " block6d_activation (Activation  (None, None, None,   0          ['block6d_bn[0][0]']             \n",
      " )                              1632)                                                             \n",
      "                                                                                                  \n",
      " block6d_se_squeeze (GlobalAver  (None, 1632)        0           ['block6d_activation[0][0]']     \n",
      " agePooling2D)                                                                                    \n",
      "                                                                                                  \n",
      " block6d_se_reshape (Reshape)   (None, 1, 1, 1632)   0           ['block6d_se_squeeze[0][0]']     \n",
      "                                                                                                  \n",
      " block6d_se_reduce (Conv2D)     (None, 1, 1, 68)     111044      ['block6d_se_reshape[0][0]']     \n",
      "                                                                                                  \n",
      " block6d_se_expand (Conv2D)     (None, 1, 1, 1632)   112608      ['block6d_se_reduce[0][0]']      \n",
      "                                                                                                  \n",
      " block6d_se_excite (Multiply)   (None, None, None,   0           ['block6d_activation[0][0]',     \n",
      "                                1632)                             'block6d_se_expand[0][0]']      \n",
      "                                                                                                  \n",
      " block6d_project_conv (Conv2D)  (None, None, None,   443904      ['block6d_se_excite[0][0]']      \n",
      "                                272)                                                              \n",
      "                                                                                                  \n",
      " block6d_project_bn (BatchNorma  (None, None, None,   1088       ['block6d_project_conv[0][0]']   \n",
      " lization)                      272)                                                              \n",
      "                                                                                                  \n",
      " block6d_drop (Dropout)         (None, None, None,   0           ['block6d_project_bn[0][0]']     \n",
      "                                272)                                                              \n",
      "                                                                                                  \n",
      " block6d_add (Add)              (None, None, None,   0           ['block6d_drop[0][0]',           \n",
      "                                272)                              'block6c_add[0][0]']            \n",
      "                                                                                                  \n",
      " block6e_expand_conv (Conv2D)   (None, None, None,   443904      ['block6d_add[0][0]']            \n",
      "                                1632)                                                             \n",
      "                                                                                                  \n",
      " block6e_expand_bn (BatchNormal  (None, None, None,   6528       ['block6e_expand_conv[0][0]']    \n",
      " ization)                       1632)                                                             \n",
      "                                                                                                  \n",
      " block6e_expand_activation (Act  (None, None, None,   0          ['block6e_expand_bn[0][0]']      \n",
      " ivation)                       1632)                                                             \n",
      "                                                                                                  \n",
      " block6e_dwconv (DepthwiseConv2  (None, None, None,   40800      ['block6e_expand_activation[0][0]\n",
      " D)                             1632)                            ']                               \n",
      "                                                                                                  \n",
      " block6e_bn (BatchNormalization  (None, None, None,   6528       ['block6e_dwconv[0][0]']         \n",
      " )                              1632)                                                             \n",
      "                                                                                                  \n",
      " block6e_activation (Activation  (None, None, None,   0          ['block6e_bn[0][0]']             \n",
      " )                              1632)                                                             \n",
      "                                                                                                  \n",
      " block6e_se_squeeze (GlobalAver  (None, 1632)        0           ['block6e_activation[0][0]']     \n",
      " agePooling2D)                                                                                    \n",
      "                                                                                                  \n",
      " block6e_se_reshape (Reshape)   (None, 1, 1, 1632)   0           ['block6e_se_squeeze[0][0]']     \n",
      "                                                                                                  \n",
      " block6e_se_reduce (Conv2D)     (None, 1, 1, 68)     111044      ['block6e_se_reshape[0][0]']     \n",
      "                                                                                                  \n",
      " block6e_se_expand (Conv2D)     (None, 1, 1, 1632)   112608      ['block6e_se_reduce[0][0]']      \n",
      "                                                                                                  \n",
      " block6e_se_excite (Multiply)   (None, None, None,   0           ['block6e_activation[0][0]',     \n",
      "                                1632)                             'block6e_se_expand[0][0]']      \n",
      "                                                                                                  \n",
      " block6e_project_conv (Conv2D)  (None, None, None,   443904      ['block6e_se_excite[0][0]']      \n",
      "                                272)                                                              \n",
      "                                                                                                  \n",
      " block6e_project_bn (BatchNorma  (None, None, None,   1088       ['block6e_project_conv[0][0]']   \n",
      " lization)                      272)                                                              \n",
      "                                                                                                  \n",
      " block6e_drop (Dropout)         (None, None, None,   0           ['block6e_project_bn[0][0]']     \n",
      "                                272)                                                              \n",
      "                                                                                                  \n",
      " block6e_add (Add)              (None, None, None,   0           ['block6e_drop[0][0]',           \n",
      "                                272)                              'block6d_add[0][0]']            \n",
      "                                                                                                  \n",
      " block6f_expand_conv (Conv2D)   (None, None, None,   443904      ['block6e_add[0][0]']            \n",
      "                                1632)                                                             \n",
      "                                                                                                  \n",
      " block6f_expand_bn (BatchNormal  (None, None, None,   6528       ['block6f_expand_conv[0][0]']    \n",
      " ization)                       1632)                                                             \n",
      "                                                                                                  \n",
      " block6f_expand_activation (Act  (None, None, None,   0          ['block6f_expand_bn[0][0]']      \n",
      " ivation)                       1632)                                                             \n",
      "                                                                                                  \n",
      " block6f_dwconv (DepthwiseConv2  (None, None, None,   40800      ['block6f_expand_activation[0][0]\n",
      " D)                             1632)                            ']                               \n",
      "                                                                                                  \n",
      " block6f_bn (BatchNormalization  (None, None, None,   6528       ['block6f_dwconv[0][0]']         \n",
      " )                              1632)                                                             \n",
      "                                                                                                  \n",
      " block6f_activation (Activation  (None, None, None,   0          ['block6f_bn[0][0]']             \n",
      " )                              1632)                                                             \n",
      "                                                                                                  \n",
      " block6f_se_squeeze (GlobalAver  (None, 1632)        0           ['block6f_activation[0][0]']     \n",
      " agePooling2D)                                                                                    \n",
      "                                                                                                  \n",
      " block6f_se_reshape (Reshape)   (None, 1, 1, 1632)   0           ['block6f_se_squeeze[0][0]']     \n",
      "                                                                                                  \n",
      " block6f_se_reduce (Conv2D)     (None, 1, 1, 68)     111044      ['block6f_se_reshape[0][0]']     \n",
      "                                                                                                  \n",
      " block6f_se_expand (Conv2D)     (None, 1, 1, 1632)   112608      ['block6f_se_reduce[0][0]']      \n",
      "                                                                                                  \n",
      " block6f_se_excite (Multiply)   (None, None, None,   0           ['block6f_activation[0][0]',     \n",
      "                                1632)                             'block6f_se_expand[0][0]']      \n",
      "                                                                                                  \n",
      " block6f_project_conv (Conv2D)  (None, None, None,   443904      ['block6f_se_excite[0][0]']      \n",
      "                                272)                                                              \n",
      "                                                                                                  \n",
      " block6f_project_bn (BatchNorma  (None, None, None,   1088       ['block6f_project_conv[0][0]']   \n",
      " lization)                      272)                                                              \n",
      "                                                                                                  \n",
      " block6f_drop (Dropout)         (None, None, None,   0           ['block6f_project_bn[0][0]']     \n",
      "                                272)                                                              \n",
      "                                                                                                  \n",
      " block6f_add (Add)              (None, None, None,   0           ['block6f_drop[0][0]',           \n",
      "                                272)                              'block6e_add[0][0]']            \n",
      "                                                                                                  \n",
      " block6g_expand_conv (Conv2D)   (None, None, None,   443904      ['block6f_add[0][0]']            \n",
      "                                1632)                                                             \n",
      "                                                                                                  \n",
      " block6g_expand_bn (BatchNormal  (None, None, None,   6528       ['block6g_expand_conv[0][0]']    \n",
      " ization)                       1632)                                                             \n",
      "                                                                                                  \n",
      " block6g_expand_activation (Act  (None, None, None,   0          ['block6g_expand_bn[0][0]']      \n",
      " ivation)                       1632)                                                             \n",
      "                                                                                                  \n",
      " block6g_dwconv (DepthwiseConv2  (None, None, None,   40800      ['block6g_expand_activation[0][0]\n",
      " D)                             1632)                            ']                               \n",
      "                                                                                                  \n",
      " block6g_bn (BatchNormalization  (None, None, None,   6528       ['block6g_dwconv[0][0]']         \n",
      " )                              1632)                                                             \n",
      "                                                                                                  \n",
      " block6g_activation (Activation  (None, None, None,   0          ['block6g_bn[0][0]']             \n",
      " )                              1632)                                                             \n",
      "                                                                                                  \n",
      " block6g_se_squeeze (GlobalAver  (None, 1632)        0           ['block6g_activation[0][0]']     \n",
      " agePooling2D)                                                                                    \n",
      "                                                                                                  \n",
      " block6g_se_reshape (Reshape)   (None, 1, 1, 1632)   0           ['block6g_se_squeeze[0][0]']     \n",
      "                                                                                                  \n",
      " block6g_se_reduce (Conv2D)     (None, 1, 1, 68)     111044      ['block6g_se_reshape[0][0]']     \n",
      "                                                                                                  \n",
      " block6g_se_expand (Conv2D)     (None, 1, 1, 1632)   112608      ['block6g_se_reduce[0][0]']      \n",
      "                                                                                                  \n",
      " block6g_se_excite (Multiply)   (None, None, None,   0           ['block6g_activation[0][0]',     \n",
      "                                1632)                             'block6g_se_expand[0][0]']      \n",
      "                                                                                                  \n",
      " block6g_project_conv (Conv2D)  (None, None, None,   443904      ['block6g_se_excite[0][0]']      \n",
      "                                272)                                                              \n",
      "                                                                                                  \n",
      " block6g_project_bn (BatchNorma  (None, None, None,   1088       ['block6g_project_conv[0][0]']   \n",
      " lization)                      272)                                                              \n",
      "                                                                                                  \n",
      " block6g_drop (Dropout)         (None, None, None,   0           ['block6g_project_bn[0][0]']     \n",
      "                                272)                                                              \n",
      "                                                                                                  \n",
      " block6g_add (Add)              (None, None, None,   0           ['block6g_drop[0][0]',           \n",
      "                                272)                              'block6f_add[0][0]']            \n",
      "                                                                                                  \n",
      " block6h_expand_conv (Conv2D)   (None, None, None,   443904      ['block6g_add[0][0]']            \n",
      "                                1632)                                                             \n",
      "                                                                                                  \n",
      " block6h_expand_bn (BatchNormal  (None, None, None,   6528       ['block6h_expand_conv[0][0]']    \n",
      " ization)                       1632)                                                             \n",
      "                                                                                                  \n",
      " block6h_expand_activation (Act  (None, None, None,   0          ['block6h_expand_bn[0][0]']      \n",
      " ivation)                       1632)                                                             \n",
      "                                                                                                  \n",
      " block6h_dwconv (DepthwiseConv2  (None, None, None,   40800      ['block6h_expand_activation[0][0]\n",
      " D)                             1632)                            ']                               \n",
      "                                                                                                  \n",
      " block6h_bn (BatchNormalization  (None, None, None,   6528       ['block6h_dwconv[0][0]']         \n",
      " )                              1632)                                                             \n",
      "                                                                                                  \n",
      " block6h_activation (Activation  (None, None, None,   0          ['block6h_bn[0][0]']             \n",
      " )                              1632)                                                             \n",
      "                                                                                                  \n",
      " block6h_se_squeeze (GlobalAver  (None, 1632)        0           ['block6h_activation[0][0]']     \n",
      " agePooling2D)                                                                                    \n",
      "                                                                                                  \n",
      " block6h_se_reshape (Reshape)   (None, 1, 1, 1632)   0           ['block6h_se_squeeze[0][0]']     \n",
      "                                                                                                  \n",
      " block6h_se_reduce (Conv2D)     (None, 1, 1, 68)     111044      ['block6h_se_reshape[0][0]']     \n",
      "                                                                                                  \n",
      " block6h_se_expand (Conv2D)     (None, 1, 1, 1632)   112608      ['block6h_se_reduce[0][0]']      \n",
      "                                                                                                  \n",
      " block6h_se_excite (Multiply)   (None, None, None,   0           ['block6h_activation[0][0]',     \n",
      "                                1632)                             'block6h_se_expand[0][0]']      \n",
      "                                                                                                  \n",
      " block6h_project_conv (Conv2D)  (None, None, None,   443904      ['block6h_se_excite[0][0]']      \n",
      "                                272)                                                              \n",
      "                                                                                                  \n",
      " block6h_project_bn (BatchNorma  (None, None, None,   1088       ['block6h_project_conv[0][0]']   \n",
      " lization)                      272)                                                              \n",
      "                                                                                                  \n",
      " block6h_drop (Dropout)         (None, None, None,   0           ['block6h_project_bn[0][0]']     \n",
      "                                272)                                                              \n",
      "                                                                                                  \n",
      " block6h_add (Add)              (None, None, None,   0           ['block6h_drop[0][0]',           \n",
      "                                272)                              'block6g_add[0][0]']            \n",
      "                                                                                                  \n",
      " block7a_expand_conv (Conv2D)   (None, None, None,   443904      ['block6h_add[0][0]']            \n",
      "                                1632)                                                             \n",
      "                                                                                                  \n",
      " block7a_expand_bn (BatchNormal  (None, None, None,   6528       ['block7a_expand_conv[0][0]']    \n",
      " ization)                       1632)                                                             \n",
      "                                                                                                  \n",
      " block7a_expand_activation (Act  (None, None, None,   0          ['block7a_expand_bn[0][0]']      \n",
      " ivation)                       1632)                                                             \n",
      "                                                                                                  \n",
      " block7a_dwconv (DepthwiseConv2  (None, None, None,   14688      ['block7a_expand_activation[0][0]\n",
      " D)                             1632)                            ']                               \n",
      "                                                                                                  \n",
      " block7a_bn (BatchNormalization  (None, None, None,   6528       ['block7a_dwconv[0][0]']         \n",
      " )                              1632)                                                             \n",
      "                                                                                                  \n",
      " block7a_activation (Activation  (None, None, None,   0          ['block7a_bn[0][0]']             \n",
      " )                              1632)                                                             \n",
      "                                                                                                  \n",
      " block7a_se_squeeze (GlobalAver  (None, 1632)        0           ['block7a_activation[0][0]']     \n",
      " agePooling2D)                                                                                    \n",
      "                                                                                                  \n",
      " block7a_se_reshape (Reshape)   (None, 1, 1, 1632)   0           ['block7a_se_squeeze[0][0]']     \n",
      "                                                                                                  \n",
      " block7a_se_reduce (Conv2D)     (None, 1, 1, 68)     111044      ['block7a_se_reshape[0][0]']     \n",
      "                                                                                                  \n",
      " block7a_se_expand (Conv2D)     (None, 1, 1, 1632)   112608      ['block7a_se_reduce[0][0]']      \n",
      "                                                                                                  \n",
      " block7a_se_excite (Multiply)   (None, None, None,   0           ['block7a_activation[0][0]',     \n",
      "                                1632)                             'block7a_se_expand[0][0]']      \n",
      "                                                                                                  \n",
      " block7a_project_conv (Conv2D)  (None, None, None,   731136      ['block7a_se_excite[0][0]']      \n",
      "                                448)                                                              \n",
      "                                                                                                  \n",
      " block7a_project_bn (BatchNorma  (None, None, None,   1792       ['block7a_project_conv[0][0]']   \n",
      " lization)                      448)                                                              \n",
      "                                                                                                  \n",
      " block7b_expand_conv (Conv2D)   (None, None, None,   1204224     ['block7a_project_bn[0][0]']     \n",
      "                                2688)                                                             \n",
      "                                                                                                  \n",
      " block7b_expand_bn (BatchNormal  (None, None, None,   10752      ['block7b_expand_conv[0][0]']    \n",
      " ization)                       2688)                                                             \n",
      "                                                                                                  \n",
      " block7b_expand_activation (Act  (None, None, None,   0          ['block7b_expand_bn[0][0]']      \n",
      " ivation)                       2688)                                                             \n",
      "                                                                                                  \n",
      " block7b_dwconv (DepthwiseConv2  (None, None, None,   24192      ['block7b_expand_activation[0][0]\n",
      " D)                             2688)                            ']                               \n",
      "                                                                                                  \n",
      " block7b_bn (BatchNormalization  (None, None, None,   10752      ['block7b_dwconv[0][0]']         \n",
      " )                              2688)                                                             \n",
      "                                                                                                  \n",
      " block7b_activation (Activation  (None, None, None,   0          ['block7b_bn[0][0]']             \n",
      " )                              2688)                                                             \n",
      "                                                                                                  \n",
      " block7b_se_squeeze (GlobalAver  (None, 2688)        0           ['block7b_activation[0][0]']     \n",
      " agePooling2D)                                                                                    \n",
      "                                                                                                  \n",
      " block7b_se_reshape (Reshape)   (None, 1, 1, 2688)   0           ['block7b_se_squeeze[0][0]']     \n",
      "                                                                                                  \n",
      " block7b_se_reduce (Conv2D)     (None, 1, 1, 112)    301168      ['block7b_se_reshape[0][0]']     \n",
      "                                                                                                  \n",
      " block7b_se_expand (Conv2D)     (None, 1, 1, 2688)   303744      ['block7b_se_reduce[0][0]']      \n",
      "                                                                                                  \n",
      " block7b_se_excite (Multiply)   (None, None, None,   0           ['block7b_activation[0][0]',     \n",
      "                                2688)                             'block7b_se_expand[0][0]']      \n",
      "                                                                                                  \n",
      " block7b_project_conv (Conv2D)  (None, None, None,   1204224     ['block7b_se_excite[0][0]']      \n",
      "                                448)                                                              \n",
      "                                                                                                  \n",
      " block7b_project_bn (BatchNorma  (None, None, None,   1792       ['block7b_project_conv[0][0]']   \n",
      " lization)                      448)                                                              \n",
      "                                                                                                  \n",
      " block7b_drop (Dropout)         (None, None, None,   0           ['block7b_project_bn[0][0]']     \n",
      "                                448)                                                              \n",
      "                                                                                                  \n",
      " block7b_add (Add)              (None, None, None,   0           ['block7b_drop[0][0]',           \n",
      "                                448)                              'block7a_project_bn[0][0]']     \n",
      "                                                                                                  \n",
      " top_conv (Conv2D)              (None, None, None,   802816      ['block7b_add[0][0]']            \n",
      "                                1792)                                                             \n",
      "                                                                                                  \n",
      " top_bn (BatchNormalization)    (None, None, None,   7168        ['top_conv[0][0]']               \n",
      "                                1792)                                                             \n",
      "                                                                                                  \n",
      " top_activation (Activation)    (None, None, None,   0           ['top_bn[0][0]']                 \n",
      "                                1792)                                                             \n",
      "                                                                                                  \n",
      "==================================================================================================\n",
      "Total params: 17,673,823\n",
      "Trainable params: 0\n",
      "Non-trainable params: 17,673,823\n",
      "__________________________________________________________________________________________________\n"
     ]
    }
   ],
   "source": [
    "base_model.summary()"
   ]
  },
  {
   "cell_type": "markdown",
   "metadata": {
    "id": "XZyIF_Zlu63C"
   },
   "source": [
    "You can see how each of the different layers have a certain number of parameters each. Since we are using a pre-trained model, you can think of all of these parameters are patterns the base model has learned on another dataset. And because we set `base_model.trainable = False`, these patterns remain as they are during training (they're frozen and don't get updated).\n",
    "\n",
    "Alright that was the base model, let's see the summary of our overall model."
   ]
  },
  {
   "cell_type": "code",
   "execution_count": 36,
   "metadata": {
    "colab": {
     "base_uri": "https://localhost:8080/"
    },
    "id": "KGY1BjnzJDEx",
    "outputId": "67952c6a-3b30-4296-95d0-259e3abd3854"
   },
   "outputs": [
    {
     "name": "stdout",
     "output_type": "stream",
     "text": [
      "Model: \"model_2\"\n",
      "_________________________________________________________________\n",
      " Layer (type)                Output Shape              Param #   \n",
      "=================================================================\n",
      " input_layer (InputLayer)    [(None, 224, 224, 3)]     0         \n",
      "                                                                 \n",
      " efficientnetb4 (Functional)  (None, None, None, 1792)  17673823 \n",
      "                                                                 \n",
      " global_average_pool (Global  (None, 1792)             0         \n",
      " AveragePooling2D)                                               \n",
      "                                                                 \n",
      " output_layer (Dense)        (None, 10)                17930     \n",
      "                                                                 \n",
      "=================================================================\n",
      "Total params: 17,691,753\n",
      "Trainable params: 17,930\n",
      "Non-trainable params: 17,673,823\n",
      "_________________________________________________________________\n"
     ]
    }
   ],
   "source": [
    "# Check summary of model constructed with Functional API\n",
    "model_0.summary()"
   ]
  },
  {
   "cell_type": "markdown",
   "metadata": {
    "id": "ZmoVfJqgKoY5"
   },
   "source": [
    "Our overall model has five layers but really, one of those layers (`efficientnetb0`) has 236 layers.\n",
    "\n",
    "You can see how the output shape started out as `(None, 224, 224, 3)` for the input layer (the shape of our images) but was transformed to be `(None, 10)` by the output layer (the shape of our labels), where `None` is the placeholder for the batch size.\n",
    "\n",
    "Notice too, the only trainable parameters in the model are those in the output layer.\n",
    "\n",
    "How do our model's training curves look?\n",
    "\n"
   ]
  },
  {
   "cell_type": "code",
   "execution_count": 37,
   "metadata": {
    "colab": {
     "base_uri": "https://localhost:8080/",
     "height": 573
    },
    "id": "tWYqK_86xSUJ",
    "outputId": "816526b9-c38f-4319-8a8e-2e1846aa87cb"
   },
   "outputs": [
    {
     "data": {
      "image/png": "[encoded data removed]",
      "text/plain": [
       "<Figure size 432x288 with 1 Axes>"
      ]
     },
     "metadata": {
      "needs_background": "light"
     },
     "output_type": "display_data"
    },
    {
     "data": {
      "image/png": "[encoded data removed]",
      "text/plain": [
       "<Figure size 432x288 with 1 Axes>"
      ]
     },
     "metadata": {
      "needs_background": "light"
     },
     "output_type": "display_data"
    }
   ],
   "source": [
    "# Check out our model's training curves\n",
    "plot_loss_curves(history_10_percent)"
   ]
  },
  {
   "cell_type": "markdown",
   "metadata": {
    "id": "SBNakPyq3OyC"
   },
   "source": [
    "## Getting a feature vector from a trained model\n",
    "\n",
    "> 🤔 **Question:** What happens with the `tf.keras.layers.GlobalAveragePooling2D()` layer? I haven't seen it before.\n",
    "\n",
    "The [`tf.keras.layers.GlobalAveragePooling2D()`](https://www.tensorflow.org/api_docs/python/tf/keras/layers/GlobalAveragePooling2D) layer transforms a 4D tensor into a 2D tensor by averaging the values across the inner-axes.\n",
    "\n",
    "The previous sentence is a bit of a mouthful, so let's see an example."
   ]
  },
  {
   "cell_type": "code",
   "execution_count": 14,
   "metadata": {
    "colab": {
     "base_uri": "https://localhost:8080/"
    },
    "id": "xYNLE0VU_c50",
    "outputId": "1a13f29e-39bc-4d5b-fe42-415282f8e3a0"
   },
   "outputs": [
    {
     "name": "stdout",
     "output_type": "stream",
     "text": [
      "Random input tensor:\n",
      " [[[[ 0.3274685  -0.8426258   0.3194337 ]\n",
      "   [-1.4075519  -2.3880599  -1.0392479 ]\n",
      "   [-0.5573232   0.539707    1.6994323 ]\n",
      "   [ 0.28893656 -1.5066116  -0.2645474 ]]\n",
      "\n",
      "  [[-0.59722406 -1.9171132  -0.62044144]\n",
      "   [ 0.8504023  -0.40604794 -3.0258412 ]\n",
      "   [ 0.9058464   0.29855987 -0.22561555]\n",
      "   [-0.7616443  -1.8917141  -0.93847126]]\n",
      "\n",
      "  [[ 0.77852213 -0.47338897  0.97772694]\n",
      "   [ 0.24694404  0.20573747 -0.5256233 ]\n",
      "   [ 0.32410017  0.02545409 -0.10638497]\n",
      "   [-0.6369475   1.1603122   0.2507359 ]]\n",
      "\n",
      "  [[-0.41728503  0.4012578  -1.4145443 ]\n",
      "   [-0.5931857  -1.6617213   0.33567193]\n",
      "   [ 0.10815629  0.23479682 -0.56668764]\n",
      "   [-0.35819843  0.88698614  0.52744764]]]]\n",
      "\n",
      "2D global average pooled random tensor:\n",
      "[[-0.09368646 -0.45840448 -0.2885598 ]]\n",
      "\n",
      "Shape of input tensor: (1, 4, 4, 3)\n",
      "Shape of GLobal Average pooled 2D tensor (1, 3)\n"
     ]
    }
   ],
   "source": [
    "# Define the input shape\n",
    "input_shape = (1, 4, 4, 3)\n",
    "\n",
    "# Create a random tensor\n",
    "tf.random.set_seed(42)\n",
    "input_tensor = tf.random.normal(input_shape)\n",
    "print(f'Random input tensor:\\n {input_tensor}\\n')\n",
    "\n",
    "# Pass the random tensor through a global average pooling 2D layer\n",
    "global_average_pooled_tensor = tf.keras.layers.GlobalAveragePooling2D()(input_tensor)\n",
    "print(f\"2D global average pooled random tensor:\\n{global_average_pooled_tensor}\\n\")\n",
    "\n",
    "# Check the shape of the different tensors\n",
    "print(f'Shape of input tensor: {input_tensor.shape}')\n",
    "print(f'Shape of GLobal Average pooled 2D tensor {global_average_pooled_tensor.shape}')"
   ]
  },
  {
   "cell_type": "markdown",
   "metadata": {
    "id": "yq5RAKrENCpT"
   },
   "source": [
    "You can see the `tf.keras.layers.GlobalAveragePooling2D()` layer condensed the input tensor from shape `(1, 4, 4, 3)` to `(1, 3)`. It did so by averaging the `input_tensor` across the middle two axes.\n",
    "\n",
    "We can replicate this operation using the `tf.reduce_mean()` operation and specifying the appropriate axes."
   ]
  },
  {
   "cell_type": "code",
   "execution_count": 15,
   "metadata": {
    "colab": {
     "base_uri": "https://localhost:8080/"
    },
    "id": "jBzN5HfAAUHx",
    "outputId": "bf06dcab-5432-42fb-a649-f3b0153591cc"
   },
   "outputs": [
    {
     "data": {
      "text/plain": [
       "<tf.Tensor: shape=(1, 3), dtype=float32, numpy=array([[-0.09368646, -0.45840448, -0.2885598 ]], dtype=float32)>"
      ]
     },
     "execution_count": 15,
     "metadata": {},
     "output_type": "execute_result"
    }
   ],
   "source": [
    "# Let's replicate the GlobalAveragePool2D layer\n",
    "tf.reduce_mean(input_tensor, axis=[1, 2])"
   ]
  },
  {
   "cell_type": "markdown",
   "metadata": {
    "id": "urQv2FtCPS85"
   },
   "source": [
    "Doing this not only makes the output of the base model compatible with the input shape requirement of our output layer (`tf.keras.layers.Dense()`), it also condenses the information found by the base model into a lower dimension **feature vector**.\n",
    "\n",
    "> 🔑 **Note:** One of the reasons feature extraction transfer learning is named how it is is because what often happens is a pretrained model outputs a **feature vector** (a long tensor of numbers, in our case, this is the output of the [`tf.keras.layers.GlobalAveragePooling2D()`](https://www.tensorflow.org/api_docs/python/tf/keras/layers/GlobalAveragePooling2D) layer) which can then be used to extract patterns out of.\n",
    "\n",
    "> 🛠 **Practice:** Do the same as the above cell but for [`tf.keras.layers.GlobalMaxPool2D()`](https://www.tensorflow.org/api_docs/python/tf/keras/layers/GlobalMaxPool2D)."
   ]
  },
  {
   "cell_type": "markdown",
   "metadata": {
    "id": "DafB65YULbRe"
   },
   "source": [
    "## Running a series of transfer learning experiments\n",
    "\n",
    "We've seen the incredible results of transfer learning on 10% of the training data, what about 1% of the training data?\n",
    "\n",
    "What kind of results do you think we can get using 100x less data than the original CNN models we built ourselves?\n",
    "\n",
    "Why don't we answer that question while running the following modelling experiments:\n",
    "1. `model_1`: Use feature extraction transfer learning on 1% of the training data with data augmentation.\n",
    "2. `model_2`: Use feature extraction transfer learning on 10% of the training data with data augmentation.\n",
    "3. `model_3`: Use fine-tuning transfer learning on 10% of the training data with data augmentation.\n",
    "4. `model_4`: Use fine-tuning transfer learning on 100% of the training data with data augmentation.\n",
    "\n",
    "While all of the experiments will be run on different versions of the training data, they will all be evaluated on the same test dataset, this ensures the results of each experiment are as comparable as possible.\n",
    "\n",
    "All experiments will be done using the `EfficientNetB0` model within the `tf.keras.applications` module.\n",
    "\n",
    "To make sure we're keeping track of our experiments, we'll use our `create_tensorboard_callback()` function to log all of the model training logs.\n",
    "\n",
    "We'll construct each model using the Keras Functional API and instead of implementing data augmentation in the `ImageDataGenerator` class as we have previously, we're going to build it right into the model using the [`tf.keras.layers.experimental.preprocessing`](https://www.tensorflow.org/api_docs/python/tf/keras/layers/experimental/preprocessing) module.\n",
    "\n",
    "Let's begin by downloading the data for experiment 1, using feature extraction transfer learning on 1% of the training data with data augmentation."
   ]
  },
  {
   "cell_type": "code",
   "execution_count": 18,
   "metadata": {
    "colab": {
     "base_uri": "https://localhost:8080/"
    },
    "id": "2P1rLJmaCXZN",
    "outputId": "0630e683-7dbd-41ad-9f8b-be4fdebb0738"
   },
   "outputs": [],
   "source": [
    "# Download and unzip data\n",
    "# !wget https://storage.googleapis.com/ztm_tf_course/food_vision/10_food_classes_1_percent.zip\n",
    "# unzip_data(\"10_food_classes_1_percent.zip\")\n",
    "\n",
    "# Create training and test dirs\n",
    "train_dir_1_percent = \"10_food_classes_1_percent/train/\"\n",
    "test_dir = \"10_food_classes_1_percent/test/\""
   ]
  },
  {
   "cell_type": "markdown",
   "metadata": {
    "id": "8hnXOA1EoyRF"
   },
   "source": [
    "How many images are we working with?"
   ]
  },
  {
   "cell_type": "code",
   "execution_count": 19,
   "metadata": {
    "colab": {
     "base_uri": "https://localhost:8080/"
    },
    "id": "sqoi0htuo6Sb",
    "outputId": "b1e9104a-39b8-4634-e60c-b09d7ccbdb11"
   },
   "outputs": [
    {
     "name": "stdout",
     "output_type": "stream",
     "text": [
      "There are 2 directories and 0 images in '10_food_classes_1_percent'.\n",
      "There are 10 directories and 0 images in '10_food_classes_1_percent/test'.\n",
      "There are 0 directories and 250 images in '10_food_classes_1_percent/test/grilled_salmon'.\n",
      "There are 0 directories and 250 images in '10_food_classes_1_percent/test/chicken_wings'.\n",
      "There are 0 directories and 250 images in '10_food_classes_1_percent/test/hamburger'.\n",
      "There are 0 directories and 250 images in '10_food_classes_1_percent/test/ramen'.\n",
      "There are 0 directories and 250 images in '10_food_classes_1_percent/test/steak'.\n",
      "There are 0 directories and 250 images in '10_food_classes_1_percent/test/ice_cream'.\n",
      "There are 0 directories and 250 images in '10_food_classes_1_percent/test/fried_rice'.\n",
      "There are 0 directories and 250 images in '10_food_classes_1_percent/test/pizza'.\n",
      "There are 0 directories and 250 images in '10_food_classes_1_percent/test/sushi'.\n",
      "There are 0 directories and 250 images in '10_food_classes_1_percent/test/chicken_curry'.\n",
      "There are 10 directories and 0 images in '10_food_classes_1_percent/train'.\n",
      "There are 0 directories and 7 images in '10_food_classes_1_percent/train/grilled_salmon'.\n",
      "There are 0 directories and 7 images in '10_food_classes_1_percent/train/chicken_wings'.\n",
      "There are 0 directories and 7 images in '10_food_classes_1_percent/train/hamburger'.\n",
      "There are 0 directories and 7 images in '10_food_classes_1_percent/train/ramen'.\n",
      "There are 0 directories and 7 images in '10_food_classes_1_percent/train/steak'.\n",
      "There are 0 directories and 7 images in '10_food_classes_1_percent/train/ice_cream'.\n",
      "There are 0 directories and 7 images in '10_food_classes_1_percent/train/fried_rice'.\n",
      "There are 0 directories and 7 images in '10_food_classes_1_percent/train/pizza'.\n",
      "There are 0 directories and 7 images in '10_food_classes_1_percent/train/sushi'.\n",
      "There are 0 directories and 7 images in '10_food_classes_1_percent/train/chicken_curry'.\n"
     ]
    }
   ],
   "source": [
    "# Walk through 1 percent data directory and list number of files\n",
    "walk_through_dir(\"10_food_classes_1_percent\")"
   ]
  },
  {
   "cell_type": "markdown",
   "metadata": {
    "id": "QEC70hlwo_mB"
   },
   "source": [
    "Alright, looks like we've only got seven images of each class, this should be a bit of a challenge for our model.\n",
    "\n",
    "> 🔑 **Note:** As with the 10% of data subset, the 1% of images were chosen at random from the original full training dataset. The test images are the same as the ones which have previously been used. If you want to see how this data was preprocessed, check out the [Food Vision Image Preprocessing notebook](https://github.com/mrdbourke/tensorflow-deep-learning/blob/main/extras/image_data_modification.ipynb).\n",
    "\n",
    "Time to load our images in as `tf.data.Dataset` objects, to do so, we'll use the [`image_dataset_from_directory()`](https://www.tensorflow.org/api_docs/python/tf/keras/preprocessing/image_dataset_from_directory) method. "
   ]
  },
  {
   "cell_type": "code",
   "execution_count": 20,
   "metadata": {
    "colab": {
     "base_uri": "https://localhost:8080/"
    },
    "id": "Llh9sHmdtgf6",
    "outputId": "5b4b9938-8d4a-4714-cdc7-ce0c837cc471"
   },
   "outputs": [
    {
     "name": "stdout",
     "output_type": "stream",
     "text": [
      "Found 70 files belonging to 10 classes.\n",
      "Found 2500 files belonging to 10 classes.\n"
     ]
    }
   ],
   "source": [
    "# Setup data loaders\n",
    "IMG_SIZE = (224, 224)\n",
    "BATCH_SIZE = 32\n",
    "\n",
    "train_data_1_percent = tf.keras.preprocessing.image_dataset_from_directory(train_dir_1_percent,\n",
    "                                                                          label_mode='categorical',\n",
    "                                                                          image_size=IMG_SIZE,\n",
    "                                                                          batch_size=BATCH_SIZE)\n",
    "\n",
    "test_data_1_percent = tf.keras.preprocessing.image_dataset_from_directory(test_dir,\n",
    "                                                                         label_mode='categorical',\n",
    "                                                                         image_size=IMG_SIZE,\n",
    "                                                                         batch_size=BATCH_SIZE)"
   ]
  },
  {
   "cell_type": "markdown",
   "metadata": {
    "id": "-D4po3S-qNJ-"
   },
   "source": [
    "Data loaded. Time to augment it."
   ]
  },
  {
   "cell_type": "markdown",
   "metadata": {
    "id": "zl8lSdTjDTCV"
   },
   "source": [
    "### Adding data augmentation right into the model\n",
    "\n",
    "Previously we've used the different parameters of the `ImageDataGenerator` class to augment our training images, this time we're going to build data augmentation right into the model.\n",
    "\n",
    "How?\n",
    "\n",
    "Using the [`tf.keras.layers.experimental.preprocessing`](https://www.tensorflow.org/api_docs/python/tf/keras/layers/experimental/preprocessing) module and creating a dedicated data augmentation layer.\n",
    "\n",
    "This a relatively new feature added to TensorFlow 2.2+ but it's very powerful. Adding a data augmentation layer to the model has the following benefits:\n",
    "* Preprocessing of the images (augmenting them) happens on the GPU rather than on the CPU (much faster).\n",
    "  * Images are best preprocessed on the GPU where as text and structured data are more suited to be preprocessed on the CPU.\n",
    "* Image data augmentation only happens during training so we can still export our whole model and use it elsewhere. And if someone else wanted to train the same model as us, including the same kind of data augmentation, they could.\n",
    "\n",
    "![](https://raw.githubusercontent.com/mrdbourke/tensorflow-deep-learning/main/images/05-data-augmentation-inside-a-model.png)\n",
    "*Example of using data augmentation as the first layer within a model (EfficientNetB0).*\n",
    "\n",
    "> 🤔 **Note:** At the time of writing, the preprocessing layers we're using for data augmentation are in *experimental* status within the in TensorFlow library. This means although the layers should be considered stable, the code may change slightly in a future version of TensorFlow. For more information on the other preprocessing layers avaiable and the different methods of data augmentation, check out the [Keras preprocessing layers guide](https://keras.io/guides/preprocessing_layers/) and the [TensorFlow data augmentation guide](https://www.tensorflow.org/tutorials/images/data_augmentation).\n",
    "\n",
    "To use data augmentation right within our model we'll create a Keras Sequential model consisting of only data preprocessing layers, we can then use this Sequential model within another Functional model.\n",
    "\n",
    "If that sounds confusing, it'll make sense once we create it in code.\n",
    "\n",
    "The data augmentation transformations we're going to use are:\n",
    "* [RandomFlip](https://www.tensorflow.org/api_docs/python/tf/keras/layers/experimental/preprocessing/RandomFlip) - flips image on horizontal or vertical axis.\n",
    "* [RandomRotation](https://www.tensorflow.org/api_docs/python/tf/keras/layers/experimental/preprocessing/RandomRotation) - randomly rotates image by a specified amount.\n",
    "* [RandomZoom](https://www.tensorflow.org/api_docs/python/tf/keras/layers/experimental/preprocessing/RandomZoom) - randomly zooms into an image by specified amount.\n",
    "* [RandomHeight](https://www.tensorflow.org/api_docs/python/tf/keras/layers/experimental/preprocessing/RandomHeight) - randomly shifts image height by a specified amount.\n",
    "* [RandomWidth](https://www.tensorflow.org/api_docs/python/tf/keras/layers/experimental/preprocessing/RandomWidth) - randomly shifts image width by a specified amount.\n",
    "* [Rescaling](https://www.tensorflow.org/api_docs/python/tf/keras/layers/experimental/preprocessing/Rescaling) - normalizes the image pixel values to be between 0 and 1, this is worth mentioning because it is required for some image models but since we're using the `tf.keras.applications` implementation of `EfficientNetB0`, it's not required.\n",
    "\n",
    "There are more option but these will do for now."
   ]
  },
  {
   "cell_type": "code",
   "execution_count": 16,
   "metadata": {
    "id": "bjHAalnakGEu"
   },
   "outputs": [],
   "source": [
    "import tensorflow as tf\n",
    "from tensorflow import keras\n",
    "from tensorflow.keras import layers\n",
    "from tensorflow.keras.layers.experimental import preprocessing\n",
    "\n",
    "# Create data augmentation stage with horizontal flipping, rotations, zooms, etc\n",
    "data_augmentation = keras.Sequential([\n",
    "    preprocessing.RandomFlip('horizontal'),\n",
    "    preprocessing.RandomRotation(0.2),\n",
    "    preprocessing.RandomZoom(0.2),\n",
    "    preprocessing.RandomHeight(0.2),\n",
    "    preprocessing.RandomWidth(0.2)\n",
    "], name='data_augmentation')"
   ]
  },
  {
   "cell_type": "markdown",
   "metadata": {
    "id": "XkeE62wxuyXG"
   },
   "source": [
    "And that's it! Our data augmentation Sequential model is ready to go. As you'll see shortly, we'll be able to slot this \"model\" as a layer into our transfer learning model later on.\n",
    "\n",
    "But before we do that, let's test it out by passing random images through it."
   ]
  },
  {
   "cell_type": "code",
   "execution_count": null,
   "metadata": {
    "colab": {
     "base_uri": "https://localhost:8080/",
     "height": 511
    },
    "id": "VBWXrlJXwKkE",
    "outputId": "ccd983e7-9bff-4540-8ec7-0d00e26506fc"
   },
   "outputs": [],
   "source": []
  },
  {
   "cell_type": "markdown",
   "metadata": {
    "id": "b8UwsBz1xF_H"
   },
   "source": [
    "Run the cell above a few times and you can see the different random augmentations on different classes of images. Because we're going to add the data augmentation model as a layer in our upcoming transfer learning model, it'll apply these kind of random augmentations to each of the training images which passes through it. \n",
    "\n",
    "Doing this will make our training dataset a little more varied. You can think of it as if you were taking a photo of food in real-life, not all of the images are going to be perfect, some of them are going to be orientated in strange ways. These are the kind of images we want our model to be able to handle.\n",
    "\n",
    "Speaking of model, let's build one with the Functional API. We'll run through all of the same steps as before except for one difference, we'll add our data augmentation Sequential model as a layer immediately after the input layer."
   ]
  },
  {
   "cell_type": "markdown",
   "metadata": {
    "id": "koH2FCIaAVe9"
   },
   "source": [
    "## Model 1: Feature extraction transfer learning on 1% of the data with data augmentation"
   ]
  },
  {
   "cell_type": "code",
   "execution_count": 22,
   "metadata": {
    "colab": {
     "base_uri": "https://localhost:8080/"
    },
    "id": "xbj-Z7Bhut-Y",
    "outputId": "b6fb03ce-c99e-496e-9b67-dd8c504238e4"
   },
   "outputs": [
    {
     "name": "stdout",
     "output_type": "stream",
     "text": [
      "Saving TensorBoard log files to: transfer_learning/1_percent_data_aug/20220610-010046\n",
      "Epoch 1/5\n",
      "3/3 [==============================] - 9s 2s/step - loss: 2.4608 - accuracy: 0.0429 - val_loss: 2.2320 - val_accuracy: 0.1809\n",
      "Epoch 2/5\n",
      "3/3 [==============================] - 2s 667ms/step - loss: 2.1585 - accuracy: 0.1714 - val_loss: 2.1265 - val_accuracy: 0.2303\n",
      "Epoch 3/5\n",
      "3/3 [==============================] - 1s 702ms/step - loss: 1.9794 - accuracy: 0.4000 - val_loss: 2.0015 - val_accuracy: 0.3174\n",
      "Epoch 4/5\n",
      "3/3 [==============================] - 2s 554ms/step - loss: 1.7993 - accuracy: 0.5286 - val_loss: 1.9118 - val_accuracy: 0.3750\n",
      "Epoch 5/5\n",
      "3/3 [==============================] - 2s 689ms/step - loss: 1.6170 - accuracy: 0.6286 - val_loss: 1.8367 - val_accuracy: 0.4079\n"
     ]
    }
   ],
   "source": [
    "# Setup input shape and base model, freezing the base model layers\n",
    "input_shape = (224, 224, 3)\n",
    "base_model = tf.keras.applications.EfficientNetB0(include_top=False)\n",
    "base_model.trainable = False\n",
    "\n",
    "# Create input layer\n",
    "inputs = layers.Input(shape=input_shape, name=\"input_layer\")\n",
    "\n",
    "# Add in data augmentation Sequential model as a layer\n",
    "x = data_augmentation(inputs)\n",
    "\n",
    "# Give base_model inputs (after augmentation) and don't train it\n",
    "x = base_model(x, training=False)\n",
    "\n",
    "# Pool output features of base model\n",
    "x = layers.GlobalAveragePooling2D(name=\"global_average_pooling_layer\")(x)\n",
    "\n",
    "# Put a dense layer on as the output\n",
    "outputs = layers.Dense(10, activation=\"softmax\", name=\"output_layer\")(x)\n",
    "\n",
    "# Make a model with inputs and outputs\n",
    "model_1 = keras.Model(inputs, outputs)\n",
    "\n",
    "# Compile the model\n",
    "model_1.compile(loss=\"categorical_crossentropy\",\n",
    "              optimizer=tf.keras.optimizers.Adam(),\n",
    "              metrics=[\"accuracy\"])\n",
    "\n",
    "# Fit the model\n",
    "history_1_percent = model_1.fit(train_data_1_percent,\n",
    "                    epochs=5,\n",
    "                    steps_per_epoch=len(train_data_1_percent),\n",
    "                    validation_data=test_data,\n",
    "                    validation_steps=int(0.25* len(test_data)), # validate for less steps\n",
    "                    # Track model training logs\n",
    "                    callbacks=[create_tensorboard_callback(\"transfer_learning\", \"1_percent_data_aug\")])"
   ]
  },
  {
   "cell_type": "markdown",
   "metadata": {
    "id": "svhrIqgCi27C"
   },
   "source": [
    "Wow! How cool is that? Using only 7 training images per class, using transfer learning our model was able to get ~40% accuracy on the validation set. This result is pretty amazing since the [original Food-101 paper](https://data.vision.ee.ethz.ch/cvl/datasets_extra/food-101/static/bossard_eccv14_food-101.pdf) achieved 50.67% accuracy with all the data, namely, 750 training images per class (**note:** this metric was across 101 classes, not 10, we'll get to 101 classes soon).\n",
    "\n",
    "If we check out a summary of our model, we should see the data augmentation layer just after the input layer."
   ]
  },
  {
   "cell_type": "code",
   "execution_count": 23,
   "metadata": {
    "colab": {
     "base_uri": "https://localhost:8080/"
    },
    "id": "lloN15WdPkgb",
    "outputId": "e79a8aa2-44c5-4ba7-b6bc-54844e4d24f3"
   },
   "outputs": [
    {
     "name": "stdout",
     "output_type": "stream",
     "text": [
      "Model: \"model_1\"\n",
      "_________________________________________________________________\n",
      " Layer (type)                Output Shape              Param #   \n",
      "=================================================================\n",
      " input_layer (InputLayer)    [(None, 224, 224, 3)]     0         \n",
      "                                                                 \n",
      " data_augmentation (Sequenti  (None, 224, 224, 3)      0         \n",
      " al)                                                             \n",
      "                                                                 \n",
      " efficientnetb0 (Functional)  (None, None, None, 1280)  4049571  \n",
      "                                                                 \n",
      " global_average_pooling_laye  (None, 1280)             0         \n",
      " r (GlobalAveragePooling2D)                                      \n",
      "                                                                 \n",
      " output_layer (Dense)        (None, 10)                12810     \n",
      "                                                                 \n",
      "=================================================================\n",
      "Total params: 4,062,381\n",
      "Trainable params: 12,810\n",
      "Non-trainable params: 4,049,571\n",
      "_________________________________________________________________\n"
     ]
    }
   ],
   "source": [
    "# Check out model summary\n",
    "model_1.summary()"
   ]
  },
  {
   "cell_type": "markdown",
   "metadata": {
    "id": "EPwjk5CAj9cZ"
   },
   "source": [
    "There it is. We've now got data augmentation built right into the our model. This means if we saved it and reloaded it somewhere else, the data augmentation layers would come with it.\n",
    "\n",
    "The important thing to remember is **data augmentation only runs during training**. So if we were to evaluate or use our model for inference (predicting the class of an image) the data augmentation layers will be automatically turned off.\n",
    "\n",
    "To see this in action, let's evaluate our model on the test data."
   ]
  },
  {
   "cell_type": "code",
   "execution_count": 24,
   "metadata": {
    "colab": {
     "base_uri": "https://localhost:8080/"
    },
    "id": "RgWXERdy8nXP",
    "outputId": "8c18041b-6107-4d1c-bc54-59e2bc189a8a"
   },
   "outputs": [
    {
     "name": "stdout",
     "output_type": "stream",
     "text": [
      "79/79 [==============================] - 2s 25ms/step - loss: 1.8270 - accuracy: 0.4252\n"
     ]
    },
    {
     "data": {
      "text/plain": [
       "[1.827014446258545, 0.4251999855041504]"
      ]
     },
     "execution_count": 24,
     "metadata": {},
     "output_type": "execute_result"
    }
   ],
   "source": [
    "# Evaluate on the test data\n",
    "results_1_percent_data_aug = model_1.evaluate(test_data)\n",
    "results_1_percent_data_aug"
   ]
  },
  {
   "cell_type": "markdown",
   "metadata": {
    "id": "OABaDYcokefk"
   },
   "source": [
    "The results here may be slightly better/worse than the log outputs of our model during training because during training we only evaluate our model on 25% of the test data using the line `validation_steps=int(0.25 * len(test_data))`. Doing this speeds up our epochs but still gives us enough of an idea of how our model is going.\n",
    "\n",
    "Let's stay consistent and check out our model's loss curves."
   ]
  },
  {
   "cell_type": "code",
   "execution_count": 25,
   "metadata": {
    "colab": {
     "base_uri": "https://localhost:8080/",
     "height": 573
    },
    "id": "ShCcuguspbyz",
    "outputId": "e45a0cd2-5ce5-4266-fdde-6fabfc91a6a9"
   },
   "outputs": [
    {
     "data": {
      "image/png": "[encoded data removed]",
      "text/plain": [
       "<Figure size 432x288 with 1 Axes>"
      ]
     },
     "metadata": {
      "needs_background": "light"
     },
     "output_type": "display_data"
    },
    {
     "data": {
      "image/png": "[encoded data removed]",
      "text/plain": [
       "<Figure size 432x288 with 1 Axes>"
      ]
     },
     "metadata": {
      "needs_background": "light"
     },
     "output_type": "display_data"
    }
   ],
   "source": [
    "# How does the model go with a data augmentation layer with 1% of data\n",
    "plot_loss_curves(history_1_percent)"
   ]
  },
  {
   "cell_type": "markdown",
   "metadata": {
    "id": "kEPFBiDPk-ig"
   },
   "source": [
    "It looks like the metrics on both datasets would improve if we kept training for more epochs. But we'll leave that for now, we've got more experiments to do!"
   ]
  },
  {
   "cell_type": "markdown",
   "metadata": {
    "id": "1cd5jPoPC2Ug"
   },
   "source": [
    "## Model 2: Feature extraction transfer learning with 10% of data and data augmentation\n",
    "\n",
    "Alright, we've tested 1% of the training data with data augmentation, how about we try 10% of the data with data augmentation?\n",
    "\n",
    "But wait...\n",
    "\n",
    "> 🤔 **Question:** How do you know what experiments to run?\n",
    "\n",
    "Great question. \n",
    "\n",
    "The truth here is you often won't. Machine learning is still a very experimental practice. It's only after trying a fair few things that you'll start to develop an intuition of what to try.\n",
    "\n",
    "My advice is to follow your curiosity as tenaciously as possible. If you feel like you want to try something, write the code for it and run it. See how it goes. The worst thing that'll happen is you'll figure out what doesn't work, the most valuable kind of knowledge.\n",
    "\n",
    "From a practical standpoint, as we've talked about before, you'll want to reduce the amount of time between your initial experiments as much as possible. In other words, run a plethora of smaller experiments, using less data and less training iterations before you find something promising and then scale it up.\n",
    "\n",
    "In the theme of scale, let's scale our 1% training data augmentation experiment up to 10% training data augmentation. That sentence doesn't really make sense but you get what I mean.\n",
    "\n",
    "We're going to run through the exact same steps as the previous model, the only difference being using 10% of the training data instead of 1%."
   ]
  },
  {
   "cell_type": "code",
   "execution_count": 26,
   "metadata": {
    "id": "nv75Z8BkuTmy"
   },
   "outputs": [],
   "source": [
    "# Get 10% of the data of the 10 classes (uncomment if you haven't gotten \"10_food_classes_10_percent.zip\" already)\n",
    "# !wget https://storage.googleapis.com/ztm_tf_course/food_vision/10_food_classes_10_percent.zip\n",
    "# unzip_data(\"10_food_classes_10_percent.zip\")\n",
    "\n",
    "train_dir_10_percent = \"10_food_classes_10_percent/train/\"\n",
    "test_dir = \"10_food_classes_10_percent/test/\""
   ]
  },
  {
   "cell_type": "markdown",
   "metadata": {
    "id": "9Vcnuoorminm"
   },
   "source": [
    "Data downloaded. Let's create the dataloaders."
   ]
  },
  {
   "cell_type": "code",
   "execution_count": 27,
   "metadata": {
    "colab": {
     "base_uri": "https://localhost:8080/"
    },
    "id": "0eZ4SzbiC9zX",
    "outputId": "b2fe4146-8bce-46eb-daa8-036cde10a909"
   },
   "outputs": [
    {
     "name": "stdout",
     "output_type": "stream",
     "text": [
      "Found 750 files belonging to 10 classes.\n",
      "Found 2500 files belonging to 10 classes.\n"
     ]
    }
   ],
   "source": [
    "# Setup data inputs\n",
    "import tensorflow as tf\n",
    "IMG_SIZE = (224, 224)\n",
    "train_data_10_percent = tf.keras.preprocessing.image_dataset_from_directory(train_dir_10_percent,\n",
    "                                                                            label_mode=\"categorical\",\n",
    "                                                                            image_size=IMG_SIZE)\n",
    "# Note: the test data is the same as the previous experiment, we could\n",
    "# skip creating this, but we'll leave this here to practice.\n",
    "test_data = tf.keras.preprocessing.image_dataset_from_directory(test_dir,\n",
    "                                                                label_mode=\"categorical\",\n",
    "                                                                image_size=IMG_SIZE)"
   ]
  },
  {
   "cell_type": "markdown",
   "metadata": {
    "id": "ZlHIzDo5mz5L"
   },
   "source": [
    "Awesome! We've got 10x more images to work with, 75 per class instead of 7 per class.\n",
    "\n",
    "Let's build a model with data augmentation built in. We could reuse the data augmentation Sequential model we created before but we'll recreate it to practice."
   ]
  },
  {
   "cell_type": "code",
   "execution_count": 28,
   "metadata": {
    "id": "RuuP1FWADHfc"
   },
   "outputs": [
    {
     "name": "stderr",
     "output_type": "stream",
     "text": [
      "/usr/lib/python3.10/site-packages/keras/optimizer_v2/adam.py:105: UserWarning: The `lr` argument is deprecated, use `learning_rate` instead.\n",
      "  super(Adam, self).__init__(name, **kwargs)\n"
     ]
    }
   ],
   "source": [
    "# Create a functional model with data augmentation\n",
    "import tensorflow as tf\n",
    "from tensorflow.keras import layers\n",
    "from tensorflow.keras.layers.experimental import preprocessing\n",
    "from tensorflow.keras.models import Sequential\n",
    "\n",
    "# Build data augmentation layer\n",
    "data_augmentation = Sequential([\n",
    "  preprocessing.RandomFlip('horizontal'),\n",
    "  preprocessing.RandomHeight(0.2),\n",
    "  preprocessing.RandomWidth(0.2),\n",
    "  preprocessing.RandomZoom(0.2),\n",
    "  preprocessing.RandomRotation(0.2),\n",
    "  # preprocessing.Rescaling(1./255) # keep for ResNet50V2, remove for EfficientNet                 \n",
    "], name=\"data_augmentation\")\n",
    "\n",
    "# Setup the input shape to our model\n",
    "input_shape = (224, 224, 3)\n",
    "\n",
    "# Create a frozen base model\n",
    "base_model = tf.keras.applications.EfficientNetB0(include_top=False)\n",
    "base_model.trainable = False\n",
    "\n",
    "# Create input and output layers\n",
    "inputs = layers.Input(shape=input_shape, name=\"input_layer\") # create input layer\n",
    "x = data_augmentation(inputs) # augment our training images\n",
    "x = base_model(x, training=False) # pass augmented images to base model but keep it in inference mode, so batchnorm layers don't get updated: https://keras.io/guides/transfer_learning/#build-a-model \n",
    "x = layers.GlobalAveragePooling2D(name=\"global_average_pooling_layer\")(x)\n",
    "outputs = layers.Dense(10, activation=\"softmax\", name=\"output_layer\")(x)\n",
    "model_2 = tf.keras.Model(inputs, outputs)\n",
    "\n",
    "# Compile\n",
    "model_2.compile(loss=\"categorical_crossentropy\",\n",
    "              optimizer=tf.keras.optimizers.Adam(lr=0.001), # use Adam optimizer with base learning rate\n",
    "              metrics=[\"accuracy\"])"
   ]
  },
  {
   "cell_type": "markdown",
   "metadata": {
    "id": "9RiP2aR6nqyK"
   },
   "source": [
    "### Creating a ModelCheckpoint callback\n",
    "\n",
    "Our model is compiled and ready to be fit, so why haven't we fit it yet?\n",
    "\n",
    "Well, for this experiment we're going to introduce a new callback, the `ModelCheckpoint` callback.\n",
    "\n",
    "The [`ModelCheckpoint`](https://www.tensorflow.org/api_docs/python/tf/keras/callbacks/ModelCheckpoint) callback gives you the ability to save your model, as a whole in the [`SavedModel`](https://www.tensorflow.org/tutorials/keras/save_and_load#save_the_entire_model) format or the [weights (patterns) only](https://www.tensorflow.org/tutorials/keras/save_and_load#manually_save_weights) to a specified directory as it trains. \n",
    "\n",
    "This is helpful if you think your model is going to be training for a long time and you want to make backups of it as it trains. It also means if you think your model could benefit from being trained for longer, you can reload it from a specific checkpoint and continue training from there.\n",
    "\n",
    "For example, say you fit a feature extraction transfer learning model for 5 epochs and you check the training curves and see it was still improving and you want to see if fine-tuning for another 5 epochs could help, you can load the checkpoint, unfreeze some (or all) of the base model layers and then continue training.\n",
    "\n",
    "In fact, that's exactly what we're going to do. \n",
    "\n",
    "But first, let's create a `ModelCheckpoint` callback. To do so, we have to specifcy a directory we'd like to save to."
   ]
  },
  {
   "cell_type": "code",
   "execution_count": 29,
   "metadata": {
    "id": "11M6B736noly"
   },
   "outputs": [],
   "source": [
    "# Setup checkpoint path\n",
    "checkpoint_path = \"ten_percent_model_checkpoints_weights/checkpoint.ckpt\" # note: remember saving directly to Colab is temporary\n",
    "\n",
    "# Create a ModelCheckpoint callback that saves the model's weights only\n",
    "checkpoint_callback = tf.keras.callbacks.ModelCheckpoint(filepath=checkpoint_path,\n",
    "                                                         save_weights_only=True, # set to False to save the entire model\n",
    "                                                         save_best_only=False, # set to True to save only the best model instead of a model every epoch \n",
    "                                                         save_freq=\"epoch\", # save every epoch\n",
    "                                                         verbose=1)"
   ]
  },
  {
   "cell_type": "markdown",
   "metadata": {
    "id": "R9T4MdK1nynZ"
   },
   "source": [
    "> 🤔 **Question:** What's the difference between saving the entire model (SavedModel format) and saving the weights only?\n",
    "\n",
    "The [`SavedModel`](https://www.tensorflow.org/tutorials/keras/save_and_load#save_the_entire_model) format saves a model's architecture, weights and training configuration all in one folder. It makes it very easy to reload your model exactly how it is elsewhere. However, if you do not want to share all of these details with others, you may want to save and share the weights only (these will just be large tensors of non-human interpretable numbers). If disk space is an issue, saving the weights only is faster and takes up less space than saving the whole model.\n",
    "\n",
    "Time to fit the model.\n",
    "\n",
    "Because we're going to be fine-tuning it later, we'll create a variable `initial_epochs` and set it to 5 to use later.\n",
    "\n",
    "We'll also add in our `checkpoint_callback` in our list of `callbacks`."
   ]
  },
  {
   "cell_type": "code",
   "execution_count": 30,
   "metadata": {
    "colab": {
     "base_uri": "https://localhost:8080/"
    },
    "id": "ZOgMGhi0nx0u",
    "outputId": "f6c6167e-1766-4867-9183-a08e1810efb4"
   },
   "outputs": [
    {
     "name": "stdout",
     "output_type": "stream",
     "text": [
      "Saving TensorBoard log files to: transfer_learning/10_percent_data_aug/20220610-010106\n",
      "Epoch 1/5\n",
      "24/24 [==============================] - ETA: 0s - loss: 1.9850 - accuracy: 0.3760\n",
      "Epoch 1: saving model to ten_percent_model_checkpoints_weights/checkpoint.ckpt\n",
      "24/24 [==============================] - 16s 433ms/step - loss: 1.9850 - accuracy: 0.3760 - val_loss: 1.5188 - val_accuracy: 0.6332\n",
      "Epoch 2/5\n",
      "24/24 [==============================] - ETA: 0s - loss: 1.3607 - accuracy: 0.6720\n",
      "Epoch 2: saving model to ten_percent_model_checkpoints_weights/checkpoint.ckpt\n",
      "24/24 [==============================] - 7s 287ms/step - loss: 1.3607 - accuracy: 0.6720 - val_loss: 1.0526 - val_accuracy: 0.7829\n",
      "Epoch 3/5\n",
      "24/24 [==============================] - ETA: 0s - loss: 1.0426 - accuracy: 0.7547\n",
      "Epoch 3: saving model to ten_percent_model_checkpoints_weights/checkpoint.ckpt\n",
      "24/24 [==============================] - 6s 249ms/step - loss: 1.0426 - accuracy: 0.7547 - val_loss: 0.8819 - val_accuracy: 0.7944\n",
      "Epoch 4/5\n",
      "24/24 [==============================] - ETA: 0s - loss: 0.8957 - accuracy: 0.7813\n",
      "Epoch 4: saving model to ten_percent_model_checkpoints_weights/checkpoint.ckpt\n",
      "24/24 [==============================] - 6s 249ms/step - loss: 0.8957 - accuracy: 0.7813 - val_loss: 0.7721 - val_accuracy: 0.8026\n",
      "Epoch 5/5\n",
      "24/24 [==============================] - ETA: 0s - loss: 0.7878 - accuracy: 0.8080\n",
      "Epoch 5: saving model to ten_percent_model_checkpoints_weights/checkpoint.ckpt\n",
      "24/24 [==============================] - 5s 202ms/step - loss: 0.7878 - accuracy: 0.8080 - val_loss: 0.7022 - val_accuracy: 0.8240\n"
     ]
    }
   ],
   "source": [
    "# Fit the model saving checkpoints every epoch\n",
    "initial_epochs = 5\n",
    "history_10_percent_data_aug = model_2.fit(train_data_10_percent,\n",
    "                                          epochs=initial_epochs,\n",
    "                                          validation_data=test_data,\n",
    "                                          validation_steps=int(0.25 * len(test_data)), # do less steps per validation (quicker)\n",
    "                                          callbacks=[create_tensorboard_callback(\"transfer_learning\", \"10_percent_data_aug\"), \n",
    "                                                     checkpoint_callback])"
   ]
  },
  {
   "cell_type": "markdown",
   "metadata": {
    "id": "elbLc46m1kAz"
   },
   "source": [
    "Would you look at that! Looks like our `ModelCheckpoint` callback worked and our model saved its weights every epoch without too much overhead (saving the whole model takes longer than just the weights).\n",
    "\n",
    "Let's evaluate our model and check its loss curves."
   ]
  },
  {
   "cell_type": "code",
   "execution_count": 31,
   "metadata": {
    "colab": {
     "base_uri": "https://localhost:8080/"
    },
    "id": "3KBwXaDwvlEX",
    "outputId": "5944515d-755e-48dd-b381-870b9a769730"
   },
   "outputs": [
    {
     "name": "stdout",
     "output_type": "stream",
     "text": [
      "79/79 [==============================] - 2s 24ms/step - loss: 0.6956 - accuracy: 0.8032\n"
     ]
    },
    {
     "data": {
      "text/plain": [
       "[0.6955946087837219, 0.8032000064849854]"
      ]
     },
     "execution_count": 31,
     "metadata": {},
     "output_type": "execute_result"
    }
   ],
   "source": [
    "# Evaluate on the test data\n",
    "results_10_percent_data_aug = model_2.evaluate(test_data)\n",
    "results_10_percent_data_aug"
   ]
  },
  {
   "cell_type": "code",
   "execution_count": 32,
   "metadata": {
    "colab": {
     "base_uri": "https://localhost:8080/",
     "height": 573
    },
    "id": "W-TeYMc_Hh0p",
    "outputId": "83741585-8e32-45b8-9718-71a2cfbd8b65"
   },
   "outputs": [
    {
     "data": {
      "image/png": "[encoded data removed]",
      "text/plain": [
       "<Figure size 432x288 with 1 Axes>"
      ]
     },
     "metadata": {
      "needs_background": "light"
     },
     "output_type": "display_data"
    },
    {
     "data": {
      "image/png": "[encoded data removed]",
      "text/plain": [
       "<Figure size 432x288 with 1 Axes>"
      ]
     },
     "metadata": {
      "needs_background": "light"
     },
     "output_type": "display_data"
    }
   ],
   "source": [
    "# Plot model loss curves\n",
    "plot_loss_curves(history_10_percent_data_aug)"
   ]
  },
  {
   "cell_type": "markdown",
   "metadata": {
    "id": "N-yHYHnx2GZE"
   },
   "source": [
    "Looking at these, our model's performance with 10% of the data and data augmentation isn't as good as the model with 10% of the data without data augmentation (see `model_0` results above), however the curves are trending in the right direction, meaning if we decided to train for longer, its metrics would likely improve.\n",
    "\n",
    "Since we checkpointed (is that a word?) our model's weights, we might as well see what it's like to load it back in. We'll be able to test if it saved correctly by evaluting it on the test data.\n",
    "\n",
    "To load saved model weights you can use the the [`load_weights()`](https://www.tensorflow.org/tutorials/keras/save_and_load#checkpoint_callback_options) method, passing it the path where your saved weights are stored."
   ]
  },
  {
   "cell_type": "code",
   "execution_count": 33,
   "metadata": {
    "colab": {
     "base_uri": "https://localhost:8080/"
    },
    "id": "Yo5uxm9Du_kO",
    "outputId": "6656e469-d0c0-4d04-bf50-3d902cbddf58"
   },
   "outputs": [
    {
     "name": "stdout",
     "output_type": "stream",
     "text": [
      "79/79 [==============================] - 2s 25ms/step - loss: 0.6956 - accuracy: 0.8032\n"
     ]
    }
   ],
   "source": [
    "# Load in saved model weights and evaluate model\n",
    "model_2.load_weights(checkpoint_path)\n",
    "loaded_weights_model_results = model_2.evaluate(test_data)"
   ]
  },
  {
   "cell_type": "markdown",
   "metadata": {
    "id": "WYTrmgeSgRkc"
   },
   "source": [
    "Now let's compare the results of our previously trained model and the loaded model. These results should very close if not exactly the same. The reason for minor differences comes down to the precision level of numbers calculated."
   ]
  },
  {
   "cell_type": "code",
   "execution_count": 34,
   "metadata": {
    "colab": {
     "base_uri": "https://localhost:8080/"
    },
    "id": "8oF-zsM_wMVQ",
    "outputId": "9fca1ee8-875c-4e6a-ec74-a22b63a79cc4"
   },
   "outputs": [
    {
     "data": {
      "text/plain": [
       "False"
      ]
     },
     "execution_count": 34,
     "metadata": {},
     "output_type": "execute_result"
    }
   ],
   "source": [
    "# If the results from our native model and the loaded weights are the same, this should output True\n",
    "results_10_percent_data_aug == loaded_weights_model_results"
   ]
  },
  {
   "cell_type": "markdown",
   "metadata": {
    "id": "L2noU9rlgflw"
   },
   "source": [
    "If the above cell doesn't output `True`, it's because the numbers are close but not the *exact* same (due to how computers store numbers with degrees of precision).\n",
    "\n",
    "However, they should be *very* close..."
   ]
  },
  {
   "cell_type": "code",
   "execution_count": 35,
   "metadata": {
    "colab": {
     "base_uri": "https://localhost:8080/"
    },
    "id": "0u4N8g9mgBI0",
    "outputId": "102bf07f-7280-49fe-ea8f-16ee53bbd268"
   },
   "outputs": [
    {
     "data": {
      "text/plain": [
       "array([ True,  True])"
      ]
     },
     "execution_count": 35,
     "metadata": {},
     "output_type": "execute_result"
    }
   ],
   "source": [
    "import numpy as np\n",
    "# Check to see if loaded model results are very close to native model results (should output True)\n",
    "np.isclose(np.array(results_10_percent_data_aug), np.array(loaded_weights_model_results))"
   ]
  },
  {
   "cell_type": "code",
   "execution_count": 36,
   "metadata": {
    "colab": {
     "base_uri": "https://localhost:8080/"
    },
    "id": "6srnISjohK8N",
    "outputId": "de0374d9-c922-4b6b-88e2-692f6f255653"
   },
   "outputs": [
    {
     "name": "stdout",
     "output_type": "stream",
     "text": [
      "[-7.74860382e-07  0.00000000e+00]\n"
     ]
    }
   ],
   "source": [
    "# Check the difference between the two results\n",
    "print(np.array(results_10_percent_data_aug) - np.array(loaded_weights_model_results))"
   ]
  },
  {
   "cell_type": "markdown",
   "metadata": {
    "id": "C_RYtaqD0Mv6"
   },
   "source": [
    "## Model 3: Fine-tuning an existing model on 10% of the data\n",
    "\n",
    "![](https://raw.githubusercontent.com/mrdbourke/tensorflow-deep-learning/main/images/05-fine-tuning-an-efficientnet-model.png)\n",
    "*High-level example of fine-tuning an EfficientNet model. Bottom layers (layers closer to the input data) stay frozen where as top layers (layers closer to the output data) are updated during training.*\n",
    "\n",
    "So far our saved model has been trained using feature extraction transfer learning for 5 epochs on 10% of the training data and data augmentation.\n",
    "\n",
    "This means all of the layers in the base model (EfficientNetB0) were frozen during training.\n",
    "\n",
    "For our next experiment we're going to switch to fine-tuning transfer learning. This means we'll be using the same base model except we'll be unfreezing some of its layers (ones closest to the top) and running the model for a few more epochs.\n",
    "\n",
    "The idea with fine-tuning is to start customizing the pre-trained model more to our own data.\n",
    "\n",
    "> 🔑 **Note:** Fine-tuning usually works best *after* training a feature extraction model for a few epochs and with large amounts of data. For more on this, check out [Keras' guide on Transfer learning & fine-tuning](https://keras.io/guides/transfer_learning/).\n",
    "\n",
    "We've verified our loaded model's performance, let's check out its layers."
   ]
  },
  {
   "cell_type": "code",
   "execution_count": 37,
   "metadata": {
    "colab": {
     "base_uri": "https://localhost:8080/"
    },
    "id": "EfsHnkOIrx9K",
    "outputId": "23395730-9cee-4cb2-d687-e68f0742a45f"
   },
   "outputs": [
    {
     "data": {
      "text/plain": [
       "[<keras.engine.input_layer.InputLayer at 0x7f0bce763220>,\n",
       " <keras.engine.sequential.Sequential at 0x7f0c87e65210>,\n",
       " <keras.engine.functional.Functional at 0x7f0bce4ac430>,\n",
       " <keras.layers.pooling.GlobalAveragePooling2D at 0x7f0c87e64670>,\n",
       " <keras.layers.core.dense.Dense at 0x7f0c87e64e80>]"
      ]
     },
     "execution_count": 37,
     "metadata": {},
     "output_type": "execute_result"
    }
   ],
   "source": [
    "# Layers in loaded model\n",
    "model_2.layers"
   ]
  },
  {
   "cell_type": "code",
   "execution_count": 38,
   "metadata": {
    "colab": {
     "base_uri": "https://localhost:8080/"
    },
    "id": "QpzkIVuqtbXC",
    "outputId": "caf47dff-456f-480f-841d-621fbd815f03"
   },
   "outputs": [
    {
     "name": "stdout",
     "output_type": "stream",
     "text": [
      "True\n",
      "True\n",
      "False\n",
      "True\n",
      "True\n"
     ]
    }
   ],
   "source": [
    "for layer in model_2.layers:\n",
    "  print(layer.trainable)"
   ]
  },
  {
   "cell_type": "markdown",
   "metadata": {
    "id": "TR7Ym5UN5tou"
   },
   "source": [
    "Looking good. We've got an input layer, a Sequential layer (the data augmentation model), a Functional layer (EfficientNetB0), a pooling layer and a Dense layer (the output layer).\n",
    "\n",
    "How about a summary?"
   ]
  },
  {
   "cell_type": "code",
   "execution_count": 39,
   "metadata": {
    "colab": {
     "base_uri": "https://localhost:8080/"
    },
    "id": "w55Z7qFYsUfy",
    "outputId": "a3489f33-abe3-474a-d08c-fa64bb8dcdca"
   },
   "outputs": [
    {
     "name": "stdout",
     "output_type": "stream",
     "text": [
      "Model: \"model_2\"\n",
      "_________________________________________________________________\n",
      " Layer (type)                Output Shape              Param #   \n",
      "=================================================================\n",
      " input_layer (InputLayer)    [(None, 224, 224, 3)]     0         \n",
      "                                                                 \n",
      " data_augmentation (Sequenti  (None, 224, 224, 3)      0         \n",
      " al)                                                             \n",
      "                                                                 \n",
      " efficientnetb0 (Functional)  (None, None, None, 1280)  4049571  \n",
      "                                                                 \n",
      " global_average_pooling_laye  (None, 1280)             0         \n",
      " r (GlobalAveragePooling2D)                                      \n",
      "                                                                 \n",
      " output_layer (Dense)        (None, 10)                12810     \n",
      "                                                                 \n",
      "=================================================================\n",
      "Total params: 4,062,381\n",
      "Trainable params: 12,810\n",
      "Non-trainable params: 4,049,571\n",
      "_________________________________________________________________\n"
     ]
    }
   ],
   "source": [
    "model_2.summary()"
   ]
  },
  {
   "cell_type": "markdown",
   "metadata": {
    "id": "WSAz6_oi62Sn"
   },
   "source": [
    "Alright, it looks like all of the layers in the `efficientnetb0` layer are frozen. We can confirm this using the `trainable_variables` attribute."
   ]
  },
  {
   "cell_type": "code",
   "execution_count": 40,
   "metadata": {
    "colab": {
     "base_uri": "https://localhost:8080/"
    },
    "id": "dgSn6yzywHd7",
    "outputId": "573c99b9-26e1-467c-c430-8ff4ca4a7377"
   },
   "outputs": [
    {
     "name": "stdout",
     "output_type": "stream",
     "text": [
      "0\n"
     ]
    }
   ],
   "source": [
    "# How many layers are trainable in our base model?\n",
    "print(len(model_2.layers[2].trainable_variables)) # layer at index 2 is the EfficientNetB0 layer (the base model)"
   ]
  },
  {
   "cell_type": "markdown",
   "metadata": {
    "id": "m2cydE75i2OC"
   },
   "source": [
    "This is the same as our base model."
   ]
  },
  {
   "cell_type": "code",
   "execution_count": 41,
   "metadata": {
    "colab": {
     "base_uri": "https://localhost:8080/"
    },
    "id": "bEFHfoVti1d4",
    "outputId": "d1e020e7-ff06-4796-b9e1-50c14bae4787"
   },
   "outputs": [
    {
     "name": "stdout",
     "output_type": "stream",
     "text": [
      "0\n"
     ]
    }
   ],
   "source": [
    "print(len(base_model.trainable_variables))"
   ]
  },
  {
   "cell_type": "markdown",
   "metadata": {
    "id": "3n1qhcK4jFwx"
   },
   "source": [
    "We can even check layer by layer to see if the they're trainable."
   ]
  },
  {
   "cell_type": "code",
   "execution_count": 42,
   "metadata": {
    "colab": {
     "base_uri": "https://localhost:8080/"
    },
    "id": "WGSvBXM7jKIm",
    "outputId": "3cfd3778-8547-4c04-c0f4-5d3e8ecaab65"
   },
   "outputs": [
    {
     "name": "stdout",
     "output_type": "stream",
     "text": [
      "0 input_3 False\n",
      "1 rescaling_2 False\n",
      "2 normalization_2 False\n",
      "3 stem_conv_pad False\n",
      "4 stem_conv False\n",
      "5 stem_bn False\n",
      "6 stem_activation False\n",
      "7 block1a_dwconv False\n",
      "8 block1a_bn False\n",
      "9 block1a_activation False\n",
      "10 block1a_se_squeeze False\n",
      "11 block1a_se_reshape False\n",
      "12 block1a_se_reduce False\n",
      "13 block1a_se_expand False\n",
      "14 block1a_se_excite False\n",
      "15 block1a_project_conv False\n",
      "16 block1a_project_bn False\n",
      "17 block2a_expand_conv False\n",
      "18 block2a_expand_bn False\n",
      "19 block2a_expand_activation False\n",
      "20 block2a_dwconv_pad False\n",
      "21 block2a_dwconv False\n",
      "22 block2a_bn False\n",
      "23 block2a_activation False\n",
      "24 block2a_se_squeeze False\n",
      "25 block2a_se_reshape False\n",
      "26 block2a_se_reduce False\n",
      "27 block2a_se_expand False\n",
      "28 block2a_se_excite False\n",
      "29 block2a_project_conv False\n",
      "30 block2a_project_bn False\n",
      "31 block2b_expand_conv False\n",
      "32 block2b_expand_bn False\n",
      "33 block2b_expand_activation False\n",
      "34 block2b_dwconv False\n",
      "35 block2b_bn False\n",
      "36 block2b_activation False\n",
      "37 block2b_se_squeeze False\n",
      "38 block2b_se_reshape False\n",
      "39 block2b_se_reduce False\n",
      "40 block2b_se_expand False\n",
      "41 block2b_se_excite False\n",
      "42 block2b_project_conv False\n",
      "43 block2b_project_bn False\n",
      "44 block2b_drop False\n",
      "45 block2b_add False\n",
      "46 block3a_expand_conv False\n",
      "47 block3a_expand_bn False\n",
      "48 block3a_expand_activation False\n",
      "49 block3a_dwconv_pad False\n",
      "50 block3a_dwconv False\n",
      "51 block3a_bn False\n",
      "52 block3a_activation False\n",
      "53 block3a_se_squeeze False\n",
      "54 block3a_se_reshape False\n",
      "55 block3a_se_reduce False\n",
      "56 block3a_se_expand False\n",
      "57 block3a_se_excite False\n",
      "58 block3a_project_conv False\n",
      "59 block3a_project_bn False\n",
      "60 block3b_expand_conv False\n",
      "61 block3b_expand_bn False\n",
      "62 block3b_expand_activation False\n",
      "63 block3b_dwconv False\n",
      "64 block3b_bn False\n",
      "65 block3b_activation False\n",
      "66 block3b_se_squeeze False\n",
      "67 block3b_se_reshape False\n",
      "68 block3b_se_reduce False\n",
      "69 block3b_se_expand False\n",
      "70 block3b_se_excite False\n",
      "71 block3b_project_conv False\n",
      "72 block3b_project_bn False\n",
      "73 block3b_drop False\n",
      "74 block3b_add False\n",
      "75 block4a_expand_conv False\n",
      "76 block4a_expand_bn False\n",
      "77 block4a_expand_activation False\n",
      "78 block4a_dwconv_pad False\n",
      "79 block4a_dwconv False\n",
      "80 block4a_bn False\n",
      "81 block4a_activation False\n",
      "82 block4a_se_squeeze False\n",
      "83 block4a_se_reshape False\n",
      "84 block4a_se_reduce False\n",
      "85 block4a_se_expand False\n",
      "86 block4a_se_excite False\n",
      "87 block4a_project_conv False\n",
      "88 block4a_project_bn False\n",
      "89 block4b_expand_conv False\n",
      "90 block4b_expand_bn False\n",
      "91 block4b_expand_activation False\n",
      "92 block4b_dwconv False\n",
      "93 block4b_bn False\n",
      "94 block4b_activation False\n",
      "95 block4b_se_squeeze False\n",
      "96 block4b_se_reshape False\n",
      "97 block4b_se_reduce False\n",
      "98 block4b_se_expand False\n",
      "99 block4b_se_excite False\n",
      "100 block4b_project_conv False\n",
      "101 block4b_project_bn False\n",
      "102 block4b_drop False\n",
      "103 block4b_add False\n",
      "104 block4c_expand_conv False\n",
      "105 block4c_expand_bn False\n",
      "106 block4c_expand_activation False\n",
      "107 block4c_dwconv False\n",
      "108 block4c_bn False\n",
      "109 block4c_activation False\n",
      "110 block4c_se_squeeze False\n",
      "111 block4c_se_reshape False\n",
      "112 block4c_se_reduce False\n",
      "113 block4c_se_expand False\n",
      "114 block4c_se_excite False\n",
      "115 block4c_project_conv False\n",
      "116 block4c_project_bn False\n",
      "117 block4c_drop False\n",
      "118 block4c_add False\n",
      "119 block5a_expand_conv False\n",
      "120 block5a_expand_bn False\n",
      "121 block5a_expand_activation False\n",
      "122 block5a_dwconv False\n",
      "123 block5a_bn False\n",
      "124 block5a_activation False\n",
      "125 block5a_se_squeeze False\n",
      "126 block5a_se_reshape False\n",
      "127 block5a_se_reduce False\n",
      "128 block5a_se_expand False\n",
      "129 block5a_se_excite False\n",
      "130 block5a_project_conv False\n",
      "131 block5a_project_bn False\n",
      "132 block5b_expand_conv False\n",
      "133 block5b_expand_bn False\n",
      "134 block5b_expand_activation False\n",
      "135 block5b_dwconv False\n",
      "136 block5b_bn False\n",
      "137 block5b_activation False\n",
      "138 block5b_se_squeeze False\n",
      "139 block5b_se_reshape False\n",
      "140 block5b_se_reduce False\n",
      "141 block5b_se_expand False\n",
      "142 block5b_se_excite False\n",
      "143 block5b_project_conv False\n",
      "144 block5b_project_bn False\n",
      "145 block5b_drop False\n",
      "146 block5b_add False\n",
      "147 block5c_expand_conv False\n",
      "148 block5c_expand_bn False\n",
      "149 block5c_expand_activation False\n",
      "150 block5c_dwconv False\n",
      "151 block5c_bn False\n",
      "152 block5c_activation False\n",
      "153 block5c_se_squeeze False\n",
      "154 block5c_se_reshape False\n",
      "155 block5c_se_reduce False\n",
      "156 block5c_se_expand False\n",
      "157 block5c_se_excite False\n",
      "158 block5c_project_conv False\n",
      "159 block5c_project_bn False\n",
      "160 block5c_drop False\n",
      "161 block5c_add False\n",
      "162 block6a_expand_conv False\n",
      "163 block6a_expand_bn False\n",
      "164 block6a_expand_activation False\n",
      "165 block6a_dwconv_pad False\n",
      "166 block6a_dwconv False\n",
      "167 block6a_bn False\n",
      "168 block6a_activation False\n",
      "169 block6a_se_squeeze False\n",
      "170 block6a_se_reshape False\n",
      "171 block6a_se_reduce False\n",
      "172 block6a_se_expand False\n",
      "173 block6a_se_excite False\n",
      "174 block6a_project_conv False\n",
      "175 block6a_project_bn False\n",
      "176 block6b_expand_conv False\n",
      "177 block6b_expand_bn False\n",
      "178 block6b_expand_activation False\n",
      "179 block6b_dwconv False\n",
      "180 block6b_bn False\n",
      "181 block6b_activation False\n",
      "182 block6b_se_squeeze False\n",
      "183 block6b_se_reshape False\n",
      "184 block6b_se_reduce False\n",
      "185 block6b_se_expand False\n",
      "186 block6b_se_excite False\n",
      "187 block6b_project_conv False\n",
      "188 block6b_project_bn False\n",
      "189 block6b_drop False\n",
      "190 block6b_add False\n",
      "191 block6c_expand_conv False\n",
      "192 block6c_expand_bn False\n",
      "193 block6c_expand_activation False\n",
      "194 block6c_dwconv False\n",
      "195 block6c_bn False\n",
      "196 block6c_activation False\n",
      "197 block6c_se_squeeze False\n",
      "198 block6c_se_reshape False\n",
      "199 block6c_se_reduce False\n",
      "200 block6c_se_expand False\n",
      "201 block6c_se_excite False\n",
      "202 block6c_project_conv False\n",
      "203 block6c_project_bn False\n",
      "204 block6c_drop False\n",
      "205 block6c_add False\n",
      "206 block6d_expand_conv False\n",
      "207 block6d_expand_bn False\n",
      "208 block6d_expand_activation False\n",
      "209 block6d_dwconv False\n",
      "210 block6d_bn False\n",
      "211 block6d_activation False\n",
      "212 block6d_se_squeeze False\n",
      "213 block6d_se_reshape False\n",
      "214 block6d_se_reduce False\n",
      "215 block6d_se_expand False\n",
      "216 block6d_se_excite False\n",
      "217 block6d_project_conv False\n",
      "218 block6d_project_bn False\n",
      "219 block6d_drop False\n",
      "220 block6d_add False\n",
      "221 block7a_expand_conv False\n",
      "222 block7a_expand_bn False\n",
      "223 block7a_expand_activation False\n",
      "224 block7a_dwconv False\n",
      "225 block7a_bn False\n",
      "226 block7a_activation False\n",
      "227 block7a_se_squeeze False\n",
      "228 block7a_se_reshape False\n",
      "229 block7a_se_reduce False\n",
      "230 block7a_se_expand False\n",
      "231 block7a_se_excite False\n",
      "232 block7a_project_conv False\n",
      "233 block7a_project_bn False\n",
      "234 top_conv False\n",
      "235 top_bn False\n",
      "236 top_activation False\n"
     ]
    }
   ],
   "source": [
    "# Check which layers are tuneable (trainable)\n",
    "for layer_number, layer in enumerate(base_model.layers):\n",
    "  print(layer_number, layer.name, layer.trainable)"
   ]
  },
  {
   "cell_type": "markdown",
   "metadata": {
    "id": "WT7tYrL8iNjt"
   },
   "source": [
    "Beautiful. This is exactly what we're after. \n",
    "\n",
    "Now to fine-tune the base model to our own data, we're going to unfreeze the top 10 layers and continue training our model for another 5 epochs.\n",
    "\n",
    "This means all of the base model's layers except for the last 10 will remain frozen and untrainable. And the weights in the remaining unfrozen layers will be updated during training.\n",
    "\n",
    "Ideally, we should see the model's performance improve.\n",
    "\n",
    "> 🤔 **Question:** How many layers should you unfreeze when training?\n",
    "\n",
    "There's no set rule for this. You could unfreeze every layer in the pretrained model or you could try unfreezing one layer at a time. Best to experiment with different amounts of unfreezing and fine-tuning to see what happens. Generally, the less data you have, the less layers you want to unfreeze and the more gradually you want to fine-tune.\n",
    "\n",
    "> 📖 **Resource:** The [ULMFiT (Universal Language Model Fine-tuning for Text Classification) paper](https://arxiv.org/abs/1801.06146) has a great series of experiments on fine-tuning models.\n",
    "\n",
    "To begin fine-tuning, we'll unfreeze the entire base model by setting its `trainable` attribute to `True`. Then we'll refreeze every layer in the base model except for the last 10 by looping through them and setting their `trainable` attribute to `False`. Finally, we'll recompile the model."
   ]
  },
  {
   "cell_type": "code",
   "execution_count": 43,
   "metadata": {
    "id": "0RN8aH82i__f"
   },
   "outputs": [],
   "source": [
    "base_model.trainable = True\n",
    "\n",
    "# Freeze all layers except for the\n",
    "for layer in base_model.layers[:-10]:\n",
    "  layer.trainable = False\n",
    "\n",
    "# Recompile the model (always recompile after any adjustments to a model)\n",
    "model_2.compile(loss=\"categorical_crossentropy\",\n",
    "              optimizer=tf.keras.optimizers.Adam(lr=0.0001), # lr is 10x lower than before for fine-tuning\n",
    "              metrics=[\"accuracy\"])"
   ]
  },
  {
   "cell_type": "markdown",
   "metadata": {
    "id": "rSVFvTiHjYP-"
   },
   "source": [
    "Wonderful, now let's check which layers of the pretrained model are trainable."
   ]
  },
  {
   "cell_type": "code",
   "execution_count": 44,
   "metadata": {
    "colab": {
     "base_uri": "https://localhost:8080/"
    },
    "id": "pyKYo9yB7Xjq",
    "outputId": "8e43382c-bdb5-4efa-d1bb-ee32e1cb1308"
   },
   "outputs": [
    {
     "name": "stdout",
     "output_type": "stream",
     "text": [
      "0 input_3 False\n",
      "1 rescaling_2 False\n",
      "2 normalization_2 False\n",
      "3 stem_conv_pad False\n",
      "4 stem_conv False\n",
      "5 stem_bn False\n",
      "6 stem_activation False\n",
      "7 block1a_dwconv False\n",
      "8 block1a_bn False\n",
      "9 block1a_activation False\n",
      "10 block1a_se_squeeze False\n",
      "11 block1a_se_reshape False\n",
      "12 block1a_se_reduce False\n",
      "13 block1a_se_expand False\n",
      "14 block1a_se_excite False\n",
      "15 block1a_project_conv False\n",
      "16 block1a_project_bn False\n",
      "17 block2a_expand_conv False\n",
      "18 block2a_expand_bn False\n",
      "19 block2a_expand_activation False\n",
      "20 block2a_dwconv_pad False\n",
      "21 block2a_dwconv False\n",
      "22 block2a_bn False\n",
      "23 block2a_activation False\n",
      "24 block2a_se_squeeze False\n",
      "25 block2a_se_reshape False\n",
      "26 block2a_se_reduce False\n",
      "27 block2a_se_expand False\n",
      "28 block2a_se_excite False\n",
      "29 block2a_project_conv False\n",
      "30 block2a_project_bn False\n",
      "31 block2b_expand_conv False\n",
      "32 block2b_expand_bn False\n",
      "33 block2b_expand_activation False\n",
      "34 block2b_dwconv False\n",
      "35 block2b_bn False\n",
      "36 block2b_activation False\n",
      "37 block2b_se_squeeze False\n",
      "38 block2b_se_reshape False\n",
      "39 block2b_se_reduce False\n",
      "40 block2b_se_expand False\n",
      "41 block2b_se_excite False\n",
      "42 block2b_project_conv False\n",
      "43 block2b_project_bn False\n",
      "44 block2b_drop False\n",
      "45 block2b_add False\n",
      "46 block3a_expand_conv False\n",
      "47 block3a_expand_bn False\n",
      "48 block3a_expand_activation False\n",
      "49 block3a_dwconv_pad False\n",
      "50 block3a_dwconv False\n",
      "51 block3a_bn False\n",
      "52 block3a_activation False\n",
      "53 block3a_se_squeeze False\n",
      "54 block3a_se_reshape False\n",
      "55 block3a_se_reduce False\n",
      "56 block3a_se_expand False\n",
      "57 block3a_se_excite False\n",
      "58 block3a_project_conv False\n",
      "59 block3a_project_bn False\n",
      "60 block3b_expand_conv False\n",
      "61 block3b_expand_bn False\n",
      "62 block3b_expand_activation False\n",
      "63 block3b_dwconv False\n",
      "64 block3b_bn False\n",
      "65 block3b_activation False\n",
      "66 block3b_se_squeeze False\n",
      "67 block3b_se_reshape False\n",
      "68 block3b_se_reduce False\n",
      "69 block3b_se_expand False\n",
      "70 block3b_se_excite False\n",
      "71 block3b_project_conv False\n",
      "72 block3b_project_bn False\n",
      "73 block3b_drop False\n",
      "74 block3b_add False\n",
      "75 block4a_expand_conv False\n",
      "76 block4a_expand_bn False\n",
      "77 block4a_expand_activation False\n",
      "78 block4a_dwconv_pad False\n",
      "79 block4a_dwconv False\n",
      "80 block4a_bn False\n",
      "81 block4a_activation False\n",
      "82 block4a_se_squeeze False\n",
      "83 block4a_se_reshape False\n",
      "84 block4a_se_reduce False\n",
      "85 block4a_se_expand False\n",
      "86 block4a_se_excite False\n",
      "87 block4a_project_conv False\n",
      "88 block4a_project_bn False\n",
      "89 block4b_expand_conv False\n",
      "90 block4b_expand_bn False\n",
      "91 block4b_expand_activation False\n",
      "92 block4b_dwconv False\n",
      "93 block4b_bn False\n",
      "94 block4b_activation False\n",
      "95 block4b_se_squeeze False\n",
      "96 block4b_se_reshape False\n",
      "97 block4b_se_reduce False\n",
      "98 block4b_se_expand False\n",
      "99 block4b_se_excite False\n",
      "100 block4b_project_conv False\n",
      "101 block4b_project_bn False\n",
      "102 block4b_drop False\n",
      "103 block4b_add False\n",
      "104 block4c_expand_conv False\n",
      "105 block4c_expand_bn False\n",
      "106 block4c_expand_activation False\n",
      "107 block4c_dwconv False\n",
      "108 block4c_bn False\n",
      "109 block4c_activation False\n",
      "110 block4c_se_squeeze False\n",
      "111 block4c_se_reshape False\n",
      "112 block4c_se_reduce False\n",
      "113 block4c_se_expand False\n",
      "114 block4c_se_excite False\n",
      "115 block4c_project_conv False\n",
      "116 block4c_project_bn False\n",
      "117 block4c_drop False\n",
      "118 block4c_add False\n",
      "119 block5a_expand_conv False\n",
      "120 block5a_expand_bn False\n",
      "121 block5a_expand_activation False\n",
      "122 block5a_dwconv False\n",
      "123 block5a_bn False\n",
      "124 block5a_activation False\n",
      "125 block5a_se_squeeze False\n",
      "126 block5a_se_reshape False\n",
      "127 block5a_se_reduce False\n",
      "128 block5a_se_expand False\n",
      "129 block5a_se_excite False\n",
      "130 block5a_project_conv False\n",
      "131 block5a_project_bn False\n",
      "132 block5b_expand_conv False\n",
      "133 block5b_expand_bn False\n",
      "134 block5b_expand_activation False\n",
      "135 block5b_dwconv False\n",
      "136 block5b_bn False\n",
      "137 block5b_activation False\n",
      "138 block5b_se_squeeze False\n",
      "139 block5b_se_reshape False\n",
      "140 block5b_se_reduce False\n",
      "141 block5b_se_expand False\n",
      "142 block5b_se_excite False\n",
      "143 block5b_project_conv False\n",
      "144 block5b_project_bn False\n",
      "145 block5b_drop False\n",
      "146 block5b_add False\n",
      "147 block5c_expand_conv False\n",
      "148 block5c_expand_bn False\n",
      "149 block5c_expand_activation False\n",
      "150 block5c_dwconv False\n",
      "151 block5c_bn False\n",
      "152 block5c_activation False\n",
      "153 block5c_se_squeeze False\n",
      "154 block5c_se_reshape False\n",
      "155 block5c_se_reduce False\n",
      "156 block5c_se_expand False\n",
      "157 block5c_se_excite False\n",
      "158 block5c_project_conv False\n",
      "159 block5c_project_bn False\n",
      "160 block5c_drop False\n",
      "161 block5c_add False\n",
      "162 block6a_expand_conv False\n",
      "163 block6a_expand_bn False\n",
      "164 block6a_expand_activation False\n",
      "165 block6a_dwconv_pad False\n",
      "166 block6a_dwconv False\n",
      "167 block6a_bn False\n",
      "168 block6a_activation False\n",
      "169 block6a_se_squeeze False\n",
      "170 block6a_se_reshape False\n",
      "171 block6a_se_reduce False\n",
      "172 block6a_se_expand False\n",
      "173 block6a_se_excite False\n",
      "174 block6a_project_conv False\n",
      "175 block6a_project_bn False\n",
      "176 block6b_expand_conv False\n",
      "177 block6b_expand_bn False\n",
      "178 block6b_expand_activation False\n",
      "179 block6b_dwconv False\n",
      "180 block6b_bn False\n",
      "181 block6b_activation False\n",
      "182 block6b_se_squeeze False\n",
      "183 block6b_se_reshape False\n",
      "184 block6b_se_reduce False\n",
      "185 block6b_se_expand False\n",
      "186 block6b_se_excite False\n",
      "187 block6b_project_conv False\n",
      "188 block6b_project_bn False\n",
      "189 block6b_drop False\n",
      "190 block6b_add False\n",
      "191 block6c_expand_conv False\n",
      "192 block6c_expand_bn False\n",
      "193 block6c_expand_activation False\n",
      "194 block6c_dwconv False\n",
      "195 block6c_bn False\n",
      "196 block6c_activation False\n",
      "197 block6c_se_squeeze False\n",
      "198 block6c_se_reshape False\n",
      "199 block6c_se_reduce False\n",
      "200 block6c_se_expand False\n",
      "201 block6c_se_excite False\n",
      "202 block6c_project_conv False\n",
      "203 block6c_project_bn False\n",
      "204 block6c_drop False\n",
      "205 block6c_add False\n",
      "206 block6d_expand_conv False\n",
      "207 block6d_expand_bn False\n",
      "208 block6d_expand_activation False\n",
      "209 block6d_dwconv False\n",
      "210 block6d_bn False\n",
      "211 block6d_activation False\n",
      "212 block6d_se_squeeze False\n",
      "213 block6d_se_reshape False\n",
      "214 block6d_se_reduce False\n",
      "215 block6d_se_expand False\n",
      "216 block6d_se_excite False\n",
      "217 block6d_project_conv False\n",
      "218 block6d_project_bn False\n",
      "219 block6d_drop False\n",
      "220 block6d_add False\n",
      "221 block7a_expand_conv False\n",
      "222 block7a_expand_bn False\n",
      "223 block7a_expand_activation False\n",
      "224 block7a_dwconv False\n",
      "225 block7a_bn False\n",
      "226 block7a_activation False\n",
      "227 block7a_se_squeeze True\n",
      "228 block7a_se_reshape True\n",
      "229 block7a_se_reduce True\n",
      "230 block7a_se_expand True\n",
      "231 block7a_se_excite True\n",
      "232 block7a_project_conv True\n",
      "233 block7a_project_bn True\n",
      "234 top_conv True\n",
      "235 top_bn True\n",
      "236 top_activation True\n"
     ]
    }
   ],
   "source": [
    "# Check which layers are tuneable (trainable)\n",
    "for layer_number, layer in enumerate(base_model.layers):\n",
    "  print(layer_number, layer.name, layer.trainable)"
   ]
  },
  {
   "cell_type": "markdown",
   "metadata": {
    "id": "yHvSykH7jfRK"
   },
   "source": [
    "Nice! It seems all layers except for the last 10 are frozen and untrainable. This means only the last 10 layers of the base model along with the output layer will have their weights updated during training.\n",
    "\n",
    "> 🤔 **Question:** Why did we recompile the model?\n",
    "\n",
    "Every time you make a change to your models, you need to recompile them.\n",
    "\n",
    "In our case, we're using the exact same loss, optimizer and metrics as before, except this time the learning rate for our optimizer will be 10x smaller than before (0.0001 instead of Adam's default of 0.001).\n",
    "\n",
    "We do this so the model doesn't try to overwrite the existing weights in the pretrained model too fast. In other words, we want learning to be more gradual.\n",
    "\n",
    "> 🔑 **Note:** There's no set standard for setting the learning rate during fine-tuning, though reductions of [2.6x-10x+ seem to work well in practice](https://arxiv.org/abs/1801.06146).\n",
    "\n",
    "How many trainable variables do we have now?"
   ]
  },
  {
   "cell_type": "code",
   "execution_count": 45,
   "metadata": {
    "colab": {
     "base_uri": "https://localhost:8080/"
    },
    "id": "tbgcdnJIjicF",
    "outputId": "8b93480d-4fe7-4655-ff64-0175d1090ad7"
   },
   "outputs": [
    {
     "name": "stdout",
     "output_type": "stream",
     "text": [
      "12\n"
     ]
    }
   ],
   "source": [
    "print(len(model_2.trainable_variables))"
   ]
  },
  {
   "cell_type": "markdown",
   "metadata": {
    "id": "J5wKmzBeuty7"
   },
   "source": [
    "Wonderful, it looks like our model has a total of 10 trainable variables, the last 10 layers of the base model and the weight and bias parameters of the Dense output layer.\n",
    "\n",
    "Time to fine-tune!\n",
    "\n",
    "We're going to continue training on from where our previous model finished. Since it trained for 5 epochs, our fine-tuning will begin on the epoch 5 and continue for another 5 epochs.\n",
    "\n",
    "To do this, we can use the `initial_epoch` parameter of the [`fit()`](https://keras.rstudio.com/reference/fit.html) method. We'll pass it the last epoch of the previous model's training history (`history_10_percent_data_aug.epoch[-1]`)."
   ]
  },
  {
   "cell_type": "code",
   "execution_count": 46,
   "metadata": {
    "colab": {
     "base_uri": "https://localhost:8080/"
    },
    "id": "uH6XM4ENjfRn",
    "outputId": "e873e2bb-77b2-43b8-95cb-e1c658484c62"
   },
   "outputs": [
    {
     "name": "stdout",
     "output_type": "stream",
     "text": [
      "Saving TensorBoard log files to: transfer_learning/10_percent_fine_tune_last_10/20220610-010151\n",
      "Epoch 5/10\n",
      "24/24 [==============================] - 12s 307ms/step - loss: 0.7079 - accuracy: 0.8027 - val_loss: 0.5734 - val_accuracy: 0.8207\n",
      "Epoch 6/10\n",
      "24/24 [==============================] - 5s 194ms/step - loss: 0.5542 - accuracy: 0.8387 - val_loss: 0.5613 - val_accuracy: 0.8109\n",
      "Epoch 7/10\n",
      "24/24 [==============================] - 5s 185ms/step - loss: 0.4897 - accuracy: 0.8533 - val_loss: 0.5140 - val_accuracy: 0.8339\n",
      "Epoch 8/10\n",
      "24/24 [==============================] - 5s 208ms/step - loss: 0.4364 - accuracy: 0.8720 - val_loss: 0.4971 - val_accuracy: 0.8289\n",
      "Epoch 9/10\n",
      "24/24 [==============================] - 4s 182ms/step - loss: 0.4313 - accuracy: 0.8760 - val_loss: 0.5047 - val_accuracy: 0.8355\n",
      "Epoch 10/10\n",
      "24/24 [==============================] - 5s 189ms/step - loss: 0.3805 - accuracy: 0.8907 - val_loss: 0.4782 - val_accuracy: 0.8388\n"
     ]
    }
   ],
   "source": [
    "# Fine tune for another 5 epochs\n",
    "fine_tune_epochs = initial_epochs + 5\n",
    "\n",
    "# Refit the model (same as model_2 except with more trainable layers)\n",
    "history_fine_10_percent_data_aug = model_2.fit(train_data_10_percent,\n",
    "                                               epochs=fine_tune_epochs,\n",
    "                                               validation_data=test_data,\n",
    "                                               initial_epoch=history_10_percent_data_aug.epoch[-1], # start from previous last epoch\n",
    "                                               validation_steps=int(0.25 * len(test_data)),\n",
    "                                               callbacks=[create_tensorboard_callback(\"transfer_learning\", \"10_percent_fine_tune_last_10\")]) # name experiment appropriately"
   ]
  },
  {
   "cell_type": "markdown",
   "metadata": {
    "id": "9lrTVkS5wJT7"
   },
   "source": [
    "> 🔑 **Note:** Fine-tuning usually takes far longer per epoch than feature extraction (due to updating more weights throughout a network).\n",
    "\n",
    "Ho ho, looks like our model has gained a few percentage points of accuracy! Let's evalaute it."
   ]
  },
  {
   "cell_type": "code",
   "execution_count": 47,
   "metadata": {
    "colab": {
     "base_uri": "https://localhost:8080/"
    },
    "id": "zbFET5Pj8U3F",
    "outputId": "021196e6-cac6-4b8d-92da-83f97d967f95"
   },
   "outputs": [
    {
     "name": "stdout",
     "output_type": "stream",
     "text": [
      "79/79 [==============================] - 2s 24ms/step - loss: 0.4931 - accuracy: 0.8300\n"
     ]
    }
   ],
   "source": [
    "# Evaluate the model on the test data\n",
    "results_fine_tune_10_percent = model_2.evaluate(test_data)"
   ]
  },
  {
   "cell_type": "markdown",
   "metadata": {
    "id": "lDnoGFCbwRe4"
   },
   "source": [
    "Remember, the results from evaluating the model might be slightly different to the outputs from training since during training we only evaluate on 25% of the test data.\n",
    "\n",
    "Alright, we need a way to evaluate our model's performance before and after fine-tuning. How about we write a function to compare the before and after?"
   ]
  },
  {
   "cell_type": "code",
   "execution_count": 48,
   "metadata": {
    "id": "8du2ihQNkm4W"
   },
   "outputs": [],
   "source": [
    "def compare_historys(original_history, new_history, initial_epochs=5):\n",
    "    \"\"\"\n",
    "    Compares two model history objects.\n",
    "    \"\"\"\n",
    "    # Get original history measurements\n",
    "    acc = original_history.history[\"accuracy\"]\n",
    "    loss = original_history.history[\"loss\"]\n",
    "\n",
    "    print(len(acc))\n",
    "\n",
    "    val_acc = original_history.history[\"val_accuracy\"]\n",
    "    val_loss = original_history.history[\"val_loss\"]\n",
    "\n",
    "    # Combine original history with new history\n",
    "    total_acc = acc + new_history.history[\"accuracy\"]\n",
    "    total_loss = loss + new_history.history[\"loss\"]\n",
    "\n",
    "    total_val_acc = val_acc + new_history.history[\"val_accuracy\"]\n",
    "    total_val_loss = val_loss + new_history.history[\"val_loss\"]\n",
    "\n",
    "    print(len(total_acc))\n",
    "    print(total_acc)\n",
    "\n",
    "    # Make plots\n",
    "    plt.figure(figsize=(8, 8))\n",
    "    plt.subplot(2, 1, 1)\n",
    "    plt.plot(total_acc, label='Training Accuracy')\n",
    "    plt.plot(total_val_acc, label='Validation Accuracy')\n",
    "    plt.plot([initial_epochs-1, initial_epochs-1],\n",
    "              plt.ylim(), label='Start Fine Tuning') # reshift plot around epochs\n",
    "    plt.legend(loc='lower right')\n",
    "    plt.title('Training and Validation Accuracy')\n",
    "\n",
    "    plt.subplot(2, 1, 2)\n",
    "    plt.plot(total_loss, label='Training Loss')\n",
    "    plt.plot(total_val_loss, label='Validation Loss')\n",
    "    plt.plot([initial_epochs-1, initial_epochs-1],\n",
    "              plt.ylim(), label='Start Fine Tuning') # reshift plot around epochs\n",
    "    plt.legend(loc='upper right')\n",
    "    plt.title('Training and Validation Loss')\n",
    "    plt.xlabel('epoch')\n",
    "    plt.show()"
   ]
  },
  {
   "cell_type": "markdown",
   "metadata": {
    "id": "L-SsaN7GxNOJ"
   },
   "source": [
    "This is where saving the history variables of our model training comes in handy. Let's see what happened after fine-tuning the last 10 layers of our model."
   ]
  },
  {
   "cell_type": "code",
   "execution_count": 49,
   "metadata": {
    "colab": {
     "base_uri": "https://localhost:8080/",
     "height": 585
    },
    "id": "BJANCd2e5Olt",
    "outputId": "aadf20cf-a4bf-4d02-c865-5d138ce1c006"
   },
   "outputs": [
    {
     "name": "stdout",
     "output_type": "stream",
     "text": [
      "5\n",
      "11\n",
      "[0.37599998712539673, 0.671999990940094, 0.7546666860580444, 0.781333327293396, 0.8080000281333923, 0.8026666641235352, 0.8386666774749756, 0.8533333539962769, 0.871999979019165, 0.8759999871253967, 0.890666663646698]\n"
     ]
    },
    {
     "ename": "NameError",
     "evalue": "name 'plt' is not defined",
     "output_type": "error",
     "traceback": [
      "\u001b[0;31m---------------------------------------------------------------------------\u001b[0m",
      "\u001b[0;31mNameError\u001b[0m                                 Traceback (most recent call last)",
      "\u001b[1;32m/home/datascience/Documents/tensorflow-deep-learning/05_transfer_learning_in_tensorflow_part_2_fine_tuning-Jean.ipynb Cell 103'\u001b[0m in \u001b[0;36m<cell line: 1>\u001b[0;34m()\u001b[0m\n\u001b[0;32m----> <a href='vscode-notebook-cell:/home/datascience/Documents/tensorflow-deep-learning/05_transfer_learning_in_tensorflow_part_2_fine_tuning-Jean.ipynb#ch0000102?line=0'>1</a>\u001b[0m compare_historys(original_history\u001b[39m=\u001b[39;49mhistory_10_percent_data_aug, \n\u001b[1;32m      <a href='vscode-notebook-cell:/home/datascience/Documents/tensorflow-deep-learning/05_transfer_learning_in_tensorflow_part_2_fine_tuning-Jean.ipynb#ch0000102?line=1'>2</a>\u001b[0m                  new_history\u001b[39m=\u001b[39;49mhistory_fine_10_percent_data_aug, \n\u001b[1;32m      <a href='vscode-notebook-cell:/home/datascience/Documents/tensorflow-deep-learning/05_transfer_learning_in_tensorflow_part_2_fine_tuning-Jean.ipynb#ch0000102?line=2'>3</a>\u001b[0m                  initial_epochs\u001b[39m=\u001b[39;49m\u001b[39m5\u001b[39;49m)\n",
      "\u001b[1;32m/home/datascience/Documents/tensorflow-deep-learning/05_transfer_learning_in_tensorflow_part_2_fine_tuning-Jean.ipynb Cell 101'\u001b[0m in \u001b[0;36mcompare_historys\u001b[0;34m(original_history, new_history, initial_epochs)\u001b[0m\n\u001b[1;32m     <a href='vscode-notebook-cell:/home/datascience/Documents/tensorflow-deep-learning/05_transfer_learning_in_tensorflow_part_2_fine_tuning-Jean.ipynb#ch0000100?line=21'>22</a>\u001b[0m \u001b[39mprint\u001b[39m(total_acc)\n\u001b[1;32m     <a href='vscode-notebook-cell:/home/datascience/Documents/tensorflow-deep-learning/05_transfer_learning_in_tensorflow_part_2_fine_tuning-Jean.ipynb#ch0000100?line=23'>24</a>\u001b[0m \u001b[39m# Make plots\u001b[39;00m\n\u001b[0;32m---> <a href='vscode-notebook-cell:/home/datascience/Documents/tensorflow-deep-learning/05_transfer_learning_in_tensorflow_part_2_fine_tuning-Jean.ipynb#ch0000100?line=24'>25</a>\u001b[0m plt\u001b[39m.\u001b[39mfigure(figsize\u001b[39m=\u001b[39m(\u001b[39m8\u001b[39m, \u001b[39m8\u001b[39m))\n\u001b[1;32m     <a href='vscode-notebook-cell:/home/datascience/Documents/tensorflow-deep-learning/05_transfer_learning_in_tensorflow_part_2_fine_tuning-Jean.ipynb#ch0000100?line=25'>26</a>\u001b[0m plt\u001b[39m.\u001b[39msubplot(\u001b[39m2\u001b[39m, \u001b[39m1\u001b[39m, \u001b[39m1\u001b[39m)\n\u001b[1;32m     <a href='vscode-notebook-cell:/home/datascience/Documents/tensorflow-deep-learning/05_transfer_learning_in_tensorflow_part_2_fine_tuning-Jean.ipynb#ch0000100?line=26'>27</a>\u001b[0m plt\u001b[39m.\u001b[39mplot(total_acc, label\u001b[39m=\u001b[39m\u001b[39m'\u001b[39m\u001b[39mTraining Accuracy\u001b[39m\u001b[39m'\u001b[39m)\n",
      "\u001b[0;31mNameError\u001b[0m: name 'plt' is not defined"
     ]
    }
   ],
   "source": [
    "compare_historys(original_history=history_10_percent_data_aug, \n",
    "                 new_history=history_fine_10_percent_data_aug, \n",
    "                 initial_epochs=5)"
   ]
  },
  {
   "cell_type": "markdown",
   "metadata": {
    "id": "G3FiQuJoxbOq"
   },
   "source": [
    "Alright, alright, seems like the curves are heading in the right direction after fine-tuning. But remember, it should be noted that fine-tuning usually works best with larger amounts of data."
   ]
  },
  {
   "cell_type": "markdown",
   "metadata": {
    "id": "zJMW2KKiqFsa"
   },
   "source": [
    "## Model 4: Fine-tuning an existing model all of the data\n",
    "\n",
    "Enough talk about how fine-tuning a model usually works with more data, let's try it out.\n",
    "\n",
    "We'll start by downloading the full version of our 10 food classes dataset.\n",
    "\n"
   ]
  },
  {
   "cell_type": "code",
   "execution_count": null,
   "metadata": {
    "colab": {
     "base_uri": "https://localhost:8080/"
    },
    "id": "WJp-39zmLgFO",
    "outputId": "41741808-c29a-4352-ef23-05827891bcd5"
   },
   "outputs": [
    {
     "name": "stdout",
     "output_type": "stream",
     "text": [
      "--2021-02-16 02:48:30--  https://storage.googleapis.com/ztm_tf_course/food_vision/10_food_classes_all_data.zip\n",
      "Resolving storage.googleapis.com (storage.googleapis.com)... 172.217.164.144, 172.253.115.128, 172.253.63.128, ...\n",
      "Connecting to storage.googleapis.com (storage.googleapis.com)|172.217.164.144|:443... connected.\n",
      "HTTP request sent, awaiting response... 200 OK\n",
      "Length: 519183241 (495M) [application/zip]\n",
      "Saving to: ‘10_food_classes_all_data.zip’\n",
      "\n",
      "10_food_classes_all 100%[===================>] 495.13M   124MB/s    in 4.1s    \n",
      "\n",
      "2021-02-16 02:48:35 (121 MB/s) - ‘10_food_classes_all_data.zip’ saved [519183241/519183241]\n",
      "\n"
     ]
    }
   ],
   "source": [
    "# Download and unzip 10 classes of data with all images\n",
    "!wget https://storage.googleapis.com/ztm_tf_course/food_vision/10_food_classes_all_data.zip \n",
    "unzip_data(\"10_food_classes_all_data.zip\")\n",
    "\n",
    "# Setup data directories\n",
    "train_dir = \"10_food_classes_all_data/train/\"\n",
    "test_dir = \"10_food_classes_all_data/test/\""
   ]
  },
  {
   "cell_type": "code",
   "execution_count": null,
   "metadata": {
    "colab": {
     "base_uri": "https://localhost:8080/"
    },
    "id": "XUhaT5repEp0",
    "outputId": "53695c66-5d13-4ee4-9e25-10066ac5f1b3"
   },
   "outputs": [
    {
     "name": "stdout",
     "output_type": "stream",
     "text": [
      "There are 2 directories and 0 images in '10_food_classes_all_data'.\n",
      "There are 10 directories and 0 images in '10_food_classes_all_data/train'.\n",
      "There are 0 directories and 750 images in '10_food_classes_all_data/train/ice_cream'.\n",
      "There are 0 directories and 750 images in '10_food_classes_all_data/train/ramen'.\n",
      "There are 0 directories and 750 images in '10_food_classes_all_data/train/chicken_wings'.\n",
      "There are 0 directories and 750 images in '10_food_classes_all_data/train/pizza'.\n",
      "There are 0 directories and 750 images in '10_food_classes_all_data/train/steak'.\n",
      "There are 0 directories and 750 images in '10_food_classes_all_data/train/fried_rice'.\n",
      "There are 0 directories and 750 images in '10_food_classes_all_data/train/hamburger'.\n",
      "There are 0 directories and 750 images in '10_food_classes_all_data/train/grilled_salmon'.\n",
      "There are 0 directories and 750 images in '10_food_classes_all_data/train/sushi'.\n",
      "There are 0 directories and 750 images in '10_food_classes_all_data/train/chicken_curry'.\n",
      "There are 10 directories and 0 images in '10_food_classes_all_data/test'.\n",
      "There are 0 directories and 250 images in '10_food_classes_all_data/test/ice_cream'.\n",
      "There are 0 directories and 250 images in '10_food_classes_all_data/test/ramen'.\n",
      "There are 0 directories and 250 images in '10_food_classes_all_data/test/chicken_wings'.\n",
      "There are 0 directories and 250 images in '10_food_classes_all_data/test/pizza'.\n",
      "There are 0 directories and 250 images in '10_food_classes_all_data/test/steak'.\n",
      "There are 0 directories and 250 images in '10_food_classes_all_data/test/fried_rice'.\n",
      "There are 0 directories and 250 images in '10_food_classes_all_data/test/hamburger'.\n",
      "There are 0 directories and 250 images in '10_food_classes_all_data/test/grilled_salmon'.\n",
      "There are 0 directories and 250 images in '10_food_classes_all_data/test/sushi'.\n",
      "There are 0 directories and 250 images in '10_food_classes_all_data/test/chicken_curry'.\n"
     ]
    }
   ],
   "source": [
    "# How many images are we working with now?\n",
    "walk_through_dir(\"10_food_classes_all_data\")"
   ]
  },
  {
   "cell_type": "markdown",
   "metadata": {
    "id": "4uwDRLJ9z_bZ"
   },
   "source": [
    "And now we'll turn the images into tensors datasets."
   ]
  },
  {
   "cell_type": "code",
   "execution_count": null,
   "metadata": {
    "colab": {
     "base_uri": "https://localhost:8080/"
    },
    "id": "s-bF8cAKLzVt",
    "outputId": "8603a5da-c161-42b1-8134-bd1772510120"
   },
   "outputs": [
    {
     "name": "stdout",
     "output_type": "stream",
     "text": [
      "Found 7500 files belonging to 10 classes.\n",
      "Found 2500 files belonging to 10 classes.\n"
     ]
    }
   ],
   "source": [
    "# Setup data inputs\n",
    "import tensorflow as tf\n",
    "IMG_SIZE = (224, 224)\n",
    "train_data_10_classes_full = tf.keras.preprocessing.image_dataset_from_directory(train_dir,\n",
    "                                                                                 label_mode=\"categorical\",\n",
    "                                                                                 image_size=IMG_SIZE)\n",
    "\n",
    "# Note: this is the same test dataset we've been using for the previous modelling experiments\n",
    "test_data = tf.keras.preprocessing.image_dataset_from_directory(test_dir,\n",
    "                                                                label_mode=\"categorical\",\n",
    "                                                                image_size=IMG_SIZE)"
   ]
  },
  {
   "cell_type": "markdown",
   "metadata": {
    "id": "LdavTttb_H9u"
   },
   "source": [
    "Oh this is looking good. We've got 10x more images in of the training classes to work with.\n",
    "\n",
    "The **test dataset is the same** we've been using for our previous experiments.\n",
    "\n",
    "As it is now, our `model_2` has been fine-tuned on 10 percent of the data, so to begin fine-tuning on all of the data and keep our experiments consistent, we need to revert it back to the weights we checkpointed after 5 epochs of feature-extraction.\n",
    "\n",
    "To demonstrate this, we'll first evaluate the current `model_2`."
   ]
  },
  {
   "cell_type": "code",
   "execution_count": null,
   "metadata": {
    "colab": {
     "base_uri": "https://localhost:8080/"
    },
    "id": "pjrkv4n-428G",
    "outputId": "e5794a93-fcc2-4813-fa9c-203358a9b68c"
   },
   "outputs": [
    {
     "name": "stdout",
     "output_type": "stream",
     "text": [
      "79/79 [==============================] - 10s 118ms/step - loss: 0.4870 - accuracy: 0.8388\n"
     ]
    },
    {
     "data": {
      "text/plain": [
       "[0.4869591295719147, 0.8388000130653381]"
      ]
     },
     "execution_count": 62,
     "metadata": {
      "tags": []
     },
     "output_type": "execute_result"
    }
   ],
   "source": [
    "# Evaluate model (this is the fine-tuned 10 percent of data version)\n",
    "model_2.evaluate(test_data)"
   ]
  },
  {
   "cell_type": "markdown",
   "metadata": {
    "id": "tz-AAATk1pUP"
   },
   "source": [
    "These are the same values as `results_fine_tune_10_percent`."
   ]
  },
  {
   "cell_type": "code",
   "execution_count": null,
   "metadata": {
    "colab": {
     "base_uri": "https://localhost:8080/"
    },
    "id": "1D0wLFb01kaJ",
    "outputId": "ab7ec355-5961-4124-e2f3-623f161f4bc9"
   },
   "outputs": [
    {
     "data": {
      "text/plain": [
       "[0.48695918917655945, 0.8388000130653381]"
      ]
     },
     "execution_count": 63,
     "metadata": {
      "tags": []
     },
     "output_type": "execute_result"
    }
   ],
   "source": [
    "results_fine_tune_10_percent"
   ]
  },
  {
   "cell_type": "markdown",
   "metadata": {
    "id": "Ow6pvNQr1z0u"
   },
   "source": [
    "Now we'll revert the model back to the saved weights."
   ]
  },
  {
   "cell_type": "code",
   "execution_count": null,
   "metadata": {
    "colab": {
     "base_uri": "https://localhost:8080/"
    },
    "id": "zqVZlZzVHFys",
    "outputId": "c627895d-f210-4dc2-a67b-29f54bec5e14"
   },
   "outputs": [
    {
     "data": {
      "text/plain": [
       "<tensorflow.python.training.tracking.util.CheckpointLoadStatus at 0x7fcd9da1e4a8>"
      ]
     },
     "execution_count": 64,
     "metadata": {
      "tags": []
     },
     "output_type": "execute_result"
    }
   ],
   "source": [
    "# Load model from checkpoint, that way we can fine-tune from the same stage the 10 percent data model was fine-tuned from\n",
    "model_2.load_weights(checkpoint_path) # revert model back to saved weights"
   ]
  },
  {
   "cell_type": "markdown",
   "metadata": {
    "id": "95DM8uzT138v"
   },
   "source": [
    "And the results should be the same as `results_10_percent_data_aug`."
   ]
  },
  {
   "cell_type": "code",
   "execution_count": null,
   "metadata": {
    "colab": {
     "base_uri": "https://localhost:8080/"
    },
    "id": "wET1oWQC0yc2",
    "outputId": "fedf7481-bf03-4799-902d-8cba5c066ba1"
   },
   "outputs": [
    {
     "name": "stdout",
     "output_type": "stream",
     "text": [
      "79/79 [==============================] - 10s 117ms/step - loss: 0.7047 - accuracy: 0.8080\n"
     ]
    },
    {
     "data": {
      "text/plain": [
       "[0.7046542763710022, 0.8080000281333923]"
      ]
     },
     "execution_count": 65,
     "metadata": {
      "tags": []
     },
     "output_type": "execute_result"
    }
   ],
   "source": [
    "# After loading the weights, this should have gone down (no fine-tuning)\n",
    "model_2.evaluate(test_data)"
   ]
  },
  {
   "cell_type": "code",
   "execution_count": null,
   "metadata": {
    "colab": {
     "base_uri": "https://localhost:8080/"
    },
    "id": "246x0CejyN8b",
    "outputId": "1f7fc091-3d50-489c-b7bd-ca12ed6d650e"
   },
   "outputs": [
    {
     "data": {
      "text/plain": [
       "[0.7046541571617126, 0.8080000281333923]"
      ]
     },
     "execution_count": 66,
     "metadata": {
      "tags": []
     },
     "output_type": "execute_result"
    }
   ],
   "source": [
    "# Check to see if the above two results are the same (they should be)\n",
    "results_10_percent_data_aug"
   ]
  },
  {
   "cell_type": "markdown",
   "metadata": {
    "id": "4dGc9MML2Fn0"
   },
   "source": [
    "Alright, the previous steps might seem quite confusing but all we've done is:\n",
    "1. Trained a feature extraction transfer learning model for 5 epochs on 10% of the data (with all base model layers frozen) and saved the model's weights using `ModelCheckpoint`.\n",
    "2. Fine-tuned the same model on the same 10% of the data for a further 5 epochs with the top 10 layers of the base model unfrozen.\n",
    "3. Saved the results and training logs each time.\n",
    "4. Reloaded the model from 1 to do the same steps as 2 but with all of the data.\n",
    "\n",
    "The same steps as 2?\n",
    "\n",
    "Yeah, we're going to fine-tune the last 10 layers of the base model with the full dataset for another 5 epochs but first let's remind ourselves which layers are trainable."
   ]
  },
  {
   "cell_type": "code",
   "execution_count": null,
   "metadata": {
    "colab": {
     "base_uri": "https://localhost:8080/"
    },
    "id": "k5MWo0Mu6WYl",
    "outputId": "e573b4a0-b6ba-441f-a3c9-c5c5a01b59cb"
   },
   "outputs": [
    {
     "name": "stdout",
     "output_type": "stream",
     "text": [
      "0 input_layer True\n",
      "1 data_augmentation True\n",
      "2 efficientnetb0 True\n",
      "3 global_average_pooling_layer True\n",
      "4 output_layer True\n"
     ]
    }
   ],
   "source": [
    "# Check which layers are tuneable in the whole model\n",
    "for layer_number, layer in enumerate(model_2.layers):\n",
    "  print(layer_number, layer.name, layer.trainable)"
   ]
  },
  {
   "cell_type": "markdown",
   "metadata": {
    "id": "zGFZC_fz3M2i"
   },
   "source": [
    "Can we get a little more specific?"
   ]
  },
  {
   "cell_type": "code",
   "execution_count": null,
   "metadata": {
    "colab": {
     "base_uri": "https://localhost:8080/"
    },
    "id": "ojbNIiUV8oc2",
    "outputId": "cad2ac02-6c59-4430-cae8-f0c5d4528d64"
   },
   "outputs": [
    {
     "name": "stdout",
     "output_type": "stream",
     "text": [
      "0 input_3 False\n",
      "1 rescaling_2 False\n",
      "2 normalization_2 False\n",
      "3 stem_conv_pad False\n",
      "4 stem_conv False\n",
      "5 stem_bn False\n",
      "6 stem_activation False\n",
      "7 block1a_dwconv False\n",
      "8 block1a_bn False\n",
      "9 block1a_activation False\n",
      "10 block1a_se_squeeze False\n",
      "11 block1a_se_reshape False\n",
      "12 block1a_se_reduce False\n",
      "13 block1a_se_expand False\n",
      "14 block1a_se_excite False\n",
      "15 block1a_project_conv False\n",
      "16 block1a_project_bn False\n",
      "17 block2a_expand_conv False\n",
      "18 block2a_expand_bn False\n",
      "19 block2a_expand_activation False\n",
      "20 block2a_dwconv_pad False\n",
      "21 block2a_dwconv False\n",
      "22 block2a_bn False\n",
      "23 block2a_activation False\n",
      "24 block2a_se_squeeze False\n",
      "25 block2a_se_reshape False\n",
      "26 block2a_se_reduce False\n",
      "27 block2a_se_expand False\n",
      "28 block2a_se_excite False\n",
      "29 block2a_project_conv False\n",
      "30 block2a_project_bn False\n",
      "31 block2b_expand_conv False\n",
      "32 block2b_expand_bn False\n",
      "33 block2b_expand_activation False\n",
      "34 block2b_dwconv False\n",
      "35 block2b_bn False\n",
      "36 block2b_activation False\n",
      "37 block2b_se_squeeze False\n",
      "38 block2b_se_reshape False\n",
      "39 block2b_se_reduce False\n",
      "40 block2b_se_expand False\n",
      "41 block2b_se_excite False\n",
      "42 block2b_project_conv False\n",
      "43 block2b_project_bn False\n",
      "44 block2b_drop False\n",
      "45 block2b_add False\n",
      "46 block3a_expand_conv False\n",
      "47 block3a_expand_bn False\n",
      "48 block3a_expand_activation False\n",
      "49 block3a_dwconv_pad False\n",
      "50 block3a_dwconv False\n",
      "51 block3a_bn False\n",
      "52 block3a_activation False\n",
      "53 block3a_se_squeeze False\n",
      "54 block3a_se_reshape False\n",
      "55 block3a_se_reduce False\n",
      "56 block3a_se_expand False\n",
      "57 block3a_se_excite False\n",
      "58 block3a_project_conv False\n",
      "59 block3a_project_bn False\n",
      "60 block3b_expand_conv False\n",
      "61 block3b_expand_bn False\n",
      "62 block3b_expand_activation False\n",
      "63 block3b_dwconv False\n",
      "64 block3b_bn False\n",
      "65 block3b_activation False\n",
      "66 block3b_se_squeeze False\n",
      "67 block3b_se_reshape False\n",
      "68 block3b_se_reduce False\n",
      "69 block3b_se_expand False\n",
      "70 block3b_se_excite False\n",
      "71 block3b_project_conv False\n",
      "72 block3b_project_bn False\n",
      "73 block3b_drop False\n",
      "74 block3b_add False\n",
      "75 block4a_expand_conv False\n",
      "76 block4a_expand_bn False\n",
      "77 block4a_expand_activation False\n",
      "78 block4a_dwconv_pad False\n",
      "79 block4a_dwconv False\n",
      "80 block4a_bn False\n",
      "81 block4a_activation False\n",
      "82 block4a_se_squeeze False\n",
      "83 block4a_se_reshape False\n",
      "84 block4a_se_reduce False\n",
      "85 block4a_se_expand False\n",
      "86 block4a_se_excite False\n",
      "87 block4a_project_conv False\n",
      "88 block4a_project_bn False\n",
      "89 block4b_expand_conv False\n",
      "90 block4b_expand_bn False\n",
      "91 block4b_expand_activation False\n",
      "92 block4b_dwconv False\n",
      "93 block4b_bn False\n",
      "94 block4b_activation False\n",
      "95 block4b_se_squeeze False\n",
      "96 block4b_se_reshape False\n",
      "97 block4b_se_reduce False\n",
      "98 block4b_se_expand False\n",
      "99 block4b_se_excite False\n",
      "100 block4b_project_conv False\n",
      "101 block4b_project_bn False\n",
      "102 block4b_drop False\n",
      "103 block4b_add False\n",
      "104 block4c_expand_conv False\n",
      "105 block4c_expand_bn False\n",
      "106 block4c_expand_activation False\n",
      "107 block4c_dwconv False\n",
      "108 block4c_bn False\n",
      "109 block4c_activation False\n",
      "110 block4c_se_squeeze False\n",
      "111 block4c_se_reshape False\n",
      "112 block4c_se_reduce False\n",
      "113 block4c_se_expand False\n",
      "114 block4c_se_excite False\n",
      "115 block4c_project_conv False\n",
      "116 block4c_project_bn False\n",
      "117 block4c_drop False\n",
      "118 block4c_add False\n",
      "119 block5a_expand_conv False\n",
      "120 block5a_expand_bn False\n",
      "121 block5a_expand_activation False\n",
      "122 block5a_dwconv False\n",
      "123 block5a_bn False\n",
      "124 block5a_activation False\n",
      "125 block5a_se_squeeze False\n",
      "126 block5a_se_reshape False\n",
      "127 block5a_se_reduce False\n",
      "128 block5a_se_expand False\n",
      "129 block5a_se_excite False\n",
      "130 block5a_project_conv False\n",
      "131 block5a_project_bn False\n",
      "132 block5b_expand_conv False\n",
      "133 block5b_expand_bn False\n",
      "134 block5b_expand_activation False\n",
      "135 block5b_dwconv False\n",
      "136 block5b_bn False\n",
      "137 block5b_activation False\n",
      "138 block5b_se_squeeze False\n",
      "139 block5b_se_reshape False\n",
      "140 block5b_se_reduce False\n",
      "141 block5b_se_expand False\n",
      "142 block5b_se_excite False\n",
      "143 block5b_project_conv False\n",
      "144 block5b_project_bn False\n",
      "145 block5b_drop False\n",
      "146 block5b_add False\n",
      "147 block5c_expand_conv False\n",
      "148 block5c_expand_bn False\n",
      "149 block5c_expand_activation False\n",
      "150 block5c_dwconv False\n",
      "151 block5c_bn False\n",
      "152 block5c_activation False\n",
      "153 block5c_se_squeeze False\n",
      "154 block5c_se_reshape False\n",
      "155 block5c_se_reduce False\n",
      "156 block5c_se_expand False\n",
      "157 block5c_se_excite False\n",
      "158 block5c_project_conv False\n",
      "159 block5c_project_bn False\n",
      "160 block5c_drop False\n",
      "161 block5c_add False\n",
      "162 block6a_expand_conv False\n",
      "163 block6a_expand_bn False\n",
      "164 block6a_expand_activation False\n",
      "165 block6a_dwconv_pad False\n",
      "166 block6a_dwconv False\n",
      "167 block6a_bn False\n",
      "168 block6a_activation False\n",
      "169 block6a_se_squeeze False\n",
      "170 block6a_se_reshape False\n",
      "171 block6a_se_reduce False\n",
      "172 block6a_se_expand False\n",
      "173 block6a_se_excite False\n",
      "174 block6a_project_conv False\n",
      "175 block6a_project_bn False\n",
      "176 block6b_expand_conv False\n",
      "177 block6b_expand_bn False\n",
      "178 block6b_expand_activation False\n",
      "179 block6b_dwconv False\n",
      "180 block6b_bn False\n",
      "181 block6b_activation False\n",
      "182 block6b_se_squeeze False\n",
      "183 block6b_se_reshape False\n",
      "184 block6b_se_reduce False\n",
      "185 block6b_se_expand False\n",
      "186 block6b_se_excite False\n",
      "187 block6b_project_conv False\n",
      "188 block6b_project_bn False\n",
      "189 block6b_drop False\n",
      "190 block6b_add False\n",
      "191 block6c_expand_conv False\n",
      "192 block6c_expand_bn False\n",
      "193 block6c_expand_activation False\n",
      "194 block6c_dwconv False\n",
      "195 block6c_bn False\n",
      "196 block6c_activation False\n",
      "197 block6c_se_squeeze False\n",
      "198 block6c_se_reshape False\n",
      "199 block6c_se_reduce False\n",
      "200 block6c_se_expand False\n",
      "201 block6c_se_excite False\n",
      "202 block6c_project_conv False\n",
      "203 block6c_project_bn False\n",
      "204 block6c_drop False\n",
      "205 block6c_add False\n",
      "206 block6d_expand_conv False\n",
      "207 block6d_expand_bn False\n",
      "208 block6d_expand_activation False\n",
      "209 block6d_dwconv False\n",
      "210 block6d_bn False\n",
      "211 block6d_activation False\n",
      "212 block6d_se_squeeze False\n",
      "213 block6d_se_reshape False\n",
      "214 block6d_se_reduce False\n",
      "215 block6d_se_expand False\n",
      "216 block6d_se_excite False\n",
      "217 block6d_project_conv False\n",
      "218 block6d_project_bn False\n",
      "219 block6d_drop False\n",
      "220 block6d_add False\n",
      "221 block7a_expand_conv False\n",
      "222 block7a_expand_bn False\n",
      "223 block7a_expand_activation False\n",
      "224 block7a_dwconv False\n",
      "225 block7a_bn False\n",
      "226 block7a_activation False\n",
      "227 block7a_se_squeeze True\n",
      "228 block7a_se_reshape True\n",
      "229 block7a_se_reduce True\n",
      "230 block7a_se_expand True\n",
      "231 block7a_se_excite True\n",
      "232 block7a_project_conv True\n",
      "233 block7a_project_bn True\n",
      "234 top_conv True\n",
      "235 top_bn True\n",
      "236 top_activation True\n"
     ]
    }
   ],
   "source": [
    "# Check which layers are tuneable in the base model\n",
    "for layer_number, layer in enumerate(base_model.layers):\n",
    "  print(layer_number, layer.name, layer.trainable)"
   ]
  },
  {
   "cell_type": "markdown",
   "metadata": {
    "id": "87Nf4mJn1Nin"
   },
   "source": [
    "Looking good! The last 10 layers are trainable (unfrozen).\n",
    "\n",
    "We've got one more step to do before we can begin fine-tuning.\n",
    "\n",
    "Do you remember what it is?\n",
    "\n",
    "I'll give you a hint. We just reloaded the weights to our model and what do we need to do every time we make a change to our models?\n",
    "\n",
    "Recompile them!\n",
    "\n",
    "This will be just as before."
   ]
  },
  {
   "cell_type": "code",
   "execution_count": null,
   "metadata": {
    "id": "vOGsq2qNHBzc"
   },
   "outputs": [],
   "source": [
    "# Compile\n",
    "model_2.compile(loss=\"categorical_crossentropy\",\n",
    "                optimizer=tf.keras.optimizers.Adam(lr=0.0001), # divide learning rate by 10 for fine-tuning\n",
    "                metrics=[\"accuracy\"])"
   ]
  },
  {
   "cell_type": "markdown",
   "metadata": {
    "id": "1D4dafTl30Pe"
   },
   "source": [
    "Alright, time to fine-tune on all of the data!"
   ]
  },
  {
   "cell_type": "code",
   "execution_count": null,
   "metadata": {
    "colab": {
     "base_uri": "https://localhost:8080/"
    },
    "id": "SpZS_khtJaYx",
    "outputId": "ca084bf0-a840-4634-e649-ccf32d9b7dbe"
   },
   "outputs": [
    {
     "name": "stdout",
     "output_type": "stream",
     "text": [
      "Saving TensorBoard log files to: transfer_learning/full_10_classes_fine_tune_last_10/20210216-025031\n",
      "Epoch 5/10\n",
      "235/235 [==============================] - 49s 190ms/step - loss: 0.7943 - accuracy: 0.7513 - val_loss: 0.4029 - val_accuracy: 0.8635\n",
      "Epoch 6/10\n",
      "235/235 [==============================] - 51s 215ms/step - loss: 0.6391 - accuracy: 0.7913 - val_loss: 0.3668 - val_accuracy: 0.8882\n",
      "Epoch 7/10\n",
      "235/235 [==============================] - 47s 198ms/step - loss: 0.5564 - accuracy: 0.8220 - val_loss: 0.3237 - val_accuracy: 0.9013\n",
      "Epoch 8/10\n",
      "235/235 [==============================] - 46s 192ms/step - loss: 0.5030 - accuracy: 0.8394 - val_loss: 0.3390 - val_accuracy: 0.8832\n",
      "Epoch 9/10\n",
      "235/235 [==============================] - 45s 191ms/step - loss: 0.4611 - accuracy: 0.8479 - val_loss: 0.3099 - val_accuracy: 0.8980\n",
      "Epoch 10/10\n",
      "235/235 [==============================] - 43s 183ms/step - loss: 0.4507 - accuracy: 0.8557 - val_loss: 0.2903 - val_accuracy: 0.9161\n"
     ]
    }
   ],
   "source": [
    "# Continue to train and fine-tune the model to our data\n",
    "fine_tune_epochs = initial_epochs + 5\n",
    "\n",
    "history_fine_10_classes_full = model_2.fit(train_data_10_classes_full,\n",
    "                                           epochs=fine_tune_epochs,\n",
    "                                           initial_epoch=history_10_percent_data_aug.epoch[-1],\n",
    "                                           validation_data=test_data,\n",
    "                                           validation_steps=int(0.25 * len(test_data)),\n",
    "                                           callbacks=[create_tensorboard_callback(\"transfer_learning\", \"full_10_classes_fine_tune_last_10\")])"
   ]
  },
  {
   "cell_type": "markdown",
   "metadata": {
    "id": "0b-eZ2B935AC"
   },
   "source": [
    "> 🔑 **Note:** Training took longer per epoch, but that makes sense because we're using 10x more training data than before.\n",
    "\n",
    "Let's evaluate on all of the test data."
   ]
  },
  {
   "cell_type": "code",
   "execution_count": null,
   "metadata": {
    "colab": {
     "base_uri": "https://localhost:8080/"
    },
    "id": "zHEcLE3tRTlB",
    "outputId": "81300114-0fb9-4745-926d-f6c677dc0d3a"
   },
   "outputs": [
    {
     "name": "stdout",
     "output_type": "stream",
     "text": [
      "79/79 [==============================] - 10s 118ms/step - loss: 0.3264 - accuracy: 0.8988\n"
     ]
    },
    {
     "data": {
      "text/plain": [
       "[0.32638612389564514, 0.8988000154495239]"
      ]
     },
     "execution_count": 71,
     "metadata": {
      "tags": []
     },
     "output_type": "execute_result"
    }
   ],
   "source": [
    "results_fine_tune_full_data = model_2.evaluate(test_data)\n",
    "results_fine_tune_full_data"
   ]
  },
  {
   "cell_type": "markdown",
   "metadata": {
    "id": "PD17oZ-a4H84"
   },
   "source": [
    "Nice! It looks like fine-tuning with all of the data has given our model a boost, how do the training curves look?"
   ]
  },
  {
   "cell_type": "code",
   "execution_count": null,
   "metadata": {
    "colab": {
     "base_uri": "https://localhost:8080/",
     "height": 585
    },
    "id": "QwxgAW_l5Meg",
    "outputId": "db323b5d-0698-42b3-8704-e51ae49f4f8e"
   },
   "outputs": [
    {
     "name": "stdout",
     "output_type": "stream",
     "text": [
      "5\n",
      "11\n",
      "[0.3293333351612091, 0.6453333497047424, 0.7333333492279053, 0.7693333625793457, 0.7946666479110718, 0.7675999999046326, 0.8066666722297668, 0.8333333134651184, 0.8478666543960571, 0.8511999845504761, 0.8655999898910522]\n"
     ]
    },
    {
     "data": {
      "image/png": "[encoded data removed]",
      "text/plain": [
       "<Figure size 576x576 with 2 Axes>"
      ]
     },
     "metadata": {
      "needs_background": "light",
      "tags": []
     },
     "output_type": "display_data"
    }
   ],
   "source": [
    "# How did fine-tuning go with more data?\n",
    "compare_historys(original_history=history_10_percent_data_aug,\n",
    "                 new_history=history_fine_10_classes_full,\n",
    "                 initial_epochs=5)"
   ]
  },
  {
   "cell_type": "markdown",
   "metadata": {
    "id": "MZvQ-7v55RVR"
   },
   "source": [
    "Looks like that extra data helped! Those curves are looking great. And if we trained for longer, they might even keep improving."
   ]
  },
  {
   "cell_type": "markdown",
   "metadata": {
    "id": "rvElXran4brJ"
   },
   "source": [
    "## Viewing our experiment data on TensorBoard\n",
    "\n",
    "Right now our experimental results are scattered all throughout our notebook. If we want to share them with someone, they'd be getting a bunch of different graphs and metrics... not a fun time.\n",
    "\n",
    "But guess what?\n",
    "\n",
    "Thanks to the TensorBoard callback we made with our helper function `create_tensorflow_callback()`, we've been tracking our modelling experiments the whole time.\n",
    "\n",
    "How about we upload them to TensorBoard.dev and check them out?\n",
    "\n",
    "We can do with the `tensorboard dev upload` command and passing it the directory where our experiments have been logged.\n",
    "\n",
    "> 🔑 **Note:** Remember, whatever you upload to TensorBoard.dev becomes public. If there are training logs you don't want to share, don't upload them."
   ]
  },
  {
   "cell_type": "code",
   "execution_count": null,
   "metadata": {
    "colab": {
     "base_uri": "https://localhost:8080/",
     "height": 262
    },
    "id": "u_OCtijuI7gv",
    "outputId": "8c0e4120-e6ed-43ef-e438-26681e8a27cc"
   },
   "outputs": [
    {
     "name": "stdout",
     "output_type": "stream",
     "text": [
      "2020-09-17 22:51:36.043126: I tensorflow/stream_executor/platform/default/dso_loader.cc:48] Successfully opened dynamic library libcudart.so.10.1\n",
      "Data for the \"graphs\" plugin is now uploaded to TensorBoard.dev! Note that uploaded data is public. If you do not want to upload data for this plugin, use the \"--plugins\" command line argument.\n",
      "Data for the \"histograms\" plugin is now uploaded to TensorBoard.dev! Note that uploaded data is public. If you do not want to upload data for this plugin, use the \"--plugins\" command line argument.\n",
      "Data for the \"hparams\" plugin is now uploaded to TensorBoard.dev! Note that uploaded data is public. If you do not want to upload data for this plugin, use the \"--plugins\" command line argument.\n",
      "Upload started and will continue reading any new data as it's added\n",
      "to the logdir. To stop uploading, press Ctrl-C.\n",
      "\n",
      "View your TensorBoard live at: https://tensorboard.dev/experiment/2O76kw3PQbKl0lByfg5B4w/\n",
      "\n",
      "\u001b[1m[2020-09-17T22:51:37]\u001b[0m Uploader started.\n",
      "\u001b[1m[2020-09-17T22:51:47]\u001b[0m Total uploaded: 128 scalars, 0 tensors, 5 binary objects (9.1 MB)\n",
      "\u001b[2K\u001b[33mListening for new data in logdir...\u001b[0m\n",
      "Done. View your TensorBoard at https://tensorboard.dev/experiment/2O76kw3PQbKl0lByfg5B4w/\n"
     ]
    }
   ],
   "source": [
    "# View tensorboard logs of transfer learning modelling experiments (should be 4 models)\n",
    "# Upload TensorBoard dev records\n",
    "!tensorboard dev upload --logdir ./transfer_learning \\\n",
    "  --name \"Transfer learning experiments\" \\\n",
    "  --description \"A series of different transfer learning experiments with varying amounts of data and fine-tuning\" \\\n",
    "  --one_shot # exits the uploader when upload has finished"
   ]
  },
  {
   "cell_type": "markdown",
   "metadata": {
    "id": "fHrA0duU6txY"
   },
   "source": [
    "Once we've uploaded the results to TensorBoard.dev we get a shareable link we can use to view and compare our experiments and share our results with others if needed.\n",
    "\n",
    "You can view the original versions of the experiments we ran in this notebook here: https://tensorboard.dev/experiment/2O76kw3PQbKl0lByfg5B4w/\n",
    "\n",
    "> 🤔 **Question:** Which model performed the best? Why do you think this is? How did fine-tuning go?\n",
    "\n",
    "To find all of your previous TensorBoard.dev experiments using the command `tensorboard dev list`."
   ]
  },
  {
   "cell_type": "code",
   "execution_count": null,
   "metadata": {
    "colab": {
     "base_uri": "https://localhost:8080/",
     "height": 504
    },
    "id": "dy4FuwhrLKzr",
    "outputId": "b97e1f31-912f-4dfe-f66a-e415be5301d7"
   },
   "outputs": [
    {
     "name": "stdout",
     "output_type": "stream",
     "text": [
      "2020-09-17 22:51:48.747476: I tensorflow/stream_executor/platform/default/dso_loader.cc:48] Successfully opened dynamic library libcudart.so.10.1\n",
      "Data for the \"graphs\" plugin is now uploaded to TensorBoard.dev! Note that uploaded data is public. If you do not want to upload data for this plugin, use the \"--plugins\" command line argument.\n",
      "Data for the \"histograms\" plugin is now uploaded to TensorBoard.dev! Note that uploaded data is public. If you do not want to upload data for this plugin, use the \"--plugins\" command line argument.\n",
      "Data for the \"hparams\" plugin is now uploaded to TensorBoard.dev! Note that uploaded data is public. If you do not want to upload data for this plugin, use the \"--plugins\" command line argument.\n",
      "https://tensorboard.dev/experiment/2O76kw3PQbKl0lByfg5B4w/\n",
      "\tName                 Transfer learning experiments\n",
      "\tDescription          A series of different transfer learning experiments with varying amounts of data and fine-tuning\n",
      "\tId                   2O76kw3PQbKl0lByfg5B4w\n",
      "\tCreated              2020-09-17 22:51:37 (15 seconds ago)\n",
      "\tUpdated              2020-09-17 22:51:47 (5 seconds ago)\n",
      "\tRuns                 10\n",
      "\tTags                 3\n",
      "\tScalars              128\n",
      "\tTensor bytes         0\n",
      "\tBinary object bytes  9520961\n",
      "https://tensorboard.dev/experiment/73taSKxXQeGPQsNBcVvY3g/\n",
      "\tName                 EfficientNetB0 vs. ResNet50V2\n",
      "\tDescription          Comparing two different TF Hub feature extraction models architectures using 10% of training images\n",
      "\tId                   73taSKxXQeGPQsNBcVvY3g\n",
      "\tCreated              2020-09-14 05:02:48\n",
      "\tUpdated              2020-09-14 05:02:50\n",
      "\tRuns                 4\n",
      "\tTags                 3\n",
      "\tScalars              40\n",
      "\tTensor bytes         0\n",
      "\tBinary object bytes  3402042\n",
      "Total: 2 experiment(s)\n"
     ]
    }
   ],
   "source": [
    "# View previous experiments\n",
    "!tensorboard dev list"
   ]
  },
  {
   "cell_type": "markdown",
   "metadata": {
    "id": "icXKqZkn7HRA"
   },
   "source": [
    "And if you want to remove a previous experiment (and delete it from public viewing) you can use the command:\n",
    "\n",
    "```\n",
    "tensorboard dev delete --experiment_id [INSERT_EXPERIMENT_ID_TO_DELETE]```"
   ]
  },
  {
   "cell_type": "code",
   "execution_count": null,
   "metadata": {
    "colab": {
     "base_uri": "https://localhost:8080/",
     "height": 124
    },
    "id": "a4zeQFbF9XLm",
    "outputId": "3fd10503-23d8-4433-9683-30feda49dba1"
   },
   "outputs": [
    {
     "name": "stdout",
     "output_type": "stream",
     "text": [
      "2020-09-17 22:51:53.982454: I tensorflow/stream_executor/platform/default/dso_loader.cc:48] Successfully opened dynamic library libcudart.so.10.1\n",
      "Data for the \"graphs\" plugin is now uploaded to TensorBoard.dev! Note that uploaded data is public. If you do not want to upload data for this plugin, use the \"--plugins\" command line argument.\n",
      "Data for the \"histograms\" plugin is now uploaded to TensorBoard.dev! Note that uploaded data is public. If you do not want to upload data for this plugin, use the \"--plugins\" command line argument.\n",
      "Data for the \"hparams\" plugin is now uploaded to TensorBoard.dev! Note that uploaded data is public. If you do not want to upload data for this plugin, use the \"--plugins\" command line argument.\n",
      "No such experiment OUbW0O3pRqqQgAphVBxi8Q. Either it never existed or it has already been deleted.\n"
     ]
    }
   ],
   "source": [
    "# Remove previous experiments\n",
    "# !tensorboard dev delete --experiment_id OUbW0O3pRqqQgAphVBxi8Q"
   ]
  },
  {
   "cell_type": "markdown",
   "metadata": {
    "id": "P76rEQjPdR8m"
   },
   "source": [
    "## 🛠 Exercises\n",
    "\n",
    "1. Write a function to visualize an image from any dataset (train or test file) and any class (e.g. \"steak\", \"pizza\"... etc), visualize it and make a prediction on it using a trained model.\n",
    "2. Use feature-extraction to train a transfer learning model on 10% of the Food Vision data for 10 epochs using [`tf.keras.applications.EfficientNetB0`](https://www.tensorflow.org/api_docs/python/tf/keras/applications/EfficientNetB0) as the base model. Use the [`ModelCheckpoint`](https://www.tensorflow.org/api_docs/python/tf/keras/callbacks/ModelCheckpoint) callback to save the weights to file.\n",
    "3. Fine-tune the last 20 layers of the base model you trained in 2 for another 10 epochs. How did it go?\n",
    "4. Fine-tune the last 30 layers of the base model you trained in 2 for another 10 epochs. How did it go?"
   ]
  },
  {
   "cell_type": "markdown",
   "metadata": {
    "id": "AvwXqey-dhpT"
   },
   "source": [
    "## 📖 Extra-curriculum\n",
    "\n",
    "* Read the [documentation on data augmentation](https://www.tensorflow.org/tutorials/images/data_augmentation) in TensorFlow.\n",
    "* Read the [ULMFit paper](https://arxiv.org/abs/1801.06146) (technical) for an introduction to the concept of freezing and unfreezing different layers.\n",
    "* Read up on learning rate scheduling (there's a [TensorFlow callback](https://www.tensorflow.org/api_docs/python/tf/keras/callbacks/LearningRateScheduler) for this), how could this influence our model training?\n",
    "  * If you're training for longer, you probably want to reduce the learning rate as you go... the closer you get to the bottom of the hill, the smaller steps you want to take. Imagine it like finding a coin at the bottom of your couch. In the beginning your arm movements are going to be large and the closer you get, the smaller your movements become."
   ]
  }
 ],
 "metadata": {
  "accelerator": "GPU",
  "colab": {
   "authorship_tag": "ABX9TyMT2n+0Q+mlu+rts8JfbPTU",
   "collapsed_sections": [],
   "include_colab_link": true,
   "mount_file_id": "1alsWE48suOuUXaoAJQpo3-kuU2UJYXKR",
   "name": "05_transfer_learning_in_tensorflow_part_2_fine_tuning.ipynb",
   "provenance": [],
   "toc_visible": true
  },
  "kernelspec": {
   "display_name": "Python 3.10.4 64-bit",
   "language": "python",
   "name": "python3"
  },
  "language_info": {
   "codemirror_mode": {
    "name": "ipython",
    "version": 3
   },
   "file_extension": ".py",
   "mimetype": "text/x-python",
   "name": "python",
   "nbconvert_exporter": "python",
   "pygments_lexer": "ipython3",
   "version": "3.10.5"
  },
  "vscode": {
   "interpreter": {
    "hash": "e7370f93d1d0cde622a1f8e1c04877d8463912d04d973331ad4851f04de6915a"
   }
  }
 },
 "nbformat": 4,
 "nbformat_minor": 1
}
