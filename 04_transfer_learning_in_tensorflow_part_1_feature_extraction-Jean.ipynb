{
 "cells": [
  {
   "cell_type": "markdown",
   "metadata": {
    "colab_type": "text",
    "id": "view-in-github"
   },
   "source": [
    "<a href=\"https://colab.research.google.com/github/mrdbourke/tensorflow-deep-learning/blob/main/04_transfer_learning_in_tensorflow_part_1_feature_extraction.ipynb\" target=\"_parent\"><img src=\"https://colab.research.google.com/assets/colab-badge.svg\" alt=\"Open In Colab\"/></a>"
   ]
  },
  {
   "cell_type": "markdown",
   "metadata": {
    "id": "ObwiuiGkZb87"
   },
   "source": [
    "# 04. Transfer Learning with TensorFlow Part 1: Feature Extraction\n",
    "\n",
    "We've built a bunch of convolutional neural networks from scratch and they all seem to be learning, however, there is still plenty of room for improvement.\n",
    "\n",
    "To improve our model(s), we could spend a while trying different configurations, adding more layers, changing the learning rate, adjusting the number of neurons per layer and more.\n",
    "\n",
    "However, doing this is very time consuming.\n",
    "\n",
    "Luckily, there's a technique we can use to save time.\n",
    "\n",
    "It's called **transfer learning**, in other words, taking the patterns (also called weights) another model has learned from another problem and using them for our own problem.\n",
    "\n",
    "There are two main benefits to using transfer learning:\n",
    "1. Can leverage an existing neural network architecture proven to work on problems similar to our own.\n",
    "2. Can leverage a working neural network architecture which has **already learned** patterns on similar data to our own. This often results in achieving great results with less custom data.\n",
    "\n",
    "What this means is, instead of hand-crafting our own neural network architectures or building them from scratch, we can utilise models which have worked for others.\n",
    "\n",
    "And instead of training our own models from scratch on our own datasets, we can take the patterns a model has learned from datasets such as [ImageNet](http://www.image-net.org/) (millions of images of different objects) and use them as the foundation of our own. Doing this often leads to getting great results with less data.\n",
    "\n",
    "Over the next few notebooks, we'll see the power of transfer learning in action.\n",
    "\n",
    "## What we're going to cover\n",
    "\n",
    "We're going to go through the following with TensorFlow:\n",
    "\n",
    "- Introduce transfer learning (a way to beat all of our old self-built models)\n",
    "- Using a smaller dataset to experiment faster (10% of training samples of 10 classes of food)\n",
    "- Build a transfer learning feature extraction model using TensorFlow Hub\n",
    "- Introduce the TensorBoard callback to track model training results\n",
    "- Compare model results using TensorBoard\n",
    "\n",
    "## How you can use this notebook\n",
    "\n",
    "You can read through the descriptions and the code (it should all run, except for the cells which error on purpose), but there's a better option.\n",
    "\n",
    "Write all of the code yourself.\n",
    "\n",
    "Yes. I'm serious. Create a new notebook, and rewrite each line by yourself. Investigate it, see if you can break it, why does it break?\n",
    "\n",
    "You don't have to write the text descriptions but writing the code yourself is a great way to get hands-on experience.\n",
    "\n",
    "Don't worry if you make mistakes, we all do. The way to get better and make less mistakes is to **write more code**."
   ]
  },
  {
   "cell_type": "markdown",
   "metadata": {
    "id": "UTWetPM7AWfY"
   },
   "source": [
    "## Using a GPU\n",
    "\n",
    "To begin, let's check to see if we're using a GPU. Using a GPU will make sure our model trains faster than using just a CPU.\n"
   ]
  },
  {
   "cell_type": "code",
   "execution_count": 4,
   "metadata": {
    "colab": {
     "base_uri": "https://localhost:8080/"
    },
    "id": "Nq4kxIpQMpZT",
    "outputId": "5a53217a-7674-437c-df90-8e9ae37a54ed"
   },
   "outputs": [
    {
     "name": "stdout",
     "output_type": "stream",
     "text": [
      "Sat Apr  2 17:09:20 2022       \r\n",
      "+-----------------------------------------------------------------------------+\r\n",
      "| NVIDIA-SMI 510.60.02    Driver Version: 510.60.02    CUDA Version: 11.6     |\r\n",
      "|-------------------------------+----------------------+----------------------+\r\n",
      "| GPU  Name        Persistence-M| Bus-Id        Disp.A | Volatile Uncorr. ECC |\r\n",
      "| Fan  Temp  Perf  Pwr:Usage/Cap|         Memory-Usage | GPU-Util  Compute M. |\r\n",
      "|                               |                      |               MIG M. |\r\n",
      "|===============================+======================+======================|\r\n",
      "|   0  NVIDIA GeForce ...  Off  | 00000000:01:00.0  On |                  N/A |\r\n",
      "|  0%   34C    P8    41W / 400W |    426MiB / 12288MiB |     10%      Default |\r\n",
      "|                               |                      |                  N/A |\r\n",
      "+-------------------------------+----------------------+----------------------+\r\n",
      "                                                                               \r\n",
      "+-----------------------------------------------------------------------------+\r\n",
      "| Processes:                                                                  |\r\n",
      "|  GPU   GI   CI        PID   Type   Process name                  GPU Memory |\r\n",
      "|        ID   ID                                                   Usage      |\r\n",
      "|=============================================================================|\r\n",
      "|    0   N/A  N/A      1026      G   /usr/lib/Xorg                     209MiB |\r\n",
      "|    0   N/A  N/A      1093      G   /usr/bin/gnome-shell               46MiB |\r\n",
      "|    0   N/A  N/A      1540      G   ...684126704838145140,131072      163MiB |\r\n",
      "|    0   N/A  N/A     12610      G   gnome-control-center                4MiB |\r\n",
      "+-----------------------------------------------------------------------------+\r\n"
     ]
    }
   ],
   "source": [
    "# Are we using a GPU?\n",
    "!nvidia-smi"
   ]
  },
  {
   "cell_type": "markdown",
   "metadata": {
    "id": "Ol3NDTVlRLSv"
   },
   "source": [
    "If the cell above doesn't output something which looks like:\n",
    "\n",
    "```\n",
    "Fri Sep  4 03:35:21 2020       \n",
    "+-----------------------------------------------------------------------------+\n",
    "| NVIDIA-SMI 450.66       Driver Version: 418.67       CUDA Version: 10.1     |\n",
    "|-------------------------------+----------------------+----------------------+\n",
    "| GPU  Name        Persistence-M| Bus-Id        Disp.A | Volatile Uncorr. ECC |\n",
    "| Fan  Temp  Perf  Pwr:Usage/Cap|         Memory-Usage | GPU-Util  Compute M. |\n",
    "|                               |                      |               MIG M. |\n",
    "|===============================+======================+======================|\n",
    "|   0  Tesla P100-PCIE...  Off  | 00000000:00:04.0 Off |                    0 |\n",
    "| N/A   35C    P0    26W / 250W |      0MiB / 16280MiB |      0%      Default |\n",
    "|                               |                      |                 ERR! |\n",
    "+-------------------------------+----------------------+----------------------+\n",
    "                                                                               \n",
    "+-----------------------------------------------------------------------------+\n",
    "| Processes:                                                                  |\n",
    "|  GPU   GI   CI        PID   Type   Process name                  GPU Memory |\n",
    "|        ID   ID                                                   Usage      |\n",
    "|=============================================================================|\n",
    "|  No running processes found                                                 |\n",
    "+-----------------------------------------------------------------------------+\n",
    "```\n",
    "\n",
    "Go to Runtime -> Change Runtime Type -> Hardware Accelerator and select \"GPU\", then rerun the cell above."
   ]
  },
  {
   "cell_type": "markdown",
   "metadata": {
    "id": "7NY09457NKv4"
   },
   "source": [
    "## Transfer leanring with TensorFlow Hub: Getting great results with 10% of the data\n",
    "\n",
    "If you've been thinking, \"surely someone else has spent the time crafting the right model for the job...\" then you're in luck. \n",
    "\n",
    "For many of the problems you'll want to use deep learning for, chances are, a working model already exists.\n",
    "\n",
    "And the good news is, you can access many of them on TensorFlow Hub.\n",
    "\n",
    "[TensorFlow Hub](https://tfhub.dev/) is a repository for existing model components. It makes it so you can import and use a fully trained model with as little as a URL.\n",
    "\n",
    "Now, I really want to demonstrate the power of transfer learning to you.\n",
    "\n",
    "To do so, what if I told you we could get much of the same results (or better) than our best model has gotten so far with only 10% of the original data, in other words, 10x less data.\n",
    "\n",
    "This seems counterintuitive right?\n",
    "\n",
    "Wouldn't you think more examples of what a picture of food looked like led to better results?\n",
    "\n",
    "And you'd be right if you thought so, generally, more data leads to better results.\n",
    "\n",
    "However, what if you didn't have more data? What if instead of 750 images per class, you had 75 images per class?\n",
    "\n",
    "Collecting 675 more images of a certain class could take a long time.\n",
    "\n",
    "So this is where another major benefit of transfer learning comes in.\n",
    "\n",
    "**Transfer learning often allows you to get great results with less data.**\n",
    "\n",
    "But don't just take my word for it. Let's download a subset of the data we've been using, namely 10% of the training data from the `10_food_classes` dataset and use it to train a food image classifier on.\n",
    "\n",
    "![](https://raw.githubusercontent.com/mrdbourke/tensorflow-deep-learning/main/images/04-transfer-learning-feature-extraction.png)\n",
    "*What we're working towards building. Taking a pre-trained model and adding our own custom layers on top, extracting all of the underlying patterns learned on another dataset our own images.*\n",
    "\n"
   ]
  },
  {
   "cell_type": "markdown",
   "metadata": {
    "id": "UIwVrX6vXb4z"
   },
   "source": [
    "## Downloading and becoming one with the data"
   ]
  },
  {
   "cell_type": "code",
   "execution_count": 2,
   "metadata": {
    "colab": {
     "base_uri": "https://localhost:8080/"
    },
    "id": "qwWwP657Szfv",
    "outputId": "46b1d719-f47b-4918-92e8-92a18c1935b7"
   },
   "outputs": [
    {
     "name": "stdout",
     "output_type": "stream",
     "text": [
      "--2022-04-02 10:43:08--  https://storage.googleapis.com/ztm_tf_course/food_vision/10_food_classes_10_percent.zip\n",
      "Loaded CA certificate '/etc/ssl/certs/ca-certificates.crt'\n",
      "Resolving storage.googleapis.com (storage.googleapis.com)... 2607:f8b0:4008:80b::2010, 2607:f8b0:4008:80e::2010, 2607:f8b0:4008:807::2010, ...\n",
      "Connecting to storage.googleapis.com (storage.googleapis.com)|2607:f8b0:4008:80b::2010|:443... connected.\n",
      "HTTP request sent, awaiting response... 200 OK\n",
      "Length: 168546183 (161M) [application/zip]\n",
      "Saving to: ‘10_food_classes_10_percent.zip’\n",
      "\n",
      "10_food_classes_10_ 100%[===================>] 160.74M  6.34MB/s    in 25s     \n",
      "\n",
      "2022-04-02 10:43:33 (6.55 MB/s) - ‘10_food_classes_10_percent.zip’ saved [168546183/168546183]\n",
      "\n"
     ]
    }
   ],
   "source": [
    "# # Get data (10% of labels)\n",
    "# import zipfile\n",
    "\n",
    "# # Download data\n",
    "# !wget https://storage.googleapis.com/ztm_tf_course/food_vision/10_food_classes_10_percent.zip\n",
    "\n",
    "# # Unzip the downloaded file\n",
    "# zip_ref = zipfile.ZipFile(\"10_food_classes_10_percent.zip\", \"r\")\n",
    "# zip_ref.extractall()\n",
    "# zip_ref.close()"
   ]
  },
  {
   "cell_type": "code",
   "execution_count": 1,
   "metadata": {
    "colab": {
     "base_uri": "https://localhost:8080/"
    },
    "id": "agzJYtfFBl6I",
    "outputId": "f347e60c-72ed-49c6-e706-c8be3439bea4"
   },
   "outputs": [
    {
     "name": "stdout",
     "output_type": "stream",
     "text": [
      "There are 2 directories and 0 images in '10_food_classes_10_percent'.\n",
      "There are 10 directories and 0 images in '10_food_classes_10_percent/test'.\n",
      "There are 0 directories and 250 images in '10_food_classes_10_percent/test/grilled_salmon'.\n",
      "There are 0 directories and 250 images in '10_food_classes_10_percent/test/chicken_wings'.\n",
      "There are 0 directories and 250 images in '10_food_classes_10_percent/test/hamburger'.\n",
      "There are 0 directories and 250 images in '10_food_classes_10_percent/test/ramen'.\n",
      "There are 0 directories and 250 images in '10_food_classes_10_percent/test/steak'.\n",
      "There are 0 directories and 250 images in '10_food_classes_10_percent/test/ice_cream'.\n",
      "There are 0 directories and 250 images in '10_food_classes_10_percent/test/fried_rice'.\n",
      "There are 0 directories and 250 images in '10_food_classes_10_percent/test/pizza'.\n",
      "There are 0 directories and 250 images in '10_food_classes_10_percent/test/sushi'.\n",
      "There are 0 directories and 250 images in '10_food_classes_10_percent/test/chicken_curry'.\n",
      "There are 10 directories and 0 images in '10_food_classes_10_percent/train'.\n",
      "There are 0 directories and 75 images in '10_food_classes_10_percent/train/grilled_salmon'.\n",
      "There are 0 directories and 75 images in '10_food_classes_10_percent/train/chicken_wings'.\n",
      "There are 0 directories and 75 images in '10_food_classes_10_percent/train/hamburger'.\n",
      "There are 0 directories and 75 images in '10_food_classes_10_percent/train/ramen'.\n",
      "There are 0 directories and 75 images in '10_food_classes_10_percent/train/steak'.\n",
      "There are 0 directories and 75 images in '10_food_classes_10_percent/train/ice_cream'.\n",
      "There are 0 directories and 75 images in '10_food_classes_10_percent/train/fried_rice'.\n",
      "There are 0 directories and 75 images in '10_food_classes_10_percent/train/pizza'.\n",
      "There are 0 directories and 75 images in '10_food_classes_10_percent/train/sushi'.\n",
      "There are 0 directories and 75 images in '10_food_classes_10_percent/train/chicken_curry'.\n"
     ]
    }
   ],
   "source": [
    "import os\n",
    "\n",
    "for dirpath, dirnames, filenames in os.walk(\"10_food_classes_10_percent\"):\n",
    "    print(f\"There are {len(dirnames)} directories and {len(filenames)} images in '{dirpath}'.\")"
   ]
  },
  {
   "cell_type": "code",
   "execution_count": 2,
   "metadata": {},
   "outputs": [
    {
     "name": "stdout",
     "output_type": "stream",
     "text": [
      "There are 2 directories and 0 images in '10_food_classes_all_data'.\n",
      "There are 10 directories and 0 images in '10_food_classes_all_data/test'.\n",
      "There are 0 directories and 250 images in '10_food_classes_all_data/test/grilled_salmon'.\n",
      "There are 0 directories and 250 images in '10_food_classes_all_data/test/chicken_wings'.\n",
      "There are 0 directories and 250 images in '10_food_classes_all_data/test/hamburger'.\n",
      "There are 0 directories and 250 images in '10_food_classes_all_data/test/ramen'.\n",
      "There are 0 directories and 250 images in '10_food_classes_all_data/test/steak'.\n",
      "There are 0 directories and 250 images in '10_food_classes_all_data/test/ice_cream'.\n",
      "There are 0 directories and 250 images in '10_food_classes_all_data/test/fried_rice'.\n",
      "There are 0 directories and 250 images in '10_food_classes_all_data/test/pizza'.\n",
      "There are 0 directories and 250 images in '10_food_classes_all_data/test/sushi'.\n",
      "There are 0 directories and 250 images in '10_food_classes_all_data/test/chicken_curry'.\n",
      "There are 10 directories and 0 images in '10_food_classes_all_data/train'.\n",
      "There are 0 directories and 750 images in '10_food_classes_all_data/train/grilled_salmon'.\n",
      "There are 0 directories and 750 images in '10_food_classes_all_data/train/chicken_wings'.\n",
      "There are 0 directories and 750 images in '10_food_classes_all_data/train/hamburger'.\n",
      "There are 0 directories and 750 images in '10_food_classes_all_data/train/ramen'.\n",
      "There are 0 directories and 750 images in '10_food_classes_all_data/train/steak'.\n",
      "There are 0 directories and 750 images in '10_food_classes_all_data/train/ice_cream'.\n",
      "There are 0 directories and 750 images in '10_food_classes_all_data/train/fried_rice'.\n",
      "There are 0 directories and 750 images in '10_food_classes_all_data/train/pizza'.\n",
      "There are 0 directories and 750 images in '10_food_classes_all_data/train/sushi'.\n",
      "There are 0 directories and 750 images in '10_food_classes_all_data/train/chicken_curry'.\n"
     ]
    }
   ],
   "source": [
    "import os\n",
    "\n",
    "for dirpath, dirnames, filenames in os.walk(\"10_food_classes_all_data\"):\n",
    "    print(f\"There are {len(dirnames)} directories and {len(filenames)} images in '{dirpath}'.\")"
   ]
  },
  {
   "cell_type": "markdown",
   "metadata": {
    "id": "F0r-zyagV7Qa"
   },
   "source": [
    "Notice how each of the training directories now has 75 images rather than 750 images. This is key to demonstrating how well transfer learning can perform with less labelled images.\n",
    "\n",
    "The test directories still have the same amount of images. This means we'll be training on less data but evaluating our models on the same amount of test data."
   ]
  },
  {
   "cell_type": "markdown",
   "metadata": {
    "id": "EES-NoeaXfYT"
   },
   "source": [
    "## Creating data loaders (preparing the data)\n",
    "\n",
    "Now we've downloaded the data, let's use the [`ImageDataGenerator`](https://www.tensorflow.org/api_docs/python/tf/keras/preprocessing/image/ImageDataGenerator) class along with the `flow_from_directory` method to load in our images."
   ]
  },
  {
   "cell_type": "code",
   "execution_count": 3,
   "metadata": {
    "colab": {
     "base_uri": "https://localhost:8080/"
    },
    "id": "YAp0GN60S-rK",
    "outputId": "bb4a2dc3-fad9-416b-b81a-b2a0d3abcb45"
   },
   "outputs": [
    {
     "name": "stdout",
     "output_type": "stream",
     "text": [
      "Training Images:\n",
      "Found 750 images belonging to 10 classes.\n",
      "Testing images:\n",
      "Found 2500 images belonging to 10 classes.\n",
      "Training Images Full:\n",
      "Found 7500 images belonging to 10 classes.\n",
      "Testing Images Full:\n",
      "Found 2500 images belonging to 10 classes.\n"
     ]
    }
   ],
   "source": [
    "# Creating data loaders (preparing the data)\n",
    "\n",
    "from tensorflow.keras.preprocessing.image import ImageDataGenerator\n",
    "\n",
    "IMG_SHAPE = (224, 224)\n",
    "BATCH_SIZE = 32\n",
    "EPOCHS = 5\n",
    "\n",
    "train_dir = '10_food_classes_10_percent/train/'\n",
    "test_dir = '10_food_classes_10_percent/test/'\n",
    "\n",
    "train_dir_full = '10_food_classes_all_data/train/'\n",
    "test_dir_full = '10_food_classes_all_data/test/'\n",
    "\n",
    "train_datagen = ImageDataGenerator(rescale=1/255.)\n",
    "test_datagen = ImageDataGenerator(rescale=1/255.)\n",
    "\n",
    "train_datagen_full = ImageDataGenerator(rescale=1/255.)\n",
    "test_datagen_full = ImageDataGenerator(rescale=1/255.)\n",
    "\n",
    "print(\"Training Images:\")\n",
    "train_data_10_percent = train_datagen.flow_from_directory(\n",
    "    train_dir,\n",
    "    target_size=IMG_SHAPE,\n",
    "    batch_size=BATCH_SIZE,\n",
    "    class_mode='categorical'\n",
    ")\n",
    "\n",
    "print('Testing images:')\n",
    "test_data_10_percent = test_datagen.flow_from_directory(\n",
    "    test_dir,\n",
    "    target_size=IMG_SHAPE,\n",
    "    batch_size=BATCH_SIZE,\n",
    "    class_mode='categorical'\n",
    ")\n",
    "\n",
    "print('Training Images Full:')\n",
    "train_data_full = train_datagen_full.flow_from_directory(\n",
    "    train_dir_full,\n",
    "    target_size=IMG_SHAPE,\n",
    "    batch_size=BATCH_SIZE,\n",
    "    class_mode='categorical'\n",
    ")\n",
    "\n",
    "print('Testing Images Full:')\n",
    "test_data_full = test_datagen_full.flow_from_directory(\n",
    "    test_dir_full,\n",
    "    target_size=IMG_SHAPE,\n",
    "    batch_size=BATCH_SIZE,\n",
    "    class_mode='categorical'\n",
    ")"
   ]
  },
  {
   "cell_type": "markdown",
   "metadata": {
    "id": "6QWuVeSvQPoK"
   },
   "source": [
    "Excellent! Loading in the data we can see we've got 750 images in the training dataset belonging to 10 classes (75 per class) and 2500 images in the test set belonging to 10 classes (250 per class)."
   ]
  },
  {
   "cell_type": "markdown",
   "metadata": {
    "id": "6Qcwii2uYjOx"
   },
   "source": [
    "## Setting up callbacks (things to run whilst our model trains)\n",
    "\n",
    "Before we build a model, there's an important concept we're going to get familiar with because it's going to play a key role in our future model building experiments.\n",
    "\n",
    "And that concept is **callbacks**.\n",
    "\n",
    "[Callbacks](https://www.tensorflow.org/api_docs/python/tf/keras/callbacks) are extra functionality you can add to your models to be performed during or after training. Some of the most popular callbacks include:\n",
    "* [**Experiment tracking with TensorBoard**](https://www.tensorflow.org/api_docs/python/tf/keras/callbacks/TensorBoard) - log the performance of multiple models and then view and compare these models in a visual way on [TensorBoard](https://www.tensorflow.org/tensorboard) (a dashboard for inspecting neural network parameters). Helpful to compare the results of different models on your data.\n",
    "* [**Model checkpointing**](https://www.tensorflow.org/api_docs/python/tf/keras/callbacks/ModelCheckpoint) - save your model as it trains so you can stop training if needed and come back to continue off where you left. Helpful if training takes a long time and can't be done in one sitting.\n",
    "* [**Early stopping**](https://www.tensorflow.org/api_docs/python/tf/keras/callbacks/EarlyStopping) - leave your model training for an arbitrary amount of time and have it stop training automatically when it ceases to improve. Helpful when you've got a large dataset and don't know how long training will take.\n",
    "\n",
    "We'll explore each of these overtime but for this notebook, we'll see how the TensorBoard callback can be used.\n",
    "\n",
    "The TensorBoard callback can be accessed using [`tf.keras.callbacks.TensorBoard()`](https://www.tensorflow.org/api_docs/python/tf/keras/callbacks/TensorBoard). \n",
    "\n",
    "Its main functionality is saving a model's training performance metrics to a specified `log_dir`.\n",
    "\n",
    "By default, logs are recorded every epoch using the `update_freq='epoch'` parameter. This is a good default since tracking model performance too often can slow down model training.\n",
    "\n",
    "To track our modelling experiments using TensorBoard, let's create a function which creates a TensorBoard callback for us.\n",
    "\n",
    "> 🔑 **Note:** We create a function for creating a TensorBoard callback because as we'll see later on, each model needs its own TensorBoard callback instance (so the function will create a new one each time it's run).\n",
    "\n"
   ]
  },
  {
   "cell_type": "code",
   "execution_count": 4,
   "metadata": {
    "id": "2yamhJ8xJA5x"
   },
   "outputs": [],
   "source": [
    "# Create tensorboard callback (functionized because need to create a new one for each model)\n",
    "import datetime\n",
    "\n",
    "def create_tensorboard_callback(dir_name, experiment_name):\n",
    "    log_dir = dir_name + '/' + experiment_name + '/' + datetime.datetime.now().strftime('%Y%m%d-%H%M%S')\n",
    "    tensorboard_callback = tf.keras.callbacks.TensorBoard(log_dir=log_dir)\n",
    "    print(f'Saving TensorBoard log files to: {log_dir}')\n",
    "    return tensorboard_callback"
   ]
  },
  {
   "cell_type": "markdown",
   "metadata": {
    "id": "11TjBJQXdCyZ"
   },
   "source": [
    "Because you're likely to run multiple experiments, it's a good idea to be able to track them in some way.\n",
    "\n",
    "In our case, our function saves a model's performance logs to a directory named `[dir_name]/[experiment_name]/[current_timestamp]`, where:\n",
    "* `dir_name` is the overall logs directory\n",
    "* `experiment_name` is the particular experiment\n",
    "* `current_timestamp` is the time the experiment started based on Python's [`datetime.datetime().now()`](https://docs.python.org/3/library/datetime.html#datetime.datetime.now)\n",
    "\n",
    "> 🔑 **Note:** Depending on your use case, the above experimenting tracking naming method may work or you might require something more specific. The good news is, the TensorBoard callback makes it easy to track modelling logs as long as you specify where to track them. So you can get as creative as you like with how you name your experiments, just make sure you or your team can understand them.\n",
    "\n"
   ]
  },
  {
   "cell_type": "markdown",
   "metadata": {
    "id": "8UP8vA_nYoI7"
   },
   "source": [
    "## Creating models using TensorFlow Hub\n",
    "\n",
    "In the past we've used TensorFlow to create our own models layer by layer from scratch.\n",
    "\n",
    "Now we're going to do a similar process, except the majority of our model's layers are going to come from [TensorFlow Hub](https://tfhub.dev/).\n",
    "\n",
    "In fact, we're going to use two models from TensorFlow Hub:\n",
    "1. [ResNetV2](https://arxiv.org/abs/1603.05027) -  a state of the art computer vision model architecture from 2016.\n",
    "2. [EfficientNet](https://arxiv.org/abs/1905.11946) - a state of the art computer vision architecture from 2019.\n",
    "\n",
    "State of the art means that at some point, both of these models have achieved the lowest error rate on [ImageNet (ILSVRC-2012-CLS)](http://www.image-net.org/), the gold standard of computer vision benchmarks.\n",
    "\n",
    "You might be wondering, how do you find these models on TensorFlow Hub?\n",
    "\n",
    "Here are the steps I took:\n",
    "\n",
    "1. Go to [tfhub.dev](https://tfhub.dev/).\n",
    "2. Choose your problem domain, e.g. \"Image\" (we're using food images).\n",
    "3. Select your TF version, which in our case is TF2.\n",
    "4. Remove all \"Problem domanin\" filters except for the problem you're working on. \n",
    "  * **Note:** \"Image feature vector\" can be used alongside almost any problem, we'll get to this soon.\n",
    "5. The models listed are all models which could potentially be used for your problem.\n",
    "\n",
    "> 🤔 **Question:** *I see many options for image classification models, how do I know which is best?*\n",
    "\n",
    "You can see a list of state of the art models on [paperswithcode.com](https://www.paperswithcode.com), a resource for collecting the latest in deep learning paper results which have code implementations for the findings they report.\n",
    "\n",
    "Since we're working with images, our target are the [models which perform best on ImageNet](https://paperswithcode.com/sota/image-classification-on-imagenet).\n",
    "\n",
    "You'll probably find not all of the model architectures listed on paperswithcode appear on TensorFlow Hub. And this is okay, we can still use what's available.\n",
    "\n",
    "To find our models, let's narrow down our search using the Architecture tab.\n",
    "\n",
    "6. Select the Architecture tab on TensorFlow Hub and you'll see a dropdown menu of architecture names appear. \n",
    "  * The rule of thumb here is generally, names with larger numbers means better performing models. For example, EfficientNetB4 performs better than EfficientNetB0.\n",
    "    * However, the tradeoff with larger numbers can mean they take longer to compute. \n",
    "7. Select EfficientNetB0 and you should see [something like the following](https://tfhub.dev/s?module-type=image-classification,image-feature-vector&network-architecture=efficientnet-b0&tf-version=tf2):\n",
    "![](https://raw.githubusercontent.com/mrdbourke/tensorflow-deep-learning/main/images/04-tensorflow-hub-efficientnetb0.png)\n",
    "8. Clicking the one titled \"[efficientnet/b0/feature-vector](https://tfhub.dev/tensorflow/efficientnet/b0/feature-vector/1)\" brings us to a page with a button that says \"Copy URL\". That URL is what we can use to harness the power of EfficientNetB0.\n",
    "  * Copying the URL should give you something like this: https://tfhub.dev/tensorflow/efficientnet/b0/feature-vector/1\n",
    "\n",
    "> 🤔 **Question:** *I thought we were doing image classification, why do we choose feature vector and not classification?*\n",
    "\n",
    "Great observation. This is where the differnet types of transfer learning come into play, as is, feature extraction and fine-tuning.\n",
    "\n",
    "1. **\"As is\" transfer learning** is when you take a pretrained model as it is and apply it to your task without any changes. \n",
    "\n",
    "  * For example, many computer vision models are pretrained on the ImageNet dataset which contains 1000 different classes of images. This means passing a single image to this model will produce 1000 different prediction probability values (1 for each class). \n",
    "\n",
    "    * This is helpful if you have 1000 classes of image you'd like to classify and they're all the same as the ImageNet classes, however, it's not helpful if you want to classify only a small subset of classes (such as 10 different kinds of food). Model's with `\"/classification\"` in their name on TensorFlow Hub provide this kind of functionality.\n",
    "\n",
    "2. **Feature extraction transfer learning** is when you take the underlying patterns (also called weights) a pretrained model has learned and adjust its outputs to be more suited to your problem. \n",
    "\n",
    "  * For example, say the pretrained model you were using had 236 different layers (EfficientNetB0 has 236 layers), but the top layer outputs 1000 classes because it was pretrained on ImageNet. To adjust this to your own problem, you might remove the original activation layer and replace it with your own but with the right number of output classes. The important part here is that **only the top few layers become trainable, the rest remain frozen**. \n",
    "\n",
    "    * This way all the underlying patterns remain in the rest of the layers and you can utilise them for your own problem. This kind of transfer learning is very helpful when your data is similar to the data a model has been pretrained on.\n",
    "\n",
    "3. **Fine-tuning transfer learning** is when you take the underlying patterns (also called weights) of a pretrained model and adjust (fine-tune) them to your own problem. \n",
    "\n",
    "    * This usually means training **some, many or all** of the layers in the pretrained model. This is useful when you've got a large dataset (e.g. 100+ images per class) where your data is slightly different to the data the original model was trained on.\n",
    "\n",
    "A common workflow is to \"freeze\" all of the learned patterns in the bottom layers of a pretrained model so they're untrainable. And then train the top 2-3 layers of so the pretrained model can adjust its outputs to your custom data (**feature extraction**).\n",
    "\n",
    "After you've trained the top 2-3 layers, you can then gradually \"unfreeze\" more and more layers and run the training process on your own data to further **fine-tune** the pretrained model.\n",
    "\n",
    "> 🤔 **Question:** *Why train only the top 2-3 layers in feature extraction?*\n",
    "\n",
    "The lower a layer is in a computer vision model as in, the closer it is to the input layer, the larger the features it learn. For example, a bottom layer in a computer vision model to identify images of cats or dogs might learn the outline of legs, where as, layers closer to the output might learn the shape of teeth. Often, you'll want the larger features (learned patterns are also called features) to remain, since these are similar for both animals, where as, the differences remain in the more fine-grained features.\n",
    "\n",
    "![](https://raw.githubusercontent.com/mrdbourke/tensorflow-deep-learning/main/images/04-different-kinds-of-transfer-learning.png)\n",
    "*The different kinds of transfer learning. An original model, a feature extraction model (only top 2-3 layers change) and a fine-tuning model (many or all of original model get changed).*\n",
    "\n",
    "Okay, enough talk, let's see this in action. Once we do, we'll explain what's happening.\n",
    "\n",
    "First we'll import TensorFlow and TensorFlow Hub."
   ]
  },
  {
   "cell_type": "code",
   "execution_count": 6,
   "metadata": {
    "id": "xsoE9nUJNN6s"
   },
   "outputs": [],
   "source": [
    "import tensorflow as tf\n",
    "import tensorflow_hub as hub\n",
    "from tensorflow.keras import layers"
   ]
  },
  {
   "cell_type": "markdown",
   "metadata": {
    "id": "nvGge7Xevt_F"
   },
   "source": [
    "Now we'll get the feature vector URLs of two common computer vision architectures, [EfficientNetB0 (2019)](https://tfhub.dev/tensorflow/efficientnet/b0/feature-vector/1) and [ResNetV250 (2016)](https://tfhub.dev/google/imagenet/resnet_v2_50/feature_vector/4) from TensorFlow Hub using the steps above.\n",
    "\n",
    "We're getting both of these because we're going to compare them to see which performs better on our data.\n",
    "\n",
    "> 🔑 **Note:** Comparing different model architecture performance on the same data is a very common practice. The simple reason is because you want to know which model performs best for your problem.\n",
    "\n",
    "> **Update:** As of 14 August 2021, [EfficientNet V2 pretrained models are available on TensorFlow Hub](https://tfhub.dev/google/collections/efficientnet_v2/1). The original code in this notebook uses EfficientNet V1, it has been left unchanged. In [my experiments with this dataset](https://github.com/mrdbourke/tensorflow-deep-learning/discussions/166), V1 outperforms V2. Best to experiment with your own data and see what suits you."
   ]
  },
  {
   "cell_type": "code",
   "execution_count": 7,
   "metadata": {
    "id": "LZfUivHxOCbP"
   },
   "outputs": [],
   "source": [
    "# Resnet 50 V2 feature vector\n",
    "resnet_url = \"https://tfhub.dev/google/imagenet/resnet_v2_50/feature_vector/4\"\n",
    "\n",
    "# Original: EfficientNetB0 feature vector (version 1)\n",
    "efficientnet_url = \"https://tfhub.dev/tensorflow/efficientnet/b0/feature-vector/1\"\n",
    "\n",
    "# # New: EfficientNetB0 feature vector (version 2)\n",
    "# efficientnet_url = \"https://tfhub.dev/google/imagenet/efficientnet_v2_imagenet1k_b0/feature_vector/2\""
   ]
  },
  {
   "cell_type": "markdown",
   "metadata": {
    "id": "bdwjFaCRwdCX"
   },
   "source": [
    "These URLs link to a saved pretrained model on TensorFlow Hub.\n",
    "\n",
    "When we use them in our model, the model will automatically be downloaded for us to use.\n",
    "\n",
    "To do this, we can use the [`KerasLayer()`](https://www.tensorflow.org/hub/api_docs/python/hub/KerasLayer) model inside the TensorFlow hub library.\n",
    "\n",
    "Since we're going to be comparing two models, to save ourselves code, we'll create a function `create_model()`. This function will take a model's TensorFlow Hub URL, instatiate a Keras Sequential model with the appropriate number of output layers and return the model."
   ]
  },
  {
   "cell_type": "code",
   "execution_count": 18,
   "metadata": {
    "id": "p7vXoqSjId0f"
   },
   "outputs": [],
   "source": [
    "def create_model(model_url, num_classes=10):\n",
    "    \"\"\"Takes a TensorFlow Hub URL and creates a Keras Sequential model with it.\n",
    "\n",
    "    Args:\n",
    "    model_url (str): A TensorFlow Hub feature extraction URL.\n",
    "    num_classes (int): Number of output neurons in output layer,\n",
    "      should be equal to number of target classes, default 10.\n",
    "\n",
    "    Returns:\n",
    "    An uncompiled Keras Sequential model with model_url as feature\n",
    "    extractor layer and Dense output layer with num_classes outputs.\n",
    "    \"\"\"\n",
    "    # Download the pretrained model and save it as a Keras layer\n",
    "    feature_extractor_layer = hub.KerasLayer(model_url,\n",
    "                                            trainable=False,\n",
    "                                            name='feature_extraction_layer',\n",
    "                                            input_shape=IMG_SHAPE+(3,))\n",
    "\n",
    "    # Create our own model\n",
    "    model = tf.keras.Sequential([\n",
    "        feature_extractor_layer,\n",
    "        layers.Dense(num_classes, activation='softmax', name='output_layer')\n",
    "    ])\n",
    "\n",
    "    return model"
   ]
  },
  {
   "cell_type": "markdown",
   "metadata": {
    "id": "IirF2Ohlz-6i"
   },
   "source": [
    "Great! Now we've got a function for creating a model, we'll use it to first create a model using the ResNetV250 architecture as our feature extraction layer.\n",
    "\n",
    "Once the model is instantiated, we'll compile it using `categorical_crossentropy` as our loss function, the Adam optimizer and accuracy as our metric."
   ]
  },
  {
   "cell_type": "code",
   "execution_count": 19,
   "metadata": {
    "id": "-KVRwwbDT-HL"
   },
   "outputs": [],
   "source": [
    "# Create ResNet model 10 percent\n",
    "resnet_model = create_model(resnet_url, num_classes=train_data_10_percent.num_classes)\n",
    "\n",
    "# Compile\n",
    "resnet_model.compile(loss='categorical_crossentropy',\n",
    "                     optimizer=tf.keras.optimizers.Adam(),\n",
    "                     metrics=['accuracy'])"
   ]
  },
  {
   "cell_type": "code",
   "execution_count": 20,
   "metadata": {},
   "outputs": [
    {
     "name": "stdout",
     "output_type": "stream",
     "text": [
      "Model: \"sequential_2\"\n",
      "_________________________________________________________________\n",
      " Layer (type)                Output Shape              Param #   \n",
      "=================================================================\n",
      " feature_extraction_layer (K  (None, 2048)             23564800  \n",
      " erasLayer)                                                      \n",
      "                                                                 \n",
      " output_layer (Dense)        (None, 10)                20490     \n",
      "                                                                 \n",
      "=================================================================\n",
      "Total params: 23,585,290\n",
      "Trainable params: 20,490\n",
      "Non-trainable params: 23,564,800\n",
      "_________________________________________________________________\n"
     ]
    }
   ],
   "source": [
    "resnet_model.summary()"
   ]
  },
  {
   "cell_type": "markdown",
   "metadata": {
    "id": "ZinVcxBi0jsv"
   },
   "source": [
    "![](https://raw.githubusercontent.com/mrdbourke/tensorflow-deep-learning/main/images/04-resnet-feature-extractor.png)\n",
    "*What our current model looks like. A ResNet50V2 backbone with a custom dense layer on top (10 classes instead of 1000 ImageNet classes). **Note:** The Image shows ResNet34 instead of ResNet50. **Image source:** https://arxiv.org/abs/1512.03385.*\n",
    "\n",
    "Beautiful. Time to fit the model.\n",
    "\n",
    "We've got the training data ready in `train_data_10_percent` as well as the test data saved as `test_data`.\n",
    "\n",
    "But before we call the fit function, there's one more thing we're going to add, a callback. More specifically, a TensorBoard callback so we can track the performance of our model on TensorBoard.\n",
    "\n",
    "We can add a callback to our model by using the `callbacks` parameter in the fit function.\n",
    "\n",
    "In our case, we'll pass the `callbacks` parameter the `create_tensorboard_callback()` we created earlier with some specific inputs so we know what experiments we're running.\n",
    "\n",
    "Let's keep this experiment short and train for 5 epochs."
   ]
  },
  {
   "cell_type": "code",
   "execution_count": 21,
   "metadata": {
    "colab": {
     "base_uri": "https://localhost:8080/"
    },
    "id": "2GTl0fwE0Hx6",
    "outputId": "4cf373f4-7143-45b0-ddfc-d1cb009e555a"
   },
   "outputs": [
    {
     "name": "stdout",
     "output_type": "stream",
     "text": [
      "Saving TensorBoard log files to: tensorflow_hub/resnet50V2/20220402-194612\n",
      "Epoch 1/5\n",
      "24/24 [==============================] - 6s 182ms/step - loss: 1.8586 - accuracy: 0.3840 - val_loss: 1.1223 - val_accuracy: 0.6668\n",
      "Epoch 2/5\n",
      "24/24 [==============================] - 4s 171ms/step - loss: 0.8579 - accuracy: 0.7520 - val_loss: 0.8278 - val_accuracy: 0.7332\n",
      "Epoch 3/5\n",
      "24/24 [==============================] - 4s 170ms/step - loss: 0.6016 - accuracy: 0.8333 - val_loss: 0.7351 - val_accuracy: 0.7652\n",
      "Epoch 4/5\n",
      "24/24 [==============================] - 4s 168ms/step - loss: 0.4640 - accuracy: 0.8747 - val_loss: 0.6826 - val_accuracy: 0.7788\n",
      "Epoch 5/5\n",
      "24/24 [==============================] - 4s 169ms/step - loss: 0.3666 - accuracy: 0.9147 - val_loss: 0.6583 - val_accuracy: 0.7944\n"
     ]
    }
   ],
   "source": [
    "# Fit the model\n",
    "resnet_history = resnet_model.fit(train_data_10_percent,\n",
    "                                  epochs=5,\n",
    "                                  steps_per_epoch=len(train_data_10_percent),\n",
    "                                  validation_data=test_data_10_percent,\n",
    "                                  validation_steps=len(test_data_10_percent),\n",
    "                                  # Add TensorBoard callback to model (callbacks parameter takes a list)\n",
    "                                  callbacks=[create_tensorboard_callback(dir_name=\"tensorflow_hub\", # save experiment logs here\n",
    "                                                                         experiment_name=\"resnet50V2\")]) # name of log files"
   ]
  },
  {
   "cell_type": "markdown",
   "metadata": {
    "id": "i5SuOe672UJi"
   },
   "source": [
    "Wow! \n",
    "\n",
    "It seems that after only 5 epochs, the ResNetV250 feature extraction model was able to blow any of the architectures we made out of the water, achieving around 90% accuracy on the training set and nearly 80% accuracy on the test set...**with only 10 percent of the training images!**\n",
    "\n",
    "That goes to show the power of transfer learning. And it's one of the main reasons whenever you're trying to model your own datasets, you should look into what pretrained models already exist.\n",
    "\n",
    "Let's check out our model's training curves using our `plot_loss_curves` function."
   ]
  },
  {
   "cell_type": "code",
   "execution_count": 22,
   "metadata": {
    "id": "Ot2QPj41ODCQ"
   },
   "outputs": [],
   "source": [
    "# If you wanted to, you could really turn this into a helper function to load in with a helper.py script...\n",
    "import matplotlib.pyplot as plt\n",
    "\n",
    "# Plot the validation and training data separately\n",
    "def plot_loss_curves(history):\n",
    "  \"\"\"\n",
    "  Returns separate loss curves for training and validation metrics.\n",
    "  \"\"\" \n",
    "  loss = history.history['loss']\n",
    "  val_loss = history.history['val_loss']\n",
    "\n",
    "  accuracy = history.history['accuracy']\n",
    "  val_accuracy = history.history['val_accuracy']\n",
    "\n",
    "  epochs = range(len(history.history['loss']))\n",
    "\n",
    "  # Plot loss\n",
    "  plt.plot(epochs, loss, label='training_loss')\n",
    "  plt.plot(epochs, val_loss, label='val_loss')\n",
    "  plt.title('Loss')\n",
    "  plt.xlabel('Epochs')\n",
    "  plt.legend()\n",
    "\n",
    "  # Plot accuracy\n",
    "  plt.figure()\n",
    "  plt.plot(epochs, accuracy, label='training_accuracy')\n",
    "  plt.plot(epochs, val_accuracy, label='val_accuracy')\n",
    "  plt.title('Accuracy')\n",
    "  plt.xlabel('Epochs')\n",
    "  plt.legend();"
   ]
  },
  {
   "cell_type": "code",
   "execution_count": 23,
   "metadata": {
    "colab": {
     "base_uri": "https://localhost:8080/",
     "height": 573
    },
    "id": "ywQ9Wr9UODJ_",
    "outputId": "a225ebca-4308-4175-95e9-849c4bd21ab4"
   },
   "outputs": [
    {
     "data": {
      "image/png": "[encoded data removed]",
      "text/plain": [
       "<Figure size 432x288 with 1 Axes>"
      ]
     },
     "metadata": {
      "needs_background": "light"
     },
     "output_type": "display_data"
    },
    {
     "data": {
      "image/png": "[encoded data removed]",
      "text/plain": [
       "<Figure size 432x288 with 1 Axes>"
      ]
     },
     "metadata": {
      "needs_background": "light"
     },
     "output_type": "display_data"
    }
   ],
   "source": [
    "plot_loss_curves(resnet_history)"
   ]
  },
  {
   "cell_type": "markdown",
   "metadata": {
    "id": "5BGVFEIi3_CT"
   },
   "source": [
    "And what about a summary of our model?"
   ]
  },
  {
   "cell_type": "code",
   "execution_count": 24,
   "metadata": {
    "colab": {
     "base_uri": "https://localhost:8080/"
    },
    "id": "aps1FV4qWrZb",
    "outputId": "306849a0-a3a2-4404-d046-eceb7186871f"
   },
   "outputs": [
    {
     "name": "stdout",
     "output_type": "stream",
     "text": [
      "Model: \"sequential_2\"\n",
      "_________________________________________________________________\n",
      " Layer (type)                Output Shape              Param #   \n",
      "=================================================================\n",
      " feature_extraction_layer (K  (None, 2048)             23564800  \n",
      " erasLayer)                                                      \n",
      "                                                                 \n",
      " output_layer (Dense)        (None, 10)                20490     \n",
      "                                                                 \n",
      "=================================================================\n",
      "Total params: 23,585,290\n",
      "Trainable params: 20,490\n",
      "Non-trainable params: 23,564,800\n",
      "_________________________________________________________________\n"
     ]
    }
   ],
   "source": [
    "# Resnet summary \n",
    "resnet_model.summary()"
   ]
  },
  {
   "cell_type": "markdown",
   "metadata": {
    "id": "okdbmBA0SgCb"
   },
   "source": [
    "You can see the power of TensorFlow Hub here. The feature extraction layer has 23,564,800 parameters which are prelearned patterns the model has already learned on the ImageNet dataset. Since we set `trainable=False`, these patterns remain frozen (non-trainable) during training.\n",
    "\n",
    "This means during training the model updates the 20,490 parameters in the output layer to suit our dataset.\n",
    "\n",
    "Okay, we've trained a ResNetV250 model, time to do the same with EfficientNetB0 model.\n",
    "\n",
    "The setup will be the exact same as before, except for the `model_url` parameter in the `create_model()` function and the `experiment_name` parameter in the `create_tensorboard_callback()` function."
   ]
  },
  {
   "cell_type": "code",
   "execution_count": 26,
   "metadata": {
    "colab": {
     "base_uri": "https://localhost:8080/"
    },
    "id": "MrGi-CpMXHav",
    "outputId": "251ab535-7852-4e05-c356-dba75c37ba34"
   },
   "outputs": [
    {
     "name": "stdout",
     "output_type": "stream",
     "text": [
      "Saving TensorBoard log files to: tensorflow_hub/efficientnetB0/20220402-200842\n",
      "Epoch 1/5\n",
      "24/24 [==============================] - 12s 249ms/step - loss: 1.8093 - accuracy: 0.4640 - val_loss: 1.2970 - val_accuracy: 0.7104\n",
      "Epoch 2/5\n",
      "24/24 [==============================] - 4s 177ms/step - loss: 1.0455 - accuracy: 0.7693 - val_loss: 0.8786 - val_accuracy: 0.8060\n",
      "Epoch 3/5\n",
      "24/24 [==============================] - 4s 172ms/step - loss: 0.7498 - accuracy: 0.8307 - val_loss: 0.7069 - val_accuracy: 0.8276\n",
      "Epoch 4/5\n",
      "24/24 [==============================] - 4s 168ms/step - loss: 0.6088 - accuracy: 0.8613 - val_loss: 0.6220 - val_accuracy: 0.8456\n",
      "Epoch 5/5\n",
      "24/24 [==============================] - 4s 169ms/step - loss: 0.5156 - accuracy: 0.8867 - val_loss: 0.5649 - val_accuracy: 0.8532\n"
     ]
    }
   ],
   "source": [
    "# Create model\n",
    "efficientnet_model = create_model(model_url=efficientnet_url, # use EfficientNetB0 TensorFlow Hub URL\n",
    "                                  num_classes=train_data_10_percent.num_classes)\n",
    "\n",
    "# Compile EfficientNet model\n",
    "efficientnet_model.compile(loss='categorical_crossentropy',\n",
    "                           optimizer=tf.keras.optimizers.Adam(),\n",
    "                           metrics=['accuracy'])\n",
    "\n",
    "# Fit EfficientNet model \n",
    "efficientnet_history = efficientnet_model.fit(train_data_10_percent, # only use 10% of training data\n",
    "                                              epochs=5, # train for 5 epochs\n",
    "                                              steps_per_epoch=len(train_data_10_percent),\n",
    "                                              validation_data=test_data_10_percent,\n",
    "                                              validation_steps=len(test_data_10_percent),\n",
    "                                              callbacks=[create_tensorboard_callback(dir_name=\"tensorflow_hub\", \n",
    "                                                                                     # Track logs under different experiment name\n",
    "                                                                                     experiment_name=\"efficientnetB0\")])"
   ]
  },
  {
   "cell_type": "markdown",
   "metadata": {
    "id": "iMbtls4C57Dr"
   },
   "source": [
    "Holy smokes! The EfficientNetB0 model does even better than the ResNetV250 model! Achieving over 85% accuracy on the test set...again **with only 10% of the training data**.\n",
    "\n",
    "How cool is that?\n",
    "\n",
    "With a couple of lines of code we're able to leverage state of the art models and adjust them to our own use case.\n",
    "\n",
    "Let's check out the loss curves."
   ]
  },
  {
   "cell_type": "code",
   "execution_count": 27,
   "metadata": {
    "colab": {
     "base_uri": "https://localhost:8080/",
     "height": 573
    },
    "id": "8UzgNYFdODRB",
    "outputId": "24ffc097-9536-4ff7-f739-51bf2cf883a8"
   },
   "outputs": [
    {
     "data": {
      "image/png": "[encoded data removed]",
      "text/plain": [
       "<Figure size 432x288 with 1 Axes>"
      ]
     },
     "metadata": {
      "needs_background": "light"
     },
     "output_type": "display_data"
    },
    {
     "data": {
      "image/png": "[encoded data removed]",
      "text/plain": [
       "<Figure size 432x288 with 1 Axes>"
      ]
     },
     "metadata": {
      "needs_background": "light"
     },
     "output_type": "display_data"
    }
   ],
   "source": [
    "plot_loss_curves(efficientnet_history)"
   ]
  },
  {
   "cell_type": "markdown",
   "metadata": {
    "id": "pDi4i0H16tSa"
   },
   "source": [
    "From the look of the EfficientNetB0 model's loss curves, it looks like if we kept training our model for longer, it might improve even further. Perhaps that's something you might want to try?\n",
    "\n",
    "Let's check out the model summary."
   ]
  },
  {
   "cell_type": "code",
   "execution_count": 28,
   "metadata": {
    "colab": {
     "base_uri": "https://localhost:8080/"
    },
    "id": "clJzUbKpODXA",
    "outputId": "3538504b-1cc9-4569-db9e-b191ea37d20f"
   },
   "outputs": [
    {
     "name": "stdout",
     "output_type": "stream",
     "text": [
      "Model: \"sequential_4\"\n",
      "_________________________________________________________________\n",
      " Layer (type)                Output Shape              Param #   \n",
      "=================================================================\n",
      " feature_extraction_layer (K  (None, 1280)             4049564   \n",
      " erasLayer)                                                      \n",
      "                                                                 \n",
      " output_layer (Dense)        (None, 10)                12810     \n",
      "                                                                 \n",
      "=================================================================\n",
      "Total params: 4,062,374\n",
      "Trainable params: 12,810\n",
      "Non-trainable params: 4,049,564\n",
      "_________________________________________________________________\n"
     ]
    }
   ],
   "source": [
    "efficientnet_model.summary()"
   ]
  },
  {
   "cell_type": "markdown",
   "metadata": {
    "id": "KHTMjJG07ElO"
   },
   "source": [
    "It seems despite having over four times less parameters (4,049,564 vs. 23,564,800) than the ResNet50V2 extraction layer, the  EfficientNetB0 feature extraction layer yields better performance. Now it's clear where the \"efficient\" name came from."
   ]
  },
  {
   "cell_type": "markdown",
   "metadata": {
    "id": "YV_ZWKC8SkE_"
   },
   "source": [
    "## Comparing models using TensorBoard\n",
    "\n",
    "Alright, even though we've already compared the performance of our two models by looking at the accuracy scores. But what if you had more than two models? \n",
    "\n",
    "That's where an experiment tracking tool like [TensorBoard](https://www.tensorflow.org/tensorboard) (preinstalled in Google Colab) comes in.\n",
    "\n",
    "The good thing is, since we set up a TensorBoard callback, all of our model's training logs have been saved automatically. To visualize them, we can upload the results to [TensorBoard.dev](https://tensorboard.dev/).\n",
    "\n",
    "Uploading your results to TensorBoard.dev enables you to track and share multiple different modelling experiments. So if you needed to show someone your results, you could send them a link to your TensorBoard.dev as well as the accompanying Colab notebook.\n",
    "\n",
    "> 🔑 **Note:** These experiments are public, do not upload sensitive data. You can delete experiments if needed.\n",
    "\n",
    "### Uploading experiments to TensorBoard\n",
    "\n",
    "To upload a series of TensorFlow logs to TensorBoard, we can use the following command:\n",
    "\n",
    "```\n",
    "Upload TensorBoard dev records\n",
    "\n",
    "!tensorboard dev upload --logdir ./tensorflow_hub/ \\\n",
    "  --name \"EfficientNetB0 vs. ResNet50V2\" \\ \n",
    "  --description \"Comparing two different TF Hub feature extraction models architectures using 10% of training images\" \\ \n",
    "  --one_shot\n",
    "```\n",
    "\n",
    "Where:\n",
    "* `--logdir` is the target upload directory\n",
    "* `--name` is the name of the experiment\n",
    "* `--description` is a brief description of the experiment\n",
    "* `--one_shot` exits the TensorBoard uploader once uploading is finished\n",
    "\n",
    "Running the `tensorboard dev upload` command will first ask you to authorize the upload to TensorBoard.dev. After you've authorized the upload, your log files will be uploaded."
   ]
  },
  {
   "cell_type": "code",
   "execution_count": null,
   "metadata": {
    "colab": {
     "base_uri": "https://localhost:8080/",
     "height": 258
    },
    "id": "tbKgWdIVNncW",
    "outputId": "e344cf7c-7064-484d-f31b-4079735dc921",
    "scrolled": true
   },
   "outputs": [],
   "source": [
    "# # # Upload TensorBoard dev records\n",
    "# !tensorboard dev upload --logdir ./tensorflow_hub/ \\\n",
    "#   --name \"EfficientNetB0 vs. ResNet50V2\" \\\n",
    "#   --description \"Comparing two different TF Hub feature extraction models architectures using 10% of training images\" \\\n",
    "#   --one_shot"
   ]
  },
  {
   "cell_type": "markdown",
   "metadata": {
    "id": "FlVfmBdBOPvf"
   },
   "source": [
    "Every time you upload something to TensorBoad.dev you'll get a new experiment ID. The experiment ID will look something like this: https://tensorboard.dev/experiment/73taSKxXQeGPQsNBcVvY3g/ (this is the actual experiment from this notebook).\n",
    "\n",
    "If you upload the same directory again, you'll get a new experiment ID to go along with it.\n",
    "\n",
    "This means to track your experiments, you may want to look into how you name your uploads. That way when you find them on TensorBoard.dev you can tell what happened during each experiment (e.g. \"efficientnet0_10_percent_data\").\n",
    "\n",
    "### Listing experiments you've saved to TensorBoard\n",
    "\n",
    "To see all of the experiments you've uploaded you can use the command:\n",
    "\n",
    "```tensorboard dev list```"
   ]
  },
  {
   "cell_type": "code",
   "execution_count": null,
   "metadata": {
    "colab": {
     "base_uri": "https://localhost:8080/",
     "height": 496
    },
    "id": "sDamroaMOFJx",
    "outputId": "d086e0da-e091-4504-87d6-a50aa4636577",
    "scrolled": false
   },
   "outputs": [],
   "source": [
    "# # Check out experiments\n",
    "# !tensorboard dev list"
   ]
  },
  {
   "cell_type": "markdown",
   "metadata": {
    "id": "mdLUjm-xADQ4"
   },
   "source": [
    "### Deleting experiments from TensorBoard\n",
    "\n",
    "Remember, all uploads to TensorBoard.dev are public, so to delete an experiment you can use the command:\n",
    "\n",
    "`tensorboard dev delete --experiment_id [INSERT_EXPERIMENT_ID]`\n",
    "\n"
   ]
  },
  {
   "cell_type": "code",
   "execution_count": null,
   "metadata": {
    "colab": {
     "base_uri": "https://localhost:8080/",
     "height": 122
    },
    "id": "qj69wuAlT-xS",
    "outputId": "fcc4a104-85eb-4f66-aa43-8bc25b75a51a",
    "scrolled": true
   },
   "outputs": [],
   "source": [
    "# # Delete an experiment\n",
    "# !tensorboard dev delete --experiment_id N8FkFvSYSGeLInuXZqa56A\n",
    "# !tensorboard dev delete --experiment_id 4U7OzLbwSkCpBHnM2FvamA"
   ]
  },
  {
   "cell_type": "code",
   "execution_count": null,
   "metadata": {
    "colab": {
     "base_uri": "https://localhost:8080/",
     "height": 309
    },
    "id": "Oov6qKvbU1lL",
    "outputId": "9d2997d3-7278-4290-e8b8-f4fb2c9aab76"
   },
   "outputs": [],
   "source": [
    "# # Check to see if experiments still exist\n",
    "# !tensorboard dev list"
   ]
  },
  {
   "cell_type": "markdown",
   "metadata": {
    "id": "KLvUjrL2Y1Ed"
   },
   "source": [
    "## 🛠 Exercises\n",
    "\n",
    "1. Build and fit a model using the same data we have here but with the MobileNetV2 architecture feature extraction ([`mobilenet_v2_100_224/feature_vector`](https://tfhub.dev/google/imagenet/mobilenet_v2_100_224/feature_vector/4)) from TensorFlow Hub, how does it perform compared to our other models?\n",
    "2. Name 3 different image classification models on TensorFlow Hub that we haven't used.\n",
    "3. Build a model to classify images of two different things you've taken photos of.\n",
    "  * You can use any feature extraction layer from TensorFlow Hub you like for this.\n",
    "  * You should aim to have at least 10 images of each class, for example to build a fridge versus oven classifier, you'll want 10 images of fridges and 10 images of ovens.\n",
    "4. What is the current best performing model on ImageNet?\n",
    "  * Hint: you might want to check [sotabench.com](https://www.sotabench.com) for this."
   ]
  },
  {
   "cell_type": "markdown",
   "metadata": {
    "id": "w_YxwuhfRzD5"
   },
   "source": [
    "## 📖 Extra-curriculum\n",
    "\n",
    "* Read through the [TensorFlow Transfer Learning Guide](https://www.tensorflow.org/tutorials/images/transfer_learning) and define the main two types of transfer learning in your own words.\n",
    "* Go through the [Transfer Learning with TensorFlow Hub tutorial](https://www.tensorflow.org/tutorials/images/transfer_learning_with_hub) on the TensorFlow website and rewrite all of the code yourself into a new Google Colab notebook making comments about what each step does along the way.\n",
    "* We haven't covered fine-tuning with TensorFlow Hub in this notebook, but if you'd like to know more, go through the [fine-tuning a TensorFlow Hub model tutorial](https://www.tensorflow.org/hub/tf2_saved_model#fine-tuning) on the TensorFlow homepage.How to fine-tune a tensorflow hub model:  \n",
    "* Look into [experiment tracking with Weights & Biases](https://www.wandb.com/experiment-tracking), how could you integrate it with our existing TensorBoard logs?"
   ]
  }
 ],
 "metadata": {
  "accelerator": "GPU",
  "colab": {
   "authorship_tag": "ABX9TyPTOThku3umT+sZBpj2+yq/",
   "collapsed_sections": [],
   "include_colab_link": true,
   "name": "04_transfer_learning_in_tensorflow_part_1_feature_extraction.ipynb",
   "provenance": []
  },
  "kernelspec": {
   "display_name": "Python 3 (ipykernel)",
   "language": "python",
   "name": "python3"
  },
  "language_info": {
   "codemirror_mode": {
    "name": "ipython",
    "version": 3
   },
   "file_extension": ".py",
   "mimetype": "text/x-python",
   "name": "python",
   "nbconvert_exporter": "python",
   "pygments_lexer": "ipython3",
   "version": "3.10.4"
  }
 },
 "nbformat": 4,
 "nbformat_minor": 1
}
